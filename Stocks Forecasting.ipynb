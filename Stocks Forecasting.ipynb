{
 "cells": [
  {
   "cell_type": "code",
   "execution_count": 1,
   "metadata": {
    "execution": {
     "iopub.execute_input": "2024-05-17T12:31:37.610473Z",
     "iopub.status.busy": "2024-05-17T12:31:37.609622Z",
     "iopub.status.idle": "2024-05-17T12:31:51.041786Z",
     "shell.execute_reply": "2024-05-17T12:31:51.040981Z",
     "shell.execute_reply.started": "2024-05-17T12:31:37.610441Z"
    },
    "trusted": true
   },
   "outputs": [
    {
     "name": "stderr",
     "output_type": "stream",
     "text": [
      "2024-05-17 12:31:41.576748: E external/local_xla/xla/stream_executor/cuda/cuda_dnn.cc:9261] Unable to register cuDNN factory: Attempting to register factory for plugin cuDNN when one has already been registered\n",
      "2024-05-17 12:31:41.576840: E external/local_xla/xla/stream_executor/cuda/cuda_fft.cc:607] Unable to register cuFFT factory: Attempting to register factory for plugin cuFFT when one has already been registered\n",
      "2024-05-17 12:31:41.677116: E external/local_xla/xla/stream_executor/cuda/cuda_blas.cc:1515] Unable to register cuBLAS factory: Attempting to register factory for plugin cuBLAS when one has already been registered\n"
     ]
    }
   ],
   "source": [
    "import pandas as pd\n",
    "import numpy as np\n",
    "import matplotlib.pyplot as plt\n",
    "import seaborn as sns\n",
    "import pickle\n",
    "\n",
    "from scipy import stats\n",
    "from statsmodels.tsa.stattools import adfuller\n",
    "from statsmodels.tsa.arima.model import ARIMA\n",
    "from statsmodels.graphics.tsaplots import plot_acf, plot_pacf\n",
    "from statsmodels.tsa.statespace.sarimax import SARIMAX\n",
    "from statsmodels.tsa.holtwinters import ExponentialSmoothing\n",
    "from sklearn.preprocessing import StandardScaler, MinMaxScaler\n",
    "from sklearn.model_selection import train_test_split\n",
    "from sklearn.metrics import mean_squared_error, mean_absolute_error, r2_score, mean_absolute_percentage_error\n",
    "from sklearn.svm import SVR\n",
    "import tensorflow as tf\n",
    "from tensorflow.keras.models import Sequential\n",
    "from tensorflow.keras.layers import Dense, LSTM\n",
    "from prophet import Prophet\n",
    "import pandas as pd\n",
    "import numpy as np\n",
    "from scipy import stats\n",
    "import matplotlib.pyplot as plt\n",
    "from statsmodels.tsa.holtwinters import ExponentialSmoothing\n",
    "from statsmodels.tsa.statespace.sarimax import SARIMAX\n",
    "from sklearn.model_selection import TimeSeriesSplit\n",
    "from sklearn.metrics import mean_squared_error"
   ]
  },
  {
   "cell_type": "markdown",
   "metadata": {},
   "source": [
    "#### Data Loading"
   ]
  },
  {
   "cell_type": "code",
   "execution_count": 54,
   "metadata": {
    "execution": {
     "iopub.execute_input": "2024-05-17T08:16:41.789635Z",
     "iopub.status.busy": "2024-05-17T08:16:41.788962Z",
     "iopub.status.idle": "2024-05-17T08:16:42.436890Z",
     "shell.execute_reply": "2024-05-17T08:16:42.435822Z",
     "shell.execute_reply.started": "2024-05-17T08:16:41.789597Z"
    },
    "trusted": true
   },
   "outputs": [
    {
     "data": {
      "text/html": [
       "<div>\n",
       "<style scoped>\n",
       "    .dataframe tbody tr th:only-of-type {\n",
       "        vertical-align: middle;\n",
       "    }\n",
       "\n",
       "    .dataframe tbody tr th {\n",
       "        vertical-align: top;\n",
       "    }\n",
       "\n",
       "    .dataframe thead th {\n",
       "        text-align: right;\n",
       "    }\n",
       "</style>\n",
       "<table border=\"1\" class=\"dataframe\">\n",
       "  <thead>\n",
       "    <tr style=\"text-align: right;\">\n",
       "      <th></th>\n",
       "      <th>date</th>\n",
       "      <th>open</th>\n",
       "      <th>high</th>\n",
       "      <th>low</th>\n",
       "      <th>close</th>\n",
       "      <th>volume</th>\n",
       "      <th>Name</th>\n",
       "    </tr>\n",
       "  </thead>\n",
       "  <tbody>\n",
       "    <tr>\n",
       "      <th>0</th>\n",
       "      <td>2013-02-08</td>\n",
       "      <td>15.07</td>\n",
       "      <td>15.12</td>\n",
       "      <td>14.63</td>\n",
       "      <td>14.75</td>\n",
       "      <td>8407500</td>\n",
       "      <td>AAL</td>\n",
       "    </tr>\n",
       "    <tr>\n",
       "      <th>1</th>\n",
       "      <td>2013-02-11</td>\n",
       "      <td>14.89</td>\n",
       "      <td>15.01</td>\n",
       "      <td>14.26</td>\n",
       "      <td>14.46</td>\n",
       "      <td>8882000</td>\n",
       "      <td>AAL</td>\n",
       "    </tr>\n",
       "    <tr>\n",
       "      <th>2</th>\n",
       "      <td>2013-02-12</td>\n",
       "      <td>14.45</td>\n",
       "      <td>14.51</td>\n",
       "      <td>14.10</td>\n",
       "      <td>14.27</td>\n",
       "      <td>8126000</td>\n",
       "      <td>AAL</td>\n",
       "    </tr>\n",
       "    <tr>\n",
       "      <th>3</th>\n",
       "      <td>2013-02-13</td>\n",
       "      <td>14.30</td>\n",
       "      <td>14.94</td>\n",
       "      <td>14.25</td>\n",
       "      <td>14.66</td>\n",
       "      <td>10259500</td>\n",
       "      <td>AAL</td>\n",
       "    </tr>\n",
       "    <tr>\n",
       "      <th>4</th>\n",
       "      <td>2013-02-14</td>\n",
       "      <td>14.94</td>\n",
       "      <td>14.96</td>\n",
       "      <td>13.16</td>\n",
       "      <td>13.99</td>\n",
       "      <td>31879900</td>\n",
       "      <td>AAL</td>\n",
       "    </tr>\n",
       "    <tr>\n",
       "      <th>...</th>\n",
       "      <td>...</td>\n",
       "      <td>...</td>\n",
       "      <td>...</td>\n",
       "      <td>...</td>\n",
       "      <td>...</td>\n",
       "      <td>...</td>\n",
       "      <td>...</td>\n",
       "    </tr>\n",
       "    <tr>\n",
       "      <th>619035</th>\n",
       "      <td>2018-02-01</td>\n",
       "      <td>76.84</td>\n",
       "      <td>78.27</td>\n",
       "      <td>76.69</td>\n",
       "      <td>77.82</td>\n",
       "      <td>2982259</td>\n",
       "      <td>ZTS</td>\n",
       "    </tr>\n",
       "    <tr>\n",
       "      <th>619036</th>\n",
       "      <td>2018-02-02</td>\n",
       "      <td>77.53</td>\n",
       "      <td>78.12</td>\n",
       "      <td>76.73</td>\n",
       "      <td>76.78</td>\n",
       "      <td>2595187</td>\n",
       "      <td>ZTS</td>\n",
       "    </tr>\n",
       "    <tr>\n",
       "      <th>619037</th>\n",
       "      <td>2018-02-05</td>\n",
       "      <td>76.64</td>\n",
       "      <td>76.92</td>\n",
       "      <td>73.18</td>\n",
       "      <td>73.83</td>\n",
       "      <td>2962031</td>\n",
       "      <td>ZTS</td>\n",
       "    </tr>\n",
       "    <tr>\n",
       "      <th>619038</th>\n",
       "      <td>2018-02-06</td>\n",
       "      <td>72.74</td>\n",
       "      <td>74.56</td>\n",
       "      <td>72.13</td>\n",
       "      <td>73.27</td>\n",
       "      <td>4924323</td>\n",
       "      <td>ZTS</td>\n",
       "    </tr>\n",
       "    <tr>\n",
       "      <th>619039</th>\n",
       "      <td>2018-02-07</td>\n",
       "      <td>72.70</td>\n",
       "      <td>75.00</td>\n",
       "      <td>72.69</td>\n",
       "      <td>73.86</td>\n",
       "      <td>4534912</td>\n",
       "      <td>ZTS</td>\n",
       "    </tr>\n",
       "  </tbody>\n",
       "</table>\n",
       "<p>619040 rows × 7 columns</p>\n",
       "</div>"
      ],
      "text/plain": [
       "              date   open   high    low  close    volume Name\n",
       "0       2013-02-08  15.07  15.12  14.63  14.75   8407500  AAL\n",
       "1       2013-02-11  14.89  15.01  14.26  14.46   8882000  AAL\n",
       "2       2013-02-12  14.45  14.51  14.10  14.27   8126000  AAL\n",
       "3       2013-02-13  14.30  14.94  14.25  14.66  10259500  AAL\n",
       "4       2013-02-14  14.94  14.96  13.16  13.99  31879900  AAL\n",
       "...            ...    ...    ...    ...    ...       ...  ...\n",
       "619035  2018-02-01  76.84  78.27  76.69  77.82   2982259  ZTS\n",
       "619036  2018-02-02  77.53  78.12  76.73  76.78   2595187  ZTS\n",
       "619037  2018-02-05  76.64  76.92  73.18  73.83   2962031  ZTS\n",
       "619038  2018-02-06  72.74  74.56  72.13  73.27   4924323  ZTS\n",
       "619039  2018-02-07  72.70  75.00  72.69  73.86   4534912  ZTS\n",
       "\n",
       "[619040 rows x 7 columns]"
      ]
     },
     "execution_count": 54,
     "metadata": {},
     "output_type": "execute_result"
    }
   ],
   "source": [
    "df = pd.read_csv(r'/kaggle/input/stocks/all_stocks_5yr.csv')\n",
    "df"
   ]
  },
  {
   "cell_type": "code",
   "execution_count": 55,
   "metadata": {
    "execution": {
     "iopub.execute_input": "2024-05-17T08:16:42.439315Z",
     "iopub.status.busy": "2024-05-17T08:16:42.438971Z",
     "iopub.status.idle": "2024-05-17T08:16:42.612811Z",
     "shell.execute_reply": "2024-05-17T08:16:42.611757Z",
     "shell.execute_reply.started": "2024-05-17T08:16:42.439286Z"
    },
    "trusted": true
   },
   "outputs": [],
   "source": [
    "# Convert 'date' column to datetime formatz\n",
    "df['date'] = pd.to_datetime(df['date'])"
   ]
  },
  {
   "cell_type": "markdown",
   "metadata": {},
   "source": [
    "### Preprocessing"
   ]
  },
  {
   "cell_type": "code",
   "execution_count": 56,
   "metadata": {
    "execution": {
     "iopub.execute_input": "2024-05-17T08:16:42.614653Z",
     "iopub.status.busy": "2024-05-17T08:16:42.614177Z",
     "iopub.status.idle": "2024-05-17T08:16:42.718401Z",
     "shell.execute_reply": "2024-05-17T08:16:42.717284Z",
     "shell.execute_reply.started": "2024-05-17T08:16:42.614619Z"
    },
    "trusted": true
   },
   "outputs": [],
   "source": [
    "# Sort DataFrame by date (optional, for clarity in plotting)\n",
    "df.sort_values('date', inplace=True)"
   ]
  },
  {
   "cell_type": "code",
   "execution_count": 57,
   "metadata": {
    "execution": {
     "iopub.execute_input": "2024-05-17T08:16:42.721017Z",
     "iopub.status.busy": "2024-05-17T08:16:42.720709Z",
     "iopub.status.idle": "2024-05-17T08:16:42.793017Z",
     "shell.execute_reply": "2024-05-17T08:16:42.792129Z",
     "shell.execute_reply.started": "2024-05-17T08:16:42.720992Z"
    },
    "trusted": true
   },
   "outputs": [
    {
     "data": {
      "text/plain": [
       "date       0\n",
       "open      11\n",
       "high       8\n",
       "low        8\n",
       "close      0\n",
       "volume     0\n",
       "Name       0\n",
       "dtype: int64"
      ]
     },
     "execution_count": 57,
     "metadata": {},
     "output_type": "execute_result"
    }
   ],
   "source": [
    "df.isnull().sum()"
   ]
  },
  {
   "cell_type": "code",
   "execution_count": 58,
   "metadata": {
    "execution": {
     "iopub.execute_input": "2024-05-17T08:16:42.794756Z",
     "iopub.status.busy": "2024-05-17T08:16:42.794367Z",
     "iopub.status.idle": "2024-05-17T08:16:42.848982Z",
     "shell.execute_reply": "2024-05-17T08:16:42.848005Z",
     "shell.execute_reply.started": "2024-05-17T08:16:42.794729Z"
    },
    "trusted": true
   },
   "outputs": [],
   "source": [
    "# Sort DataFrame by date (optional, for clarity in plotting)\n",
    "df.sort_values('date', inplace=True)"
   ]
  },
  {
   "cell_type": "code",
   "execution_count": 59,
   "metadata": {
    "execution": {
     "iopub.execute_input": "2024-05-17T08:16:42.851163Z",
     "iopub.status.busy": "2024-05-17T08:16:42.850375Z",
     "iopub.status.idle": "2024-05-17T08:16:42.938534Z",
     "shell.execute_reply": "2024-05-17T08:16:42.937419Z",
     "shell.execute_reply.started": "2024-05-17T08:16:42.851127Z"
    },
    "trusted": true
   },
   "outputs": [
    {
     "name": "stdout",
     "output_type": "stream",
     "text": [
      "date      0\n",
      "open      0\n",
      "high      0\n",
      "low       0\n",
      "close     0\n",
      "volume    0\n",
      "Name      0\n",
      "dtype: int64\n"
     ]
    },
    {
     "name": "stderr",
     "output_type": "stream",
     "text": [
      "/tmp/ipykernel_34/6690573.py:6: FutureWarning: A value is trying to be set on a copy of a DataFrame or Series through chained assignment using an inplace method.\n",
      "The behavior will change in pandas 3.0. This inplace method will never work because the intermediate object on which we are setting values always behaves as a copy.\n",
      "\n",
      "For example, when doing 'df[col].method(value, inplace=True)', try using 'df.method({col: value}, inplace=True)' or df[col] = df[col].method(value) instead, to perform the operation inplace on the original object.\n",
      "\n",
      "\n",
      "  df['open'].fillna(mean_open, inplace=True)\n",
      "/tmp/ipykernel_34/6690573.py:7: FutureWarning: A value is trying to be set on a copy of a DataFrame or Series through chained assignment using an inplace method.\n",
      "The behavior will change in pandas 3.0. This inplace method will never work because the intermediate object on which we are setting values always behaves as a copy.\n",
      "\n",
      "For example, when doing 'df[col].method(value, inplace=True)', try using 'df.method({col: value}, inplace=True)' or df[col] = df[col].method(value) instead, to perform the operation inplace on the original object.\n",
      "\n",
      "\n",
      "  df['high'].fillna(mean_high, inplace=True)\n",
      "/tmp/ipykernel_34/6690573.py:8: FutureWarning: A value is trying to be set on a copy of a DataFrame or Series through chained assignment using an inplace method.\n",
      "The behavior will change in pandas 3.0. This inplace method will never work because the intermediate object on which we are setting values always behaves as a copy.\n",
      "\n",
      "For example, when doing 'df[col].method(value, inplace=True)', try using 'df.method({col: value}, inplace=True)' or df[col] = df[col].method(value) instead, to perform the operation inplace on the original object.\n",
      "\n",
      "\n",
      "  df['low'].fillna(mean_low, inplace=True)\n"
     ]
    }
   ],
   "source": [
    "mean_open = df['open'].mean()\n",
    "mean_high = df['high'].mean()\n",
    "mean_low = df['low'].mean()\n",
    "\n",
    "# Impute missing values with the mean\n",
    "df['open'].fillna(mean_open, inplace=True)\n",
    "df['high'].fillna(mean_high, inplace=True)\n",
    "df['low'].fillna(mean_low, inplace=True)\n",
    "\n",
    "# Verify that there are no more missing values\n",
    "print(df.isnull().sum())"
   ]
  },
  {
   "cell_type": "markdown",
   "metadata": {},
   "source": [
    "### Normalization"
   ]
  },
  {
   "cell_type": "code",
   "execution_count": 60,
   "metadata": {
    "execution": {
     "iopub.execute_input": "2024-05-17T08:16:42.940301Z",
     "iopub.status.busy": "2024-05-17T08:16:42.939934Z",
     "iopub.status.idle": "2024-05-17T08:16:42.945096Z",
     "shell.execute_reply": "2024-05-17T08:16:42.944316Z",
     "shell.execute_reply.started": "2024-05-17T08:16:42.940272Z"
    },
    "trusted": true
   },
   "outputs": [],
   "source": [
    "from sklearn.preprocessing import StandardScaler\n",
    "\n",
    "# Assuming 'df' is your DataFrame with numerical columns to be scaled\n",
    "# Extract numerical columns for scaling\n",
    "numerical_columns = ['open', 'high', 'low', 'close', 'volume']\n",
    "\n",
    "# Initialize StandardScaler\n",
    "scaler = StandardScaler()"
   ]
  },
  {
   "cell_type": "code",
   "execution_count": 61,
   "metadata": {
    "execution": {
     "iopub.execute_input": "2024-05-17T08:16:42.947206Z",
     "iopub.status.busy": "2024-05-17T08:16:42.946877Z",
     "iopub.status.idle": "2024-05-17T08:16:43.030260Z",
     "shell.execute_reply": "2024-05-17T08:16:43.029113Z",
     "shell.execute_reply.started": "2024-05-17T08:16:42.947180Z"
    },
    "trusted": true
   },
   "outputs": [],
   "source": [
    "# Fit and transform the data\n",
    "df_scaled = df.copy()  # Create a copy of the DataFrame\n",
    "df_scaled[numerical_columns] = scaler.fit_transform(df[numerical_columns])"
   ]
  },
  {
   "cell_type": "code",
   "execution_count": 62,
   "metadata": {
    "execution": {
     "iopub.execute_input": "2024-05-17T08:16:43.031873Z",
     "iopub.status.busy": "2024-05-17T08:16:43.031579Z",
     "iopub.status.idle": "2024-05-17T08:16:43.049478Z",
     "shell.execute_reply": "2024-05-17T08:16:43.048223Z",
     "shell.execute_reply.started": "2024-05-17T08:16:43.031849Z"
    },
    "trusted": true
   },
   "outputs": [
    {
     "data": {
      "text/html": [
       "<div>\n",
       "<style scoped>\n",
       "    .dataframe tbody tr th:only-of-type {\n",
       "        vertical-align: middle;\n",
       "    }\n",
       "\n",
       "    .dataframe tbody tr th {\n",
       "        vertical-align: top;\n",
       "    }\n",
       "\n",
       "    .dataframe thead th {\n",
       "        text-align: right;\n",
       "    }\n",
       "</style>\n",
       "<table border=\"1\" class=\"dataframe\">\n",
       "  <thead>\n",
       "    <tr style=\"text-align: right;\">\n",
       "      <th></th>\n",
       "      <th>date</th>\n",
       "      <th>open</th>\n",
       "      <th>high</th>\n",
       "      <th>low</th>\n",
       "      <th>close</th>\n",
       "      <th>volume</th>\n",
       "      <th>Name</th>\n",
       "    </tr>\n",
       "  </thead>\n",
       "  <tbody>\n",
       "    <tr>\n",
       "      <th>0</th>\n",
       "      <td>2013-02-08</td>\n",
       "      <td>-0.697832</td>\n",
       "      <td>-0.699120</td>\n",
       "      <td>-0.700740</td>\n",
       "      <td>-0.701242</td>\n",
       "      <td>0.469964</td>\n",
       "      <td>AAL</td>\n",
       "    </tr>\n",
       "    <tr>\n",
       "      <th>276739</th>\n",
       "      <td>2013-02-08</td>\n",
       "      <td>-0.626768</td>\n",
       "      <td>-0.625550</td>\n",
       "      <td>-0.625926</td>\n",
       "      <td>-0.623513</td>\n",
       "      <td>-0.149572</td>\n",
       "      <td>HOLX</td>\n",
       "    </tr>\n",
       "    <tr>\n",
       "      <th>266391</th>\n",
       "      <td>2013-02-08</td>\n",
       "      <td>-0.469546</td>\n",
       "      <td>-0.471335</td>\n",
       "      <td>-0.467285</td>\n",
       "      <td>-0.470520</td>\n",
       "      <td>-0.282202</td>\n",
       "      <td>HCA</td>\n",
       "    </tr>\n",
       "    <tr>\n",
       "      <th>268909</th>\n",
       "      <td>2013-02-08</td>\n",
       "      <td>-0.375684</td>\n",
       "      <td>-0.377146</td>\n",
       "      <td>-0.371125</td>\n",
       "      <td>-0.373179</td>\n",
       "      <td>-0.139313</td>\n",
       "      <td>HCP</td>\n",
       "    </tr>\n",
       "    <tr>\n",
       "      <th>265132</th>\n",
       "      <td>2013-02-08</td>\n",
       "      <td>-0.749589</td>\n",
       "      <td>-0.749371</td>\n",
       "      <td>-0.748897</td>\n",
       "      <td>-0.748706</td>\n",
       "      <td>-0.024518</td>\n",
       "      <td>HBI</td>\n",
       "    </tr>\n",
       "    <tr>\n",
       "      <th>...</th>\n",
       "      <td>...</td>\n",
       "      <td>...</td>\n",
       "      <td>...</td>\n",
       "      <td>...</td>\n",
       "      <td>...</td>\n",
       "      <td>...</td>\n",
       "      <td>...</td>\n",
       "    </tr>\n",
       "    <tr>\n",
       "      <th>165135</th>\n",
       "      <td>2018-02-07</td>\n",
       "      <td>-0.380203</td>\n",
       "      <td>-0.370120</td>\n",
       "      <td>-0.377032</td>\n",
       "      <td>-0.377389</td>\n",
       "      <td>0.479580</td>\n",
       "      <td>DHI</td>\n",
       "    </tr>\n",
       "    <tr>\n",
       "      <th>600154</th>\n",
       "      <td>2018-02-07</td>\n",
       "      <td>-0.649977</td>\n",
       "      <td>-0.648919</td>\n",
       "      <td>-0.651002</td>\n",
       "      <td>-0.652572</td>\n",
       "      <td>0.012534</td>\n",
       "      <td>WU</td>\n",
       "    </tr>\n",
       "    <tr>\n",
       "      <th>325988</th>\n",
       "      <td>2018-02-07</td>\n",
       "      <td>0.219215</td>\n",
       "      <td>0.220470</td>\n",
       "      <td>0.205311</td>\n",
       "      <td>0.201420</td>\n",
       "      <td>-0.309508</td>\n",
       "      <td>KLAC</td>\n",
       "    </tr>\n",
       "    <tr>\n",
       "      <th>546881</th>\n",
       "      <td>2018-02-07</td>\n",
       "      <td>0.585931</td>\n",
       "      <td>0.612574</td>\n",
       "      <td>0.597926</td>\n",
       "      <td>0.606802</td>\n",
       "      <td>-0.148112</td>\n",
       "      <td>TRV</td>\n",
       "    </tr>\n",
       "    <tr>\n",
       "      <th>619039</th>\n",
       "      <td>2018-02-07</td>\n",
       "      <td>-0.106013</td>\n",
       "      <td>-0.089386</td>\n",
       "      <td>-0.099124</td>\n",
       "      <td>-0.094299</td>\n",
       "      <td>0.024511</td>\n",
       "      <td>ZTS</td>\n",
       "    </tr>\n",
       "  </tbody>\n",
       "</table>\n",
       "<p>619040 rows × 7 columns</p>\n",
       "</div>"
      ],
      "text/plain": [
       "             date      open      high       low     close    volume  Name\n",
       "0      2013-02-08 -0.697832 -0.699120 -0.700740 -0.701242  0.469964   AAL\n",
       "276739 2013-02-08 -0.626768 -0.625550 -0.625926 -0.623513 -0.149572  HOLX\n",
       "266391 2013-02-08 -0.469546 -0.471335 -0.467285 -0.470520 -0.282202   HCA\n",
       "268909 2013-02-08 -0.375684 -0.377146 -0.371125 -0.373179 -0.139313   HCP\n",
       "265132 2013-02-08 -0.749589 -0.749371 -0.748897 -0.748706 -0.024518   HBI\n",
       "...           ...       ...       ...       ...       ...       ...   ...\n",
       "165135 2018-02-07 -0.380203 -0.370120 -0.377032 -0.377389  0.479580   DHI\n",
       "600154 2018-02-07 -0.649977 -0.648919 -0.651002 -0.652572  0.012534    WU\n",
       "325988 2018-02-07  0.219215  0.220470  0.205311  0.201420 -0.309508  KLAC\n",
       "546881 2018-02-07  0.585931  0.612574  0.597926  0.606802 -0.148112   TRV\n",
       "619039 2018-02-07 -0.106013 -0.089386 -0.099124 -0.094299  0.024511   ZTS\n",
       "\n",
       "[619040 rows x 7 columns]"
      ]
     },
     "execution_count": 62,
     "metadata": {},
     "output_type": "execute_result"
    }
   ],
   "source": [
    "df_scaled"
   ]
  },
  {
   "cell_type": "markdown",
   "metadata": {},
   "source": [
    "### Stationarization"
   ]
  },
  {
   "cell_type": "code",
   "execution_count": 63,
   "metadata": {
    "execution": {
     "iopub.execute_input": "2024-05-17T08:16:43.055095Z",
     "iopub.status.busy": "2024-05-17T08:16:43.054760Z",
     "iopub.status.idle": "2024-05-17T08:16:43.075880Z",
     "shell.execute_reply": "2024-05-17T08:16:43.074953Z",
     "shell.execute_reply.started": "2024-05-17T08:16:43.055072Z"
    },
    "trusted": true
   },
   "outputs": [
    {
     "data": {
      "text/html": [
       "<div>\n",
       "<style scoped>\n",
       "    .dataframe tbody tr th:only-of-type {\n",
       "        vertical-align: middle;\n",
       "    }\n",
       "\n",
       "    .dataframe tbody tr th {\n",
       "        vertical-align: top;\n",
       "    }\n",
       "\n",
       "    .dataframe thead th {\n",
       "        text-align: right;\n",
       "    }\n",
       "</style>\n",
       "<table border=\"1\" class=\"dataframe\">\n",
       "  <thead>\n",
       "    <tr style=\"text-align: right;\">\n",
       "      <th></th>\n",
       "      <th>date</th>\n",
       "      <th>open</th>\n",
       "      <th>high</th>\n",
       "      <th>low</th>\n",
       "      <th>close</th>\n",
       "      <th>volume</th>\n",
       "      <th>Name</th>\n",
       "      <th>diff_close</th>\n",
       "    </tr>\n",
       "  </thead>\n",
       "  <tbody>\n",
       "    <tr>\n",
       "      <th>0</th>\n",
       "      <td>2013-02-08</td>\n",
       "      <td>-0.697832</td>\n",
       "      <td>-0.699120</td>\n",
       "      <td>-0.700740</td>\n",
       "      <td>-0.701242</td>\n",
       "      <td>0.469964</td>\n",
       "      <td>AAL</td>\n",
       "      <td>NaN</td>\n",
       "    </tr>\n",
       "    <tr>\n",
       "      <th>276739</th>\n",
       "      <td>2013-02-08</td>\n",
       "      <td>-0.626768</td>\n",
       "      <td>-0.625550</td>\n",
       "      <td>-0.625926</td>\n",
       "      <td>-0.623513</td>\n",
       "      <td>-0.149572</td>\n",
       "      <td>HOLX</td>\n",
       "      <td>0.077729</td>\n",
       "    </tr>\n",
       "    <tr>\n",
       "      <th>266391</th>\n",
       "      <td>2013-02-08</td>\n",
       "      <td>-0.469546</td>\n",
       "      <td>-0.471335</td>\n",
       "      <td>-0.467285</td>\n",
       "      <td>-0.470520</td>\n",
       "      <td>-0.282202</td>\n",
       "      <td>HCA</td>\n",
       "      <td>0.152994</td>\n",
       "    </tr>\n",
       "    <tr>\n",
       "      <th>268909</th>\n",
       "      <td>2013-02-08</td>\n",
       "      <td>-0.375684</td>\n",
       "      <td>-0.377146</td>\n",
       "      <td>-0.371125</td>\n",
       "      <td>-0.373179</td>\n",
       "      <td>-0.139313</td>\n",
       "      <td>HCP</td>\n",
       "      <td>0.097341</td>\n",
       "    </tr>\n",
       "    <tr>\n",
       "      <th>265132</th>\n",
       "      <td>2013-02-08</td>\n",
       "      <td>-0.749589</td>\n",
       "      <td>-0.749371</td>\n",
       "      <td>-0.748897</td>\n",
       "      <td>-0.748706</td>\n",
       "      <td>-0.024518</td>\n",
       "      <td>HBI</td>\n",
       "      <td>-0.375528</td>\n",
       "    </tr>\n",
       "    <tr>\n",
       "      <th>...</th>\n",
       "      <td>...</td>\n",
       "      <td>...</td>\n",
       "      <td>...</td>\n",
       "      <td>...</td>\n",
       "      <td>...</td>\n",
       "      <td>...</td>\n",
       "      <td>...</td>\n",
       "      <td>...</td>\n",
       "    </tr>\n",
       "    <tr>\n",
       "      <th>165135</th>\n",
       "      <td>2018-02-07</td>\n",
       "      <td>-0.380203</td>\n",
       "      <td>-0.370120</td>\n",
       "      <td>-0.377032</td>\n",
       "      <td>-0.377389</td>\n",
       "      <td>0.479580</td>\n",
       "      <td>DHI</td>\n",
       "      <td>-0.475204</td>\n",
       "    </tr>\n",
       "    <tr>\n",
       "      <th>600154</th>\n",
       "      <td>2018-02-07</td>\n",
       "      <td>-0.649977</td>\n",
       "      <td>-0.648919</td>\n",
       "      <td>-0.651002</td>\n",
       "      <td>-0.652572</td>\n",
       "      <td>0.012534</td>\n",
       "      <td>WU</td>\n",
       "      <td>-0.275183</td>\n",
       "    </tr>\n",
       "    <tr>\n",
       "      <th>325988</th>\n",
       "      <td>2018-02-07</td>\n",
       "      <td>0.219215</td>\n",
       "      <td>0.220470</td>\n",
       "      <td>0.205311</td>\n",
       "      <td>0.201420</td>\n",
       "      <td>-0.309508</td>\n",
       "      <td>KLAC</td>\n",
       "      <td>0.853992</td>\n",
       "    </tr>\n",
       "    <tr>\n",
       "      <th>546881</th>\n",
       "      <td>2018-02-07</td>\n",
       "      <td>0.585931</td>\n",
       "      <td>0.612574</td>\n",
       "      <td>0.597926</td>\n",
       "      <td>0.606802</td>\n",
       "      <td>-0.148112</td>\n",
       "      <td>TRV</td>\n",
       "      <td>0.405382</td>\n",
       "    </tr>\n",
       "    <tr>\n",
       "      <th>619039</th>\n",
       "      <td>2018-02-07</td>\n",
       "      <td>-0.106013</td>\n",
       "      <td>-0.089386</td>\n",
       "      <td>-0.099124</td>\n",
       "      <td>-0.094299</td>\n",
       "      <td>0.024511</td>\n",
       "      <td>ZTS</td>\n",
       "      <td>-0.701101</td>\n",
       "    </tr>\n",
       "  </tbody>\n",
       "</table>\n",
       "<p>619040 rows × 8 columns</p>\n",
       "</div>"
      ],
      "text/plain": [
       "             date      open      high       low     close    volume  Name  \\\n",
       "0      2013-02-08 -0.697832 -0.699120 -0.700740 -0.701242  0.469964   AAL   \n",
       "276739 2013-02-08 -0.626768 -0.625550 -0.625926 -0.623513 -0.149572  HOLX   \n",
       "266391 2013-02-08 -0.469546 -0.471335 -0.467285 -0.470520 -0.282202   HCA   \n",
       "268909 2013-02-08 -0.375684 -0.377146 -0.371125 -0.373179 -0.139313   HCP   \n",
       "265132 2013-02-08 -0.749589 -0.749371 -0.748897 -0.748706 -0.024518   HBI   \n",
       "...           ...       ...       ...       ...       ...       ...   ...   \n",
       "165135 2018-02-07 -0.380203 -0.370120 -0.377032 -0.377389  0.479580   DHI   \n",
       "600154 2018-02-07 -0.649977 -0.648919 -0.651002 -0.652572  0.012534    WU   \n",
       "325988 2018-02-07  0.219215  0.220470  0.205311  0.201420 -0.309508  KLAC   \n",
       "546881 2018-02-07  0.585931  0.612574  0.597926  0.606802 -0.148112   TRV   \n",
       "619039 2018-02-07 -0.106013 -0.089386 -0.099124 -0.094299  0.024511   ZTS   \n",
       "\n",
       "        diff_close  \n",
       "0              NaN  \n",
       "276739    0.077729  \n",
       "266391    0.152994  \n",
       "268909    0.097341  \n",
       "265132   -0.375528  \n",
       "...            ...  \n",
       "165135   -0.475204  \n",
       "600154   -0.275183  \n",
       "325988    0.853992  \n",
       "546881    0.405382  \n",
       "619039   -0.701101  \n",
       "\n",
       "[619040 rows x 8 columns]"
      ]
     },
     "execution_count": 63,
     "metadata": {},
     "output_type": "execute_result"
    }
   ],
   "source": [
    "# Apply First-Order Differencing to 'close' Prices for Stationarity\n",
    "df_scaled['diff_close'] = df_scaled['close'].diff(1)\n",
    "df_scaled"
   ]
  },
  {
   "cell_type": "code",
   "execution_count": 64,
   "metadata": {
    "execution": {
     "iopub.execute_input": "2024-05-17T08:16:43.077225Z",
     "iopub.status.busy": "2024-05-17T08:16:43.076946Z",
     "iopub.status.idle": "2024-05-17T08:16:43.150074Z",
     "shell.execute_reply": "2024-05-17T08:16:43.149208Z",
     "shell.execute_reply.started": "2024-05-17T08:16:43.077201Z"
    },
    "trusted": true
   },
   "outputs": [
    {
     "data": {
      "text/plain": [
       "date          0\n",
       "open          0\n",
       "high          0\n",
       "low           0\n",
       "close         0\n",
       "volume        0\n",
       "Name          0\n",
       "diff_close    1\n",
       "dtype: int64"
      ]
     },
     "execution_count": 64,
     "metadata": {},
     "output_type": "execute_result"
    }
   ],
   "source": [
    "df_scaled.isnull().sum()"
   ]
  },
  {
   "cell_type": "code",
   "execution_count": 65,
   "metadata": {
    "execution": {
     "iopub.execute_input": "2024-05-17T08:16:43.151511Z",
     "iopub.status.busy": "2024-05-17T08:16:43.151148Z",
     "iopub.status.idle": "2024-05-17T08:16:43.173522Z",
     "shell.execute_reply": "2024-05-17T08:16:43.172501Z",
     "shell.execute_reply.started": "2024-05-17T08:16:43.151479Z"
    },
    "trusted": true
   },
   "outputs": [
    {
     "name": "stderr",
     "output_type": "stream",
     "text": [
      "/tmp/ipykernel_34/522033244.py:2: FutureWarning: A value is trying to be set on a copy of a DataFrame or Series through chained assignment using an inplace method.\n",
      "The behavior will change in pandas 3.0. This inplace method will never work because the intermediate object on which we are setting values always behaves as a copy.\n",
      "\n",
      "For example, when doing 'df[col].method(value, inplace=True)', try using 'df.method({col: value}, inplace=True)' or df[col] = df[col].method(value) instead, to perform the operation inplace on the original object.\n",
      "\n",
      "\n",
      "  df_scaled['diff_close'].fillna(method='bfill', inplace=True)\n",
      "/tmp/ipykernel_34/522033244.py:2: FutureWarning: Series.fillna with 'method' is deprecated and will raise in a future version. Use obj.ffill() or obj.bfill() instead.\n",
      "  df_scaled['diff_close'].fillna(method='bfill', inplace=True)\n"
     ]
    },
    {
     "data": {
      "text/html": [
       "<div>\n",
       "<style scoped>\n",
       "    .dataframe tbody tr th:only-of-type {\n",
       "        vertical-align: middle;\n",
       "    }\n",
       "\n",
       "    .dataframe tbody tr th {\n",
       "        vertical-align: top;\n",
       "    }\n",
       "\n",
       "    .dataframe thead th {\n",
       "        text-align: right;\n",
       "    }\n",
       "</style>\n",
       "<table border=\"1\" class=\"dataframe\">\n",
       "  <thead>\n",
       "    <tr style=\"text-align: right;\">\n",
       "      <th></th>\n",
       "      <th>date</th>\n",
       "      <th>open</th>\n",
       "      <th>high</th>\n",
       "      <th>low</th>\n",
       "      <th>close</th>\n",
       "      <th>volume</th>\n",
       "      <th>Name</th>\n",
       "      <th>diff_close</th>\n",
       "    </tr>\n",
       "  </thead>\n",
       "  <tbody>\n",
       "    <tr>\n",
       "      <th>0</th>\n",
       "      <td>2013-02-08</td>\n",
       "      <td>-0.697832</td>\n",
       "      <td>-0.699120</td>\n",
       "      <td>-0.700740</td>\n",
       "      <td>-0.701242</td>\n",
       "      <td>0.469964</td>\n",
       "      <td>AAL</td>\n",
       "      <td>0.077729</td>\n",
       "    </tr>\n",
       "    <tr>\n",
       "      <th>276739</th>\n",
       "      <td>2013-02-08</td>\n",
       "      <td>-0.626768</td>\n",
       "      <td>-0.625550</td>\n",
       "      <td>-0.625926</td>\n",
       "      <td>-0.623513</td>\n",
       "      <td>-0.149572</td>\n",
       "      <td>HOLX</td>\n",
       "      <td>0.077729</td>\n",
       "    </tr>\n",
       "    <tr>\n",
       "      <th>266391</th>\n",
       "      <td>2013-02-08</td>\n",
       "      <td>-0.469546</td>\n",
       "      <td>-0.471335</td>\n",
       "      <td>-0.467285</td>\n",
       "      <td>-0.470520</td>\n",
       "      <td>-0.282202</td>\n",
       "      <td>HCA</td>\n",
       "      <td>0.152994</td>\n",
       "    </tr>\n",
       "    <tr>\n",
       "      <th>268909</th>\n",
       "      <td>2013-02-08</td>\n",
       "      <td>-0.375684</td>\n",
       "      <td>-0.377146</td>\n",
       "      <td>-0.371125</td>\n",
       "      <td>-0.373179</td>\n",
       "      <td>-0.139313</td>\n",
       "      <td>HCP</td>\n",
       "      <td>0.097341</td>\n",
       "    </tr>\n",
       "    <tr>\n",
       "      <th>265132</th>\n",
       "      <td>2013-02-08</td>\n",
       "      <td>-0.749589</td>\n",
       "      <td>-0.749371</td>\n",
       "      <td>-0.748897</td>\n",
       "      <td>-0.748706</td>\n",
       "      <td>-0.024518</td>\n",
       "      <td>HBI</td>\n",
       "      <td>-0.375528</td>\n",
       "    </tr>\n",
       "    <tr>\n",
       "      <th>...</th>\n",
       "      <td>...</td>\n",
       "      <td>...</td>\n",
       "      <td>...</td>\n",
       "      <td>...</td>\n",
       "      <td>...</td>\n",
       "      <td>...</td>\n",
       "      <td>...</td>\n",
       "      <td>...</td>\n",
       "    </tr>\n",
       "    <tr>\n",
       "      <th>165135</th>\n",
       "      <td>2018-02-07</td>\n",
       "      <td>-0.380203</td>\n",
       "      <td>-0.370120</td>\n",
       "      <td>-0.377032</td>\n",
       "      <td>-0.377389</td>\n",
       "      <td>0.479580</td>\n",
       "      <td>DHI</td>\n",
       "      <td>-0.475204</td>\n",
       "    </tr>\n",
       "    <tr>\n",
       "      <th>600154</th>\n",
       "      <td>2018-02-07</td>\n",
       "      <td>-0.649977</td>\n",
       "      <td>-0.648919</td>\n",
       "      <td>-0.651002</td>\n",
       "      <td>-0.652572</td>\n",
       "      <td>0.012534</td>\n",
       "      <td>WU</td>\n",
       "      <td>-0.275183</td>\n",
       "    </tr>\n",
       "    <tr>\n",
       "      <th>325988</th>\n",
       "      <td>2018-02-07</td>\n",
       "      <td>0.219215</td>\n",
       "      <td>0.220470</td>\n",
       "      <td>0.205311</td>\n",
       "      <td>0.201420</td>\n",
       "      <td>-0.309508</td>\n",
       "      <td>KLAC</td>\n",
       "      <td>0.853992</td>\n",
       "    </tr>\n",
       "    <tr>\n",
       "      <th>546881</th>\n",
       "      <td>2018-02-07</td>\n",
       "      <td>0.585931</td>\n",
       "      <td>0.612574</td>\n",
       "      <td>0.597926</td>\n",
       "      <td>0.606802</td>\n",
       "      <td>-0.148112</td>\n",
       "      <td>TRV</td>\n",
       "      <td>0.405382</td>\n",
       "    </tr>\n",
       "    <tr>\n",
       "      <th>619039</th>\n",
       "      <td>2018-02-07</td>\n",
       "      <td>-0.106013</td>\n",
       "      <td>-0.089386</td>\n",
       "      <td>-0.099124</td>\n",
       "      <td>-0.094299</td>\n",
       "      <td>0.024511</td>\n",
       "      <td>ZTS</td>\n",
       "      <td>-0.701101</td>\n",
       "    </tr>\n",
       "  </tbody>\n",
       "</table>\n",
       "<p>619040 rows × 8 columns</p>\n",
       "</div>"
      ],
      "text/plain": [
       "             date      open      high       low     close    volume  Name  \\\n",
       "0      2013-02-08 -0.697832 -0.699120 -0.700740 -0.701242  0.469964   AAL   \n",
       "276739 2013-02-08 -0.626768 -0.625550 -0.625926 -0.623513 -0.149572  HOLX   \n",
       "266391 2013-02-08 -0.469546 -0.471335 -0.467285 -0.470520 -0.282202   HCA   \n",
       "268909 2013-02-08 -0.375684 -0.377146 -0.371125 -0.373179 -0.139313   HCP   \n",
       "265132 2013-02-08 -0.749589 -0.749371 -0.748897 -0.748706 -0.024518   HBI   \n",
       "...           ...       ...       ...       ...       ...       ...   ...   \n",
       "165135 2018-02-07 -0.380203 -0.370120 -0.377032 -0.377389  0.479580   DHI   \n",
       "600154 2018-02-07 -0.649977 -0.648919 -0.651002 -0.652572  0.012534    WU   \n",
       "325988 2018-02-07  0.219215  0.220470  0.205311  0.201420 -0.309508  KLAC   \n",
       "546881 2018-02-07  0.585931  0.612574  0.597926  0.606802 -0.148112   TRV   \n",
       "619039 2018-02-07 -0.106013 -0.089386 -0.099124 -0.094299  0.024511   ZTS   \n",
       "\n",
       "        diff_close  \n",
       "0         0.077729  \n",
       "276739    0.077729  \n",
       "266391    0.152994  \n",
       "268909    0.097341  \n",
       "265132   -0.375528  \n",
       "...            ...  \n",
       "165135   -0.475204  \n",
       "600154   -0.275183  \n",
       "325988    0.853992  \n",
       "546881    0.405382  \n",
       "619039   -0.701101  \n",
       "\n",
       "[619040 rows x 8 columns]"
      ]
     },
     "execution_count": 65,
     "metadata": {},
     "output_type": "execute_result"
    }
   ],
   "source": [
    "# Fill Null Values after Differencing\n",
    "df_scaled['diff_close'].fillna(method='bfill', inplace=True)\n",
    "df_scaled"
   ]
  },
  {
   "cell_type": "code",
   "execution_count": 66,
   "metadata": {
    "execution": {
     "iopub.execute_input": "2024-05-17T08:16:43.175287Z",
     "iopub.status.busy": "2024-05-17T08:16:43.174876Z",
     "iopub.status.idle": "2024-05-17T08:16:43.201506Z",
     "shell.execute_reply": "2024-05-17T08:16:43.200740Z",
     "shell.execute_reply.started": "2024-05-17T08:16:43.175250Z"
    },
    "trusted": true
   },
   "outputs": [],
   "source": [
    "# Calculate IQR for 'diff_close'\n",
    "Q1 = df_scaled['diff_close'].quantile(0.25)\n",
    "Q3 = df_scaled['diff_close'].quantile(0.75)\n",
    "IQR = Q3 - Q1"
   ]
  },
  {
   "cell_type": "code",
   "execution_count": 67,
   "metadata": {
    "execution": {
     "iopub.execute_input": "2024-05-17T08:16:43.202950Z",
     "iopub.status.busy": "2024-05-17T08:16:43.202614Z",
     "iopub.status.idle": "2024-05-17T08:16:43.207556Z",
     "shell.execute_reply": "2024-05-17T08:16:43.206613Z",
     "shell.execute_reply.started": "2024-05-17T08:16:43.202922Z"
    },
    "trusted": true
   },
   "outputs": [],
   "source": [
    "# Define lower and upper bounds for outlier detection\n",
    "lower_bound = Q1 - 1.5 * IQR\n",
    "upper_bound = Q3 + 1.5 * IQR"
   ]
  },
  {
   "cell_type": "code",
   "execution_count": 68,
   "metadata": {
    "execution": {
     "iopub.execute_input": "2024-05-17T08:16:43.209813Z",
     "iopub.status.busy": "2024-05-17T08:16:43.208931Z",
     "iopub.status.idle": "2024-05-17T08:16:43.259850Z",
     "shell.execute_reply": "2024-05-17T08:16:43.258777Z",
     "shell.execute_reply.started": "2024-05-17T08:16:43.209774Z"
    },
    "trusted": true
   },
   "outputs": [],
   "source": [
    "# Filter out outliers based on 'diff_close'\n",
    "df_cleaned = df_scaled[(df_scaled['diff_close'] >= lower_bound) & (df_scaled['diff_close'] <= upper_bound)]"
   ]
  },
  {
   "cell_type": "code",
   "execution_count": 69,
   "metadata": {
    "execution": {
     "iopub.execute_input": "2024-05-17T08:16:43.261436Z",
     "iopub.status.busy": "2024-05-17T08:16:43.261121Z",
     "iopub.status.idle": "2024-05-17T08:16:43.977614Z",
     "shell.execute_reply": "2024-05-17T08:16:43.976622Z",
     "shell.execute_reply.started": "2024-05-17T08:16:43.261403Z"
    },
    "trusted": true
   },
   "outputs": [
    {
     "data": {
      "image/png": "[encoded data removed]",
      "text/plain": [
       "<Figure size 1200x600 with 1 Axes>"
      ]
     },
     "metadata": {},
     "output_type": "display_data"
    }
   ],
   "source": [
    "plt.figure(figsize=(12, 6))\n",
    "plt.plot(df_cleaned['date'], df_cleaned['diff_close'])\n",
    "plt.title('First-Order Differenced Close Prices (Outliers Removed)')\n",
    "plt.xlabel('Date')\n",
    "plt.ylabel('Diff Close')\n",
    "plt.grid(True)\n",
    "plt.show()"
   ]
  },
  {
   "cell_type": "code",
   "execution_count": 70,
   "metadata": {
    "execution": {
     "iopub.execute_input": "2024-05-17T08:16:43.979124Z",
     "iopub.status.busy": "2024-05-17T08:16:43.978808Z",
     "iopub.status.idle": "2024-05-17T08:16:44.271060Z",
     "shell.execute_reply": "2024-05-17T08:16:44.270056Z",
     "shell.execute_reply.started": "2024-05-17T08:16:43.979098Z"
    },
    "trusted": true
   },
   "outputs": [
    {
     "data": {
      "image/png": "[encoded data removed]",
      "text/plain": [
       "<Figure size 800x600 with 1 Axes>"
      ]
     },
     "metadata": {},
     "output_type": "display_data"
    }
   ],
   "source": [
    "# Histogram of Differenced Close Prices after Outlier Removal (before stationarity check)\n",
    "plt.figure(figsize=(8, 6))\n",
    "plt.hist(df_cleaned['diff_close'], bins=30, edgecolor='black')\n",
    "plt.title('Histogram of Differenced Close Prices (Outliers Removed)')\n",
    "plt.xlabel('Diff Close')\n",
    "plt.ylabel('Frequency')\n",
    "plt.grid(True)\n",
    "plt.show()"
   ]
  },
  {
   "cell_type": "code",
   "execution_count": 71,
   "metadata": {
    "execution": {
     "iopub.execute_input": "2024-05-17T08:16:44.272473Z",
     "iopub.status.busy": "2024-05-17T08:16:44.272193Z",
     "iopub.status.idle": "2024-05-17T08:16:44.278071Z",
     "shell.execute_reply": "2024-05-17T08:16:44.277106Z",
     "shell.execute_reply.started": "2024-05-17T08:16:44.272450Z"
    },
    "trusted": true
   },
   "outputs": [],
   "source": [
    "# Check Stationarity Using Dickey-Fuller Test on cleaned data\n",
    "def check_stationarity(timeseries):\n",
    "    # Perform Dickey-Fuller test\n",
    "    result = adfuller(timeseries)\n",
    "    print('ADF Statistic:', result[0])\n",
    "    print('p-value:', result[1])\n",
    "    print('Critical Values:')\n",
    "    for key, value in result[4].items():\n",
    "        print(f'   {key}: {value}')\n"
   ]
  },
  {
   "cell_type": "code",
   "execution_count": null,
   "metadata": {
    "execution": {
     "iopub.execute_input": "2024-05-17T08:16:44.279469Z",
     "iopub.status.busy": "2024-05-17T08:16:44.279180Z"
    },
    "trusted": true
   },
   "outputs": [
    {
     "name": "stdout",
     "output_type": "stream",
     "text": [
      "Stationarity Test for diff_close (after outlier removal):\n"
     ]
    }
   ],
   "source": [
    "# Check stationarity of 'diff_close' after outlier removal\n",
    "print('Stationarity Test for diff_close (after outlier removal):')\n",
    "check_stationarity(df_cleaned['diff_close'])"
   ]
  },
  {
   "cell_type": "code",
   "execution_count": null,
   "metadata": {
    "trusted": true
   },
   "outputs": [],
   "source": [
    "# Optional: Save the cleaned, stationarized, and outlier-removed DataFrame to a CSV file\n",
    "df_cleaned.to_csv('cleaned_stationarized_data.csv', index=False)"
   ]
  },
  {
   "cell_type": "markdown",
   "metadata": {},
   "source": [
    "### Heading to the Modeling"
   ]
  },
  {
   "cell_type": "code",
   "execution_count": null,
   "metadata": {},
   "outputs": [],
   "source": []
  },
  {
   "cell_type": "markdown",
   "metadata": {},
   "source": [
    "## ARIMA"
   ]
  },
  {
   "cell_type": "code",
   "execution_count": 10,
   "metadata": {
    "execution": {
     "iopub.execute_input": "2024-05-17T08:46:57.574471Z",
     "iopub.status.busy": "2024-05-17T08:46:57.573613Z",
     "iopub.status.idle": "2024-05-17T08:46:58.607734Z",
     "shell.execute_reply": "2024-05-17T08:46:58.606429Z",
     "shell.execute_reply.started": "2024-05-17T08:46:57.574436Z"
    },
    "trusted": true
   },
   "outputs": [],
   "source": [
    "# reading the new cleaned dataset \n",
    "df = pd.read_csv(r'/kaggle/input/stationarised-data-stocks/cleaned_stationarized_data.csv')"
   ]
  },
  {
   "cell_type": "code",
   "execution_count": 11,
   "metadata": {
    "execution": {
     "iopub.execute_input": "2024-05-17T08:46:58.610432Z",
     "iopub.status.busy": "2024-05-17T08:46:58.609949Z",
     "iopub.status.idle": "2024-05-17T08:46:58.628907Z",
     "shell.execute_reply": "2024-05-17T08:46:58.627833Z",
     "shell.execute_reply.started": "2024-05-17T08:46:58.610365Z"
    },
    "trusted": true
   },
   "outputs": [
    {
     "data": {
      "text/html": [
       "<div>\n",
       "<style scoped>\n",
       "    .dataframe tbody tr th:only-of-type {\n",
       "        vertical-align: middle;\n",
       "    }\n",
       "\n",
       "    .dataframe tbody tr th {\n",
       "        vertical-align: top;\n",
       "    }\n",
       "\n",
       "    .dataframe thead th {\n",
       "        text-align: right;\n",
       "    }\n",
       "</style>\n",
       "<table border=\"1\" class=\"dataframe\">\n",
       "  <thead>\n",
       "    <tr style=\"text-align: right;\">\n",
       "      <th></th>\n",
       "      <th>date</th>\n",
       "      <th>open</th>\n",
       "      <th>high</th>\n",
       "      <th>low</th>\n",
       "      <th>close</th>\n",
       "      <th>volume</th>\n",
       "      <th>Name</th>\n",
       "      <th>diff_close</th>\n",
       "    </tr>\n",
       "  </thead>\n",
       "  <tbody>\n",
       "    <tr>\n",
       "      <th>0</th>\n",
       "      <td>2013-02-08</td>\n",
       "      <td>-0.697832</td>\n",
       "      <td>-0.699120</td>\n",
       "      <td>-0.700740</td>\n",
       "      <td>-0.701242</td>\n",
       "      <td>0.469964</td>\n",
       "      <td>AAL</td>\n",
       "      <td>0.077729</td>\n",
       "    </tr>\n",
       "    <tr>\n",
       "      <th>1</th>\n",
       "      <td>2013-02-08</td>\n",
       "      <td>-0.626768</td>\n",
       "      <td>-0.625550</td>\n",
       "      <td>-0.625926</td>\n",
       "      <td>-0.623513</td>\n",
       "      <td>-0.149572</td>\n",
       "      <td>HOLX</td>\n",
       "      <td>0.077729</td>\n",
       "    </tr>\n",
       "    <tr>\n",
       "      <th>2</th>\n",
       "      <td>2013-02-08</td>\n",
       "      <td>-0.469546</td>\n",
       "      <td>-0.471335</td>\n",
       "      <td>-0.467285</td>\n",
       "      <td>-0.470520</td>\n",
       "      <td>-0.282202</td>\n",
       "      <td>HCA</td>\n",
       "      <td>0.152994</td>\n",
       "    </tr>\n",
       "    <tr>\n",
       "      <th>3</th>\n",
       "      <td>2013-02-08</td>\n",
       "      <td>-0.375684</td>\n",
       "      <td>-0.377146</td>\n",
       "      <td>-0.371125</td>\n",
       "      <td>-0.373179</td>\n",
       "      <td>-0.139313</td>\n",
       "      <td>HCP</td>\n",
       "      <td>0.097341</td>\n",
       "    </tr>\n",
       "    <tr>\n",
       "      <th>4</th>\n",
       "      <td>2013-02-08</td>\n",
       "      <td>-0.749589</td>\n",
       "      <td>-0.749371</td>\n",
       "      <td>-0.748897</td>\n",
       "      <td>-0.748706</td>\n",
       "      <td>-0.024518</td>\n",
       "      <td>HBI</td>\n",
       "      <td>-0.375528</td>\n",
       "    </tr>\n",
       "    <tr>\n",
       "      <th>...</th>\n",
       "      <td>...</td>\n",
       "      <td>...</td>\n",
       "      <td>...</td>\n",
       "      <td>...</td>\n",
       "      <td>...</td>\n",
       "      <td>...</td>\n",
       "      <td>...</td>\n",
       "      <td>...</td>\n",
       "    </tr>\n",
       "    <tr>\n",
       "      <th>568326</th>\n",
       "      <td>2018-02-07</td>\n",
       "      <td>-0.380203</td>\n",
       "      <td>-0.370120</td>\n",
       "      <td>-0.377032</td>\n",
       "      <td>-0.377389</td>\n",
       "      <td>0.479580</td>\n",
       "      <td>DHI</td>\n",
       "      <td>-0.475204</td>\n",
       "    </tr>\n",
       "    <tr>\n",
       "      <th>568327</th>\n",
       "      <td>2018-02-07</td>\n",
       "      <td>-0.649977</td>\n",
       "      <td>-0.648919</td>\n",
       "      <td>-0.651002</td>\n",
       "      <td>-0.652572</td>\n",
       "      <td>0.012534</td>\n",
       "      <td>WU</td>\n",
       "      <td>-0.275183</td>\n",
       "    </tr>\n",
       "    <tr>\n",
       "      <th>568328</th>\n",
       "      <td>2018-02-07</td>\n",
       "      <td>0.219215</td>\n",
       "      <td>0.220470</td>\n",
       "      <td>0.205311</td>\n",
       "      <td>0.201420</td>\n",
       "      <td>-0.309508</td>\n",
       "      <td>KLAC</td>\n",
       "      <td>0.853992</td>\n",
       "    </tr>\n",
       "    <tr>\n",
       "      <th>568329</th>\n",
       "      <td>2018-02-07</td>\n",
       "      <td>0.585931</td>\n",
       "      <td>0.612574</td>\n",
       "      <td>0.597926</td>\n",
       "      <td>0.606802</td>\n",
       "      <td>-0.148112</td>\n",
       "      <td>TRV</td>\n",
       "      <td>0.405382</td>\n",
       "    </tr>\n",
       "    <tr>\n",
       "      <th>568330</th>\n",
       "      <td>2018-02-07</td>\n",
       "      <td>-0.106013</td>\n",
       "      <td>-0.089386</td>\n",
       "      <td>-0.099124</td>\n",
       "      <td>-0.094299</td>\n",
       "      <td>0.024511</td>\n",
       "      <td>ZTS</td>\n",
       "      <td>-0.701101</td>\n",
       "    </tr>\n",
       "  </tbody>\n",
       "</table>\n",
       "<p>568331 rows × 8 columns</p>\n",
       "</div>"
      ],
      "text/plain": [
       "              date      open      high       low     close    volume  Name  \\\n",
       "0       2013-02-08 -0.697832 -0.699120 -0.700740 -0.701242  0.469964   AAL   \n",
       "1       2013-02-08 -0.626768 -0.625550 -0.625926 -0.623513 -0.149572  HOLX   \n",
       "2       2013-02-08 -0.469546 -0.471335 -0.467285 -0.470520 -0.282202   HCA   \n",
       "3       2013-02-08 -0.375684 -0.377146 -0.371125 -0.373179 -0.139313   HCP   \n",
       "4       2013-02-08 -0.749589 -0.749371 -0.748897 -0.748706 -0.024518   HBI   \n",
       "...            ...       ...       ...       ...       ...       ...   ...   \n",
       "568326  2018-02-07 -0.380203 -0.370120 -0.377032 -0.377389  0.479580   DHI   \n",
       "568327  2018-02-07 -0.649977 -0.648919 -0.651002 -0.652572  0.012534    WU   \n",
       "568328  2018-02-07  0.219215  0.220470  0.205311  0.201420 -0.309508  KLAC   \n",
       "568329  2018-02-07  0.585931  0.612574  0.597926  0.606802 -0.148112   TRV   \n",
       "568330  2018-02-07 -0.106013 -0.089386 -0.099124 -0.094299  0.024511   ZTS   \n",
       "\n",
       "        diff_close  \n",
       "0         0.077729  \n",
       "1         0.077729  \n",
       "2         0.152994  \n",
       "3         0.097341  \n",
       "4        -0.375528  \n",
       "...            ...  \n",
       "568326   -0.475204  \n",
       "568327   -0.275183  \n",
       "568328    0.853992  \n",
       "568329    0.405382  \n",
       "568330   -0.701101  \n",
       "\n",
       "[568331 rows x 8 columns]"
      ]
     },
     "execution_count": 11,
     "metadata": {},
     "output_type": "execute_result"
    }
   ],
   "source": [
    "df"
   ]
  },
  {
   "cell_type": "code",
   "execution_count": 12,
   "metadata": {
    "execution": {
     "iopub.execute_input": "2024-05-17T08:46:58.630332Z",
     "iopub.status.busy": "2024-05-17T08:46:58.630008Z",
     "iopub.status.idle": "2024-05-17T08:48:15.810854Z",
     "shell.execute_reply": "2024-05-17T08:48:15.809624Z",
     "shell.execute_reply.started": "2024-05-17T08:46:58.630291Z"
    },
    "trusted": true
   },
   "outputs": [
    {
     "data": {
      "image/png": "[encoded data removed]",
      "text/plain": [
       "<Figure size 1200x800 with 2 Axes>"
      ]
     },
     "metadata": {},
     "output_type": "display_data"
    }
   ],
   "source": [
    "# Plot ACF and PACF for 'diff_close'\n",
    "fig, (ax1, ax2) = plt.subplots(2, 1, figsize=(12, 8))\n",
    "plot_acf(df['diff_close'], ax=ax1, lags=40)\n",
    "plot_pacf(df['diff_close'], ax=ax2, lags=40)\n",
    "plt.show()\n"
   ]
  },
  {
   "cell_type": "code",
   "execution_count": null,
   "metadata": {
    "execution": {
     "iopub.status.busy": "2024-05-17T08:46:47.157504Z",
     "iopub.status.idle": "2024-05-17T08:46:47.157916Z",
     "shell.execute_reply": "2024-05-17T08:46:47.157738Z",
     "shell.execute_reply.started": "2024-05-17T08:46:47.157720Z"
    },
    "trusted": true
   },
   "outputs": [],
   "source": [
    "\n",
    "\n",
    "# Calculate ACF and PACF values directly\n",
    "acf_values, conf_int_acf = acf(df['diff_close'], nlags=40, alpha=0.05)  # Calculate ACF values\n",
    "pacf_values, conf_int_pacf = pacf(df['diff_close'], nlags=40, alpha=0.05)  # Calculate PACF values\n",
    "\n",
    "# Find significant lags for p and q\n",
    "# ACF: Find the first significant drop below the confidence interval\n",
    "q = np.where(acf_values < conf_int_acf[:, 1])[0][0]\n",
    "\n",
    "# PACF: Find the first significant drop below the confidence interval\n",
    "p = np.where(pacf_values < conf_int_pacf[:, 1])[0][0]\n",
    "\n",
    "# Print identified p and q values\n",
    "print(f\"Identified p value (autoregressive order): {p}\")\n",
    "print(f\"Identified q value (moving average order): {q}\")"
   ]
  },
  {
   "cell_type": "code",
   "execution_count": 13,
   "metadata": {
    "execution": {
     "iopub.execute_input": "2024-05-17T08:48:15.814208Z",
     "iopub.status.busy": "2024-05-17T08:48:15.813477Z",
     "iopub.status.idle": "2024-05-17T08:48:15.930404Z",
     "shell.execute_reply": "2024-05-17T08:48:15.929435Z",
     "shell.execute_reply.started": "2024-05-17T08:48:15.814166Z"
    },
    "trusted": true
   },
   "outputs": [],
   "source": [
    "df['date'] = pd.to_datetime(df['date'])\n",
    "p = q = 1"
   ]
  },
  {
   "cell_type": "code",
   "execution_count": 14,
   "metadata": {
    "execution": {
     "iopub.execute_input": "2024-05-17T08:48:15.932537Z",
     "iopub.status.busy": "2024-05-17T08:48:15.932121Z",
     "iopub.status.idle": "2024-05-17T08:48:15.943843Z",
     "shell.execute_reply": "2024-05-17T08:48:15.942966Z",
     "shell.execute_reply.started": "2024-05-17T08:48:15.932500Z"
    },
    "trusted": true
   },
   "outputs": [],
   "source": [
    "# Fit ARIMA model with identified parameters\n",
    "model_arima = ARIMA(df['diff_close'], order=(p, 1, q))\n"
   ]
  },
  {
   "cell_type": "code",
   "execution_count": 15,
   "metadata": {
    "execution": {
     "iopub.execute_input": "2024-05-17T08:48:15.945651Z",
     "iopub.status.busy": "2024-05-17T08:48:15.944773Z",
     "iopub.status.idle": "2024-05-17T08:52:08.253309Z",
     "shell.execute_reply": "2024-05-17T08:52:08.251883Z",
     "shell.execute_reply.started": "2024-05-17T08:48:15.945622Z"
    },
    "trusted": true
   },
   "outputs": [
    {
     "name": "stdout",
     "output_type": "stream",
     "text": [
      "                               SARIMAX Results                                \n",
      "==============================================================================\n",
      "Dep. Variable:             diff_close   No. Observations:               568331\n",
      "Model:                 ARIMA(1, 1, 1)   Log Likelihood             -421954.491\n",
      "Date:                Fri, 17 May 2024   AIC                         843914.983\n",
      "Time:                        08:50:55   BIC                         843948.734\n",
      "Sample:                             0   HQIC                        843924.487\n",
      "                             - 568331                                         \n",
      "Covariance Type:                  opg                                         \n",
      "==============================================================================\n",
      "                 coef    std err          z      P>|z|      [0.025      0.975]\n",
      "------------------------------------------------------------------------------\n",
      "ar.L1         -0.3826      0.001   -344.885      0.000      -0.385      -0.380\n",
      "ma.L1         -1.0000   6.87e-05  -1.46e+04      0.000      -1.000      -1.000\n",
      "sigma2         0.2585      0.000    584.709      0.000       0.258       0.259\n",
      "===================================================================================\n",
      "Ljung-Box (L1) (Q):                2969.77   Jarque-Bera (JB):             11366.25\n",
      "Prob(Q):                              0.00   Prob(JB):                         0.00\n",
      "Heteroskedasticity (H):               1.64   Skew:                             0.23\n",
      "Prob(H) (two-sided):                  0.00   Kurtosis:                         3.51\n",
      "===================================================================================\n",
      "\n",
      "Warnings:\n",
      "[1] Covariance matrix calculated using the outer product of gradients (complex-step).\n"
     ]
    }
   ],
   "source": [
    "results_arima = model_arima.fit()\n",
    "print(results_arima.summary())\n"
   ]
  },
  {
   "cell_type": "code",
   "execution_count": null,
   "metadata": {
    "trusted": true
   },
   "outputs": [],
   "source": []
  },
  {
   "cell_type": "code",
   "execution_count": 16,
   "metadata": {
    "execution": {
     "iopub.execute_input": "2024-05-17T08:52:08.255950Z",
     "iopub.status.busy": "2024-05-17T08:52:08.255196Z",
     "iopub.status.idle": "2024-05-17T08:52:13.020593Z",
     "shell.execute_reply": "2024-05-17T08:52:13.019565Z",
     "shell.execute_reply.started": "2024-05-17T08:52:08.255899Z"
    },
    "trusted": true
   },
   "outputs": [
    {
     "data": {
      "image/png": "[encoded data removed]",
      "text/plain": [
       "<Figure size 1200x600 with 1 Axes>"
      ]
     },
     "metadata": {},
     "output_type": "display_data"
    }
   ],
   "source": [
    "# Plot actual vs predicted\n",
    "plt.figure(figsize=(12, 6))\n",
    "plt.plot(df['date'], df['diff_close'], label='Actual')\n",
    "plt.plot(df['date'], results_arima.fittedvalues, label='Predicted', linestyle='--')\n",
    "plt.title('ARIMA: Actual vs. Predicted')\n",
    "plt.xlabel('Date')\n",
    "plt.ylabel('Diff Close')\n",
    "plt.legend()\n",
    "plt.show()"
   ]
  },
  {
   "cell_type": "code",
   "execution_count": 17,
   "metadata": {
    "execution": {
     "iopub.execute_input": "2024-05-17T08:52:13.025374Z",
     "iopub.status.busy": "2024-05-17T08:52:13.024785Z",
     "iopub.status.idle": "2024-05-17T08:52:14.504180Z",
     "shell.execute_reply": "2024-05-17T08:52:14.503259Z",
     "shell.execute_reply.started": "2024-05-17T08:52:13.025342Z"
    },
    "trusted": true
   },
   "outputs": [],
   "source": [
    "# Save ARIMA model\n",
    "with open('arima_model.pkl', 'wb') as f:\n",
    "    pickle.dump(model_arima, f)"
   ]
  },
  {
   "cell_type": "code",
   "execution_count": 18,
   "metadata": {
    "execution": {
     "iopub.execute_input": "2024-05-17T08:52:14.505766Z",
     "iopub.status.busy": "2024-05-17T08:52:14.505359Z",
     "iopub.status.idle": "2024-05-17T08:52:14.519729Z",
     "shell.execute_reply": "2024-05-17T08:52:14.518782Z",
     "shell.execute_reply.started": "2024-05-17T08:52:14.505738Z"
    },
    "trusted": true
   },
   "outputs": [
    {
     "name": "stdout",
     "output_type": "stream",
     "text": [
      "ARIMA - Mean Absolute Error: 0.3921\n",
      "ARIMA - Mean Squared Error: 0.2585\n",
      "ARIMA - Root Mean Squared Error: 0.5084\n"
     ]
    }
   ],
   "source": [
    "# Metrics\n",
    "arima_mae = mean_absolute_error(df['diff_close'], results_arima.fittedvalues)\n",
    "arima_mse = mean_squared_error(df['diff_close'], results_arima.fittedvalues)\n",
    "arima_rmse = np.sqrt(arima_mse)\n",
    "\n",
    "print(f\"ARIMA - Mean Absolute Error: {arima_mae:.4f}\")\n",
    "print(f\"ARIMA - Mean Squared Error: {arima_mse:.4f}\")\n",
    "print(f\"ARIMA - Root Mean Squared Error: {arima_rmse:.4f}\")\n"
   ]
  },
  {
   "cell_type": "markdown",
   "metadata": {},
   "source": [
    "# ARTIFICIAL NEURAL NETWORK"
   ]
  },
  {
   "cell_type": "code",
   "execution_count": 20,
   "metadata": {
    "execution": {
     "iopub.execute_input": "2024-05-17T08:53:59.134687Z",
     "iopub.status.busy": "2024-05-17T08:53:59.133667Z",
     "iopub.status.idle": "2024-05-17T08:53:59.140277Z",
     "shell.execute_reply": "2024-05-17T08:53:59.139100Z",
     "shell.execute_reply.started": "2024-05-17T08:53:59.134639Z"
    },
    "trusted": true
   },
   "outputs": [],
   "source": [
    "numerical_columns = ['open', 'high', 'low', 'close', 'volume']"
   ]
  },
  {
   "cell_type": "code",
   "execution_count": 21,
   "metadata": {
    "execution": {
     "iopub.execute_input": "2024-05-17T08:53:59.623572Z",
     "iopub.status.busy": "2024-05-17T08:53:59.622936Z",
     "iopub.status.idle": "2024-05-17T08:53:59.638162Z",
     "shell.execute_reply": "2024-05-17T08:53:59.637077Z",
     "shell.execute_reply.started": "2024-05-17T08:53:59.623539Z"
    },
    "trusted": true
   },
   "outputs": [],
   "source": [
    "X = df[numerical_columns]\n",
    "y = df['diff_close']\n"
   ]
  },
  {
   "cell_type": "code",
   "execution_count": 22,
   "metadata": {
    "execution": {
     "iopub.execute_input": "2024-05-17T08:54:02.802995Z",
     "iopub.status.busy": "2024-05-17T08:54:02.802337Z",
     "iopub.status.idle": "2024-05-17T08:54:02.859251Z",
     "shell.execute_reply": "2024-05-17T08:54:02.857995Z",
     "shell.execute_reply.started": "2024-05-17T08:54:02.802961Z"
    },
    "trusted": true
   },
   "outputs": [],
   "source": [
    "X_train, X_test, y_train, y_test = train_test_split(X, y, test_size=0.2, random_state=42)\n",
    "scaler = StandardScaler()"
   ]
  },
  {
   "cell_type": "code",
   "execution_count": 23,
   "metadata": {
    "execution": {
     "iopub.execute_input": "2024-05-17T08:54:03.486888Z",
     "iopub.status.busy": "2024-05-17T08:54:03.486111Z",
     "iopub.status.idle": "2024-05-17T08:54:03.525291Z",
     "shell.execute_reply": "2024-05-17T08:54:03.524063Z",
     "shell.execute_reply.started": "2024-05-17T08:54:03.486852Z"
    },
    "trusted": true
   },
   "outputs": [],
   "source": [
    "X_train_scaled = scaler.fit_transform(X_train)\n",
    "X_test_scaled = scaler.transform(X_test)"
   ]
  },
  {
   "cell_type": "code",
   "execution_count": 24,
   "metadata": {
    "execution": {
     "iopub.execute_input": "2024-05-17T08:54:04.091590Z",
     "iopub.status.busy": "2024-05-17T08:54:04.091142Z",
     "iopub.status.idle": "2024-05-17T08:54:04.911291Z",
     "shell.execute_reply": "2024-05-17T08:54:04.910442Z",
     "shell.execute_reply.started": "2024-05-17T08:54:04.091546Z"
    },
    "trusted": true
   },
   "outputs": [
    {
     "name": "stderr",
     "output_type": "stream",
     "text": [
      "/opt/conda/lib/python3.10/site-packages/keras/src/layers/core/dense.py:86: UserWarning: Do not pass an `input_shape`/`input_dim` argument to a layer. When using Sequential models, prefer using an `Input(shape)` object as the first layer in the model instead.\n",
      "  super().__init__(activity_regularizer=activity_regularizer, **kwargs)\n"
     ]
    }
   ],
   "source": [
    "ann_model = Sequential([\n",
    "    Dense(64, activation='relu', input_shape=(X_train_scaled.shape[1],)),\n",
    "    Dense(32, activation='relu'),\n",
    "    Dense(1)\n",
    "])"
   ]
  },
  {
   "cell_type": "code",
   "execution_count": 25,
   "metadata": {
    "execution": {
     "iopub.execute_input": "2024-05-17T08:54:04.913382Z",
     "iopub.status.busy": "2024-05-17T08:54:04.913056Z",
     "iopub.status.idle": "2024-05-17T08:54:04.927173Z",
     "shell.execute_reply": "2024-05-17T08:54:04.926302Z",
     "shell.execute_reply.started": "2024-05-17T08:54:04.913349Z"
    },
    "trusted": true
   },
   "outputs": [],
   "source": [
    "ann_model.compile(optimizer='adam', loss='mean_squared_error')"
   ]
  },
  {
   "cell_type": "code",
   "execution_count": 26,
   "metadata": {
    "execution": {
     "iopub.execute_input": "2024-05-17T08:54:05.499442Z",
     "iopub.status.busy": "2024-05-17T08:54:05.498755Z",
     "iopub.status.idle": "2024-05-17T09:11:30.713576Z",
     "shell.execute_reply": "2024-05-17T09:11:30.712550Z",
     "shell.execute_reply.started": "2024-05-17T08:54:05.499406Z"
    },
    "trusted": true
   },
   "outputs": [
    {
     "name": "stdout",
     "output_type": "stream",
     "text": [
      "Epoch 1/50\n",
      "\u001b[1m   99/11367\u001b[0m \u001b[37m━━━━━━━━━━━━━━━━━━━━\u001b[0m \u001b[1m17s\u001b[0m 2ms/step - loss: 0.1662"
     ]
    },
    {
     "name": "stderr",
     "output_type": "stream",
     "text": [
      "WARNING: All log messages before absl::InitializeLog() is called are written to STDERR\n",
      "I0000 00:00:1715936047.814074    1130 device_compiler.h:186] Compiled cluster using XLA!  This line is logged at most once for the lifetime of the process.\n"
     ]
    },
    {
     "name": "stdout",
     "output_type": "stream",
     "text": [
      "\u001b[1m11367/11367\u001b[0m \u001b[32m━━━━━━━━━━━━━━━━━━━━\u001b[0m\u001b[37m\u001b[0m \u001b[1m24s\u001b[0m 2ms/step - loss: 0.1747 - val_loss: 0.1774\n",
      "Epoch 2/50\n",
      "\u001b[1m11367/11367\u001b[0m \u001b[32m━━━━━━━━━━━━━━━━━━━━\u001b[0m\u001b[37m\u001b[0m \u001b[1m21s\u001b[0m 2ms/step - loss: 0.1730 - val_loss: 0.1751\n",
      "Epoch 3/50\n",
      "\u001b[1m11367/11367\u001b[0m \u001b[32m━━━━━━━━━━━━━━━━━━━━\u001b[0m\u001b[37m\u001b[0m \u001b[1m21s\u001b[0m 2ms/step - loss: 0.1734 - val_loss: 0.1755\n",
      "Epoch 4/50\n",
      "\u001b[1m11367/11367\u001b[0m \u001b[32m━━━━━━━━━━━━━━━━━━━━\u001b[0m\u001b[37m\u001b[0m \u001b[1m21s\u001b[0m 2ms/step - loss: 0.1733 - val_loss: 0.1744\n",
      "Epoch 5/50\n",
      "\u001b[1m11367/11367\u001b[0m \u001b[32m━━━━━━━━━━━━━━━━━━━━\u001b[0m\u001b[37m\u001b[0m \u001b[1m21s\u001b[0m 2ms/step - loss: 0.1726 - val_loss: 0.1745\n",
      "Epoch 6/50\n",
      "\u001b[1m11367/11367\u001b[0m \u001b[32m━━━━━━━━━━━━━━━━━━━━\u001b[0m\u001b[37m\u001b[0m \u001b[1m21s\u001b[0m 2ms/step - loss: 0.1729 - val_loss: 0.1749\n",
      "Epoch 7/50\n",
      "\u001b[1m11367/11367\u001b[0m \u001b[32m━━━━━━━━━━━━━━━━━━━━\u001b[0m\u001b[37m\u001b[0m \u001b[1m21s\u001b[0m 2ms/step - loss: 0.1739 - val_loss: 0.1750\n",
      "Epoch 8/50\n",
      "\u001b[1m11367/11367\u001b[0m \u001b[32m━━━━━━━━━━━━━━━━━━━━\u001b[0m\u001b[37m\u001b[0m \u001b[1m21s\u001b[0m 2ms/step - loss: 0.1735 - val_loss: 0.1745\n",
      "Epoch 9/50\n",
      "\u001b[1m11367/11367\u001b[0m \u001b[32m━━━━━━━━━━━━━━━━━━━━\u001b[0m\u001b[37m\u001b[0m \u001b[1m21s\u001b[0m 2ms/step - loss: 0.1723 - val_loss: 0.1752\n",
      "Epoch 10/50\n",
      "\u001b[1m11367/11367\u001b[0m \u001b[32m━━━━━━━━━━━━━━━━━━━━\u001b[0m\u001b[37m\u001b[0m \u001b[1m21s\u001b[0m 2ms/step - loss: 0.1733 - val_loss: 0.1745\n",
      "Epoch 11/50\n",
      "\u001b[1m11367/11367\u001b[0m \u001b[32m━━━━━━━━━━━━━━━━━━━━\u001b[0m\u001b[37m\u001b[0m \u001b[1m21s\u001b[0m 2ms/step - loss: 0.1741 - val_loss: 0.1746\n",
      "Epoch 12/50\n",
      "\u001b[1m11367/11367\u001b[0m \u001b[32m━━━━━━━━━━━━━━━━━━━━\u001b[0m\u001b[37m\u001b[0m \u001b[1m21s\u001b[0m 2ms/step - loss: 0.1728 - val_loss: 0.1744\n",
      "Epoch 13/50\n",
      "\u001b[1m11367/11367\u001b[0m \u001b[32m━━━━━━━━━━━━━━━━━━━━\u001b[0m\u001b[37m\u001b[0m \u001b[1m21s\u001b[0m 2ms/step - loss: 0.1733 - val_loss: 0.1744\n",
      "Epoch 14/50\n",
      "\u001b[1m11367/11367\u001b[0m \u001b[32m━━━━━━━━━━━━━━━━━━━━\u001b[0m\u001b[37m\u001b[0m \u001b[1m21s\u001b[0m 2ms/step - loss: 0.1723 - val_loss: 0.1746\n",
      "Epoch 15/50\n",
      "\u001b[1m11367/11367\u001b[0m \u001b[32m━━━━━━━━━━━━━━━━━━━━\u001b[0m\u001b[37m\u001b[0m \u001b[1m21s\u001b[0m 2ms/step - loss: 0.1723 - val_loss: 0.1745\n",
      "Epoch 16/50\n",
      "\u001b[1m11367/11367\u001b[0m \u001b[32m━━━━━━━━━━━━━━━━━━━━\u001b[0m\u001b[37m\u001b[0m \u001b[1m21s\u001b[0m 2ms/step - loss: 0.1732 - val_loss: 0.1746\n",
      "Epoch 17/50\n",
      "\u001b[1m11367/11367\u001b[0m \u001b[32m━━━━━━━━━━━━━━━━━━━━\u001b[0m\u001b[37m\u001b[0m \u001b[1m21s\u001b[0m 2ms/step - loss: 0.1734 - val_loss: 0.1750\n",
      "Epoch 18/50\n",
      "\u001b[1m11367/11367\u001b[0m \u001b[32m━━━━━━━━━━━━━━━━━━━━\u001b[0m\u001b[37m\u001b[0m \u001b[1m21s\u001b[0m 2ms/step - loss: 0.1729 - val_loss: 0.1744\n",
      "Epoch 19/50\n",
      "\u001b[1m11367/11367\u001b[0m \u001b[32m━━━━━━━━━━━━━━━━━━━━\u001b[0m\u001b[37m\u001b[0m \u001b[1m21s\u001b[0m 2ms/step - loss: 0.1724 - val_loss: 0.1748\n",
      "Epoch 20/50\n",
      "\u001b[1m11367/11367\u001b[0m \u001b[32m━━━━━━━━━━━━━━━━━━━━\u001b[0m\u001b[37m\u001b[0m \u001b[1m21s\u001b[0m 2ms/step - loss: 0.1728 - val_loss: 0.1746\n",
      "Epoch 21/50\n",
      "\u001b[1m11367/11367\u001b[0m \u001b[32m━━━━━━━━━━━━━━━━━━━━\u001b[0m\u001b[37m\u001b[0m \u001b[1m21s\u001b[0m 2ms/step - loss: 0.1714 - val_loss: 0.1747\n",
      "Epoch 22/50\n",
      "\u001b[1m11367/11367\u001b[0m \u001b[32m━━━━━━━━━━━━━━━━━━━━\u001b[0m\u001b[37m\u001b[0m \u001b[1m20s\u001b[0m 2ms/step - loss: 0.1733 - val_loss: 0.1745\n",
      "Epoch 23/50\n",
      "\u001b[1m11367/11367\u001b[0m \u001b[32m━━━━━━━━━━━━━━━━━━━━\u001b[0m\u001b[37m\u001b[0m \u001b[1m21s\u001b[0m 2ms/step - loss: 0.1728 - val_loss: 0.1747\n",
      "Epoch 24/50\n",
      "\u001b[1m11367/11367\u001b[0m \u001b[32m━━━━━━━━━━━━━━━━━━━━\u001b[0m\u001b[37m\u001b[0m \u001b[1m21s\u001b[0m 2ms/step - loss: 0.1723 - val_loss: 0.1747\n",
      "Epoch 25/50\n",
      "\u001b[1m11367/11367\u001b[0m \u001b[32m━━━━━━━━━━━━━━━━━━━━\u001b[0m\u001b[37m\u001b[0m \u001b[1m20s\u001b[0m 2ms/step - loss: 0.1737 - val_loss: 0.1747\n",
      "Epoch 26/50\n",
      "\u001b[1m11367/11367\u001b[0m \u001b[32m━━━━━━━━━━━━━━━━━━━━\u001b[0m\u001b[37m\u001b[0m \u001b[1m21s\u001b[0m 2ms/step - loss: 0.1719 - val_loss: 0.1751\n",
      "Epoch 27/50\n",
      "\u001b[1m11367/11367\u001b[0m \u001b[32m━━━━━━━━━━━━━━━━━━━━\u001b[0m\u001b[37m\u001b[0m \u001b[1m21s\u001b[0m 2ms/step - loss: 0.1724 - val_loss: 0.1744\n",
      "Epoch 28/50\n",
      "\u001b[1m11367/11367\u001b[0m \u001b[32m━━━━━━━━━━━━━━━━━━━━\u001b[0m\u001b[37m\u001b[0m \u001b[1m20s\u001b[0m 2ms/step - loss: 0.1729 - val_loss: 0.1744\n",
      "Epoch 29/50\n",
      "\u001b[1m11367/11367\u001b[0m \u001b[32m━━━━━━━━━━━━━━━━━━━━\u001b[0m\u001b[37m\u001b[0m \u001b[1m20s\u001b[0m 2ms/step - loss: 0.1727 - val_loss: 0.1748\n",
      "Epoch 30/50\n",
      "\u001b[1m11367/11367\u001b[0m \u001b[32m━━━━━━━━━━━━━━━━━━━━\u001b[0m\u001b[37m\u001b[0m \u001b[1m21s\u001b[0m 2ms/step - loss: 0.1722 - val_loss: 0.1750\n",
      "Epoch 31/50\n",
      "\u001b[1m11367/11367\u001b[0m \u001b[32m━━━━━━━━━━━━━━━━━━━━\u001b[0m\u001b[37m\u001b[0m \u001b[1m21s\u001b[0m 2ms/step - loss: 0.1733 - val_loss: 0.1745\n",
      "Epoch 32/50\n",
      "\u001b[1m11367/11367\u001b[0m \u001b[32m━━━━━━━━━━━━━━━━━━━━\u001b[0m\u001b[37m\u001b[0m \u001b[1m21s\u001b[0m 2ms/step - loss: 0.1723 - val_loss: 0.1745\n",
      "Epoch 33/50\n",
      "\u001b[1m11367/11367\u001b[0m \u001b[32m━━━━━━━━━━━━━━━━━━━━\u001b[0m\u001b[37m\u001b[0m \u001b[1m20s\u001b[0m 2ms/step - loss: 0.1729 - val_loss: 0.1747\n",
      "Epoch 34/50\n",
      "\u001b[1m11367/11367\u001b[0m \u001b[32m━━━━━━━━━━━━━━━━━━━━\u001b[0m\u001b[37m\u001b[0m \u001b[1m21s\u001b[0m 2ms/step - loss: 0.1729 - val_loss: 0.1747\n",
      "Epoch 35/50\n",
      "\u001b[1m11367/11367\u001b[0m \u001b[32m━━━━━━━━━━━━━━━━━━━━\u001b[0m\u001b[37m\u001b[0m \u001b[1m21s\u001b[0m 2ms/step - loss: 0.1724 - val_loss: 0.1749\n",
      "Epoch 36/50\n",
      "\u001b[1m11367/11367\u001b[0m \u001b[32m━━━━━━━━━━━━━━━━━━━━\u001b[0m\u001b[37m\u001b[0m \u001b[1m21s\u001b[0m 2ms/step - loss: 0.1731 - val_loss: 0.1745\n",
      "Epoch 37/50\n",
      "\u001b[1m11367/11367\u001b[0m \u001b[32m━━━━━━━━━━━━━━━━━━━━\u001b[0m\u001b[37m\u001b[0m \u001b[1m21s\u001b[0m 2ms/step - loss: 0.1715 - val_loss: 0.1751\n",
      "Epoch 38/50\n",
      "\u001b[1m11367/11367\u001b[0m \u001b[32m━━━━━━━━━━━━━━━━━━━━\u001b[0m\u001b[37m\u001b[0m \u001b[1m21s\u001b[0m 2ms/step - loss: 0.1731 - val_loss: 0.1744\n",
      "Epoch 39/50\n",
      "\u001b[1m11367/11367\u001b[0m \u001b[32m━━━━━━━━━━━━━━━━━━━━\u001b[0m\u001b[37m\u001b[0m \u001b[1m21s\u001b[0m 2ms/step - loss: 0.1727 - val_loss: 0.1745\n",
      "Epoch 40/50\n",
      "\u001b[1m11367/11367\u001b[0m \u001b[32m━━━━━━━━━━━━━━━━━━━━\u001b[0m\u001b[37m\u001b[0m \u001b[1m21s\u001b[0m 2ms/step - loss: 0.1732 - val_loss: 0.1745\n",
      "Epoch 41/50\n",
      "\u001b[1m11367/11367\u001b[0m \u001b[32m━━━━━━━━━━━━━━━━━━━━\u001b[0m\u001b[37m\u001b[0m \u001b[1m21s\u001b[0m 2ms/step - loss: 0.1731 - val_loss: 0.1745\n",
      "Epoch 42/50\n",
      "\u001b[1m11367/11367\u001b[0m \u001b[32m━━━━━━━━━━━━━━━━━━━━\u001b[0m\u001b[37m\u001b[0m \u001b[1m21s\u001b[0m 2ms/step - loss: 0.1726 - val_loss: 0.1745\n",
      "Epoch 43/50\n",
      "\u001b[1m11367/11367\u001b[0m \u001b[32m━━━━━━━━━━━━━━━━━━━━\u001b[0m\u001b[37m\u001b[0m \u001b[1m21s\u001b[0m 2ms/step - loss: 0.1729 - val_loss: 0.1746\n",
      "Epoch 44/50\n",
      "\u001b[1m11367/11367\u001b[0m \u001b[32m━━━━━━━━━━━━━━━━━━━━\u001b[0m\u001b[37m\u001b[0m \u001b[1m21s\u001b[0m 2ms/step - loss: 0.1722 - val_loss: 0.1748\n",
      "Epoch 45/50\n",
      "\u001b[1m11367/11367\u001b[0m \u001b[32m━━━━━━━━━━━━━━━━━━━━\u001b[0m\u001b[37m\u001b[0m \u001b[1m21s\u001b[0m 2ms/step - loss: 0.1716 - val_loss: 0.1748\n",
      "Epoch 46/50\n",
      "\u001b[1m11367/11367\u001b[0m \u001b[32m━━━━━━━━━━━━━━━━━━━━\u001b[0m\u001b[37m\u001b[0m \u001b[1m21s\u001b[0m 2ms/step - loss: 0.1720 - val_loss: 0.1745\n",
      "Epoch 47/50\n",
      "\u001b[1m11367/11367\u001b[0m \u001b[32m━━━━━━━━━━━━━━━━━━━━\u001b[0m\u001b[37m\u001b[0m \u001b[1m21s\u001b[0m 2ms/step - loss: 0.1733 - val_loss: 0.1749\n",
      "Epoch 48/50\n",
      "\u001b[1m11367/11367\u001b[0m \u001b[32m━━━━━━━━━━━━━━━━━━━━\u001b[0m\u001b[37m\u001b[0m \u001b[1m21s\u001b[0m 2ms/step - loss: 0.1729 - val_loss: 0.1751\n",
      "Epoch 49/50\n",
      "\u001b[1m11367/11367\u001b[0m \u001b[32m━━━━━━━━━━━━━━━━━━━━\u001b[0m\u001b[37m\u001b[0m \u001b[1m21s\u001b[0m 2ms/step - loss: 0.1722 - val_loss: 0.1746\n",
      "Epoch 50/50\n",
      "\u001b[1m11367/11367\u001b[0m \u001b[32m━━━━━━━━━━━━━━━━━━━━\u001b[0m\u001b[37m\u001b[0m \u001b[1m21s\u001b[0m 2ms/step - loss: 0.1727 - val_loss: 0.1746\n"
     ]
    },
    {
     "data": {
      "text/plain": [
       "<keras.src.callbacks.history.History at 0x7f089ab88c70>"
      ]
     },
     "execution_count": 26,
     "metadata": {},
     "output_type": "execute_result"
    }
   ],
   "source": [
    "ann_model.fit(X_train_scaled, y_train, epochs=50, batch_size=32, validation_split=0.2, verbose=1)"
   ]
  },
  {
   "cell_type": "code",
   "execution_count": 27,
   "metadata": {
    "execution": {
     "iopub.execute_input": "2024-05-17T09:11:30.715575Z",
     "iopub.status.busy": "2024-05-17T09:11:30.715234Z",
     "iopub.status.idle": "2024-05-17T09:11:37.820721Z",
     "shell.execute_reply": "2024-05-17T09:11:37.819750Z",
     "shell.execute_reply.started": "2024-05-17T09:11:30.715547Z"
    },
    "trusted": true
   },
   "outputs": [
    {
     "name": "stdout",
     "output_type": "stream",
     "text": [
      "\u001b[1m3553/3553\u001b[0m \u001b[32m━━━━━━━━━━━━━━━━━━━━\u001b[0m\u001b[37m\u001b[0m \u001b[1m5s\u001b[0m 1ms/step\n"
     ]
    }
   ],
   "source": [
    "# Predictions and metrics\n",
    "y_pred_ann = ann_model.predict(X_test_scaled)"
   ]
  },
  {
   "cell_type": "code",
   "execution_count": 28,
   "metadata": {
    "execution": {
     "iopub.execute_input": "2024-05-17T09:11:37.822821Z",
     "iopub.status.busy": "2024-05-17T09:11:37.822485Z",
     "iopub.status.idle": "2024-05-17T09:11:37.833638Z",
     "shell.execute_reply": "2024-05-17T09:11:37.832677Z",
     "shell.execute_reply.started": "2024-05-17T09:11:37.822793Z"
    },
    "trusted": true
   },
   "outputs": [
    {
     "name": "stdout",
     "output_type": "stream",
     "text": [
      "ANN - MAE: 0.3221\n",
      "MSE: 0.1740\n",
      "RMSE: 0.4171\n",
      "R-squared (R2): 0.4315\n"
     ]
    }
   ],
   "source": [
    "# Calculate metrics for ANN\n",
    "ann_mae = mean_absolute_error(y_test, y_pred_ann)\n",
    "ann_mse = mean_squared_error(y_test, y_pred_ann)\n",
    "ann_rmse = np.sqrt(ann_mse)\n",
    "\n",
    "r2 = r2_score(y_test, y_pred_ann)\n",
    "\n",
    "# Display the calculated metrics\n",
    "print(f\"ANN - MAE: {ann_mae:.4f}\\nMSE: {ann_mse:.4f}\\nRMSE: {ann_rmse:.4f}\")\n",
    "# \\nMAPE: {ann_mape:.4f}\n",
    "print(f\"R-squared (R2): {r2:.4f}\")\n"
   ]
  },
  {
   "cell_type": "code",
   "execution_count": 29,
   "metadata": {
    "execution": {
     "iopub.execute_input": "2024-05-17T09:11:37.836327Z",
     "iopub.status.busy": "2024-05-17T09:11:37.836013Z",
     "iopub.status.idle": "2024-05-17T09:11:37.872143Z",
     "shell.execute_reply": "2024-05-17T09:11:37.871431Z",
     "shell.execute_reply.started": "2024-05-17T09:11:37.836301Z"
    },
    "trusted": true
   },
   "outputs": [],
   "source": [
    "# Save ANN model\n",
    "ann_model.save('ann_model.h5')\n",
    "with open('ann_scaler.pkl', 'wb') as f:\n",
    "    pickle.dump(scaler, f)"
   ]
  },
  {
   "cell_type": "code",
   "execution_count": 30,
   "metadata": {
    "execution": {
     "iopub.execute_input": "2024-05-17T09:11:37.873672Z",
     "iopub.status.busy": "2024-05-17T09:11:37.873290Z",
     "iopub.status.idle": "2024-05-17T09:11:38.980082Z",
     "shell.execute_reply": "2024-05-17T09:11:38.978670Z",
     "shell.execute_reply.started": "2024-05-17T09:11:37.873638Z"
    },
    "trusted": true
   },
   "outputs": [
    {
     "name": "stdout",
     "output_type": "stream",
     "text": [
      "                            OLS Regression Results                            \n",
      "==============================================================================\n",
      "Dep. Variable:             diff_close   R-squared:                       0.412\n",
      "Model:                            OLS   Adj. R-squared:                  0.412\n",
      "Method:                 Least Squares   F-statistic:                 7.970e+04\n",
      "Date:                Fri, 17 May 2024   Prob (F-statistic):               0.00\n",
      "Time:                        09:11:38   Log-Likelihood:            -3.1596e+05\n",
      "No. Observations:              568331   AIC:                         6.319e+05\n",
      "Df Residuals:                  568325   BIC:                         6.320e+05\n",
      "Df Model:                           5                                         \n",
      "Covariance Type:            nonrobust                                         \n",
      "==============================================================================\n",
      "                 coef    std err          t      P>|t|      [0.025      0.975]\n",
      "------------------------------------------------------------------------------\n",
      "const          0.1115      0.001    189.579      0.000       0.110       0.113\n",
      "open           0.0999      0.114      0.877      0.381      -0.123       0.323\n",
      "high           0.1656      0.123      1.348      0.178      -0.075       0.406\n",
      "low           -0.3917      0.116     -3.389      0.001      -0.618      -0.165\n",
      "close          0.9484      0.117      8.073      0.000       0.718       1.179\n",
      "volume        -0.0059      0.001    -10.410      0.000      -0.007      -0.005\n",
      "==============================================================================\n",
      "Omnibus:                   145705.548   Durbin-Watson:                   2.082\n",
      "Prob(Omnibus):                  0.000   Jarque-Bera (JB):           482161.989\n",
      "Skew:                          -1.294   Prob(JB):                         0.00\n",
      "Kurtosis:                       6.696   Cond. No.                         410.\n",
      "==============================================================================\n",
      "\n",
      "Notes:\n",
      "[1] Standard Errors assume that the covariance matrix of the errors is correctly specified.\n"
     ]
    }
   ],
   "source": [
    "# OLS Regression Report\n",
    "import statsmodels.api as sm\n",
    "\n",
    "X_ols = sm.add_constant(X)\n",
    "\n",
    "ols_model = sm.OLS(y, X_ols)\n",
    "ols_results = ols_model.fit()\n",
    "\n",
    "print(ols_results.summary())"
   ]
  },
  {
   "cell_type": "markdown",
   "metadata": {},
   "source": [
    "## SARIMA (Seasonal ARIMA):"
   ]
  },
  {
   "cell_type": "code",
   "execution_count": null,
   "metadata": {
    "trusted": true
   },
   "outputs": [],
   "source": [
    "df = pd.read_csv(r'/kaggle/input/stationarised-data-stocks/cleaned_stationarized_data.csv')"
   ]
  },
  {
   "cell_type": "code",
   "execution_count": null,
   "metadata": {
    "trusted": true
   },
   "outputs": [],
   "source": [
    "df"
   ]
  },
  {
   "cell_type": "code",
   "execution_count": null,
   "metadata": {
    "trusted": true
   },
   "outputs": [],
   "source": [
    "import pandas as pd\n",
    "import numpy as np\n",
    "import matplotlib.pyplot as plt\n",
    "from statsmodels.tsa.statespace.sarimax import SARIMAX\n",
    "from statsmodels.graphics.tsaplots import plot_acf, plot_pacf\n",
    "from statsmodels.tsa.stattools import adfuller\n"
   ]
  },
  {
   "cell_type": "code",
   "execution_count": null,
   "metadata": {
    "trusted": true
   },
   "outputs": [],
   "source": [
    "sarima_model = SARIMAX(df['diff_close'], order=(p, 1, q), seasonal_order=(p, 1, q, 12))"
   ]
  },
  {
   "cell_type": "code",
   "execution_count": null,
   "metadata": {
    "trusted": true
   },
   "outputs": [],
   "source": [
    "df.isnull().sum()"
   ]
  },
  {
   "cell_type": "code",
   "execution_count": null,
   "metadata": {
    "trusted": true
   },
   "outputs": [],
   "source": [
    "results_sarima = sarima_model.fit()\n",
    "print(results_sarima.summary())"
   ]
  },
  {
   "cell_type": "code",
   "execution_count": null,
   "metadata": {
    "trusted": true
   },
   "outputs": [],
   "source": [
    "# Forecast and plot\n",
    "forecast_sarima = results_sarima.get_forecast(steps=30)\n",
    "forecast_mean_sarima = forecast_sarima.predicted_mean\n",
    "forecast_ci_sarima = forecast_sarima.conf_int()\n",
    "\n",
    "plt.figure(figsize=(12, 6))\n",
    "plt.plot(df['diff_close'], label='Actual')\n",
    "plt.plot(forecast_mean_sarima, label='Forecast', color='red')\n",
    "plt.fill_between(forecast_ci_sarima.index, forecast_ci_sarima.iloc[:, 0], forecast_ci_sarima.iloc[:, 1], color='pink', alpha=0.3)\n",
    "plt.title('SARIMA: Actual vs. Forecast')\n",
    "plt.legend()\n",
    "plt.show()\n",
    "\n",
    "# Save SARIMA model\n",
    "with open('sarima_model.pkl', 'wb') as f:\n",
    "    pickle.dump(sarima_model, f)"
   ]
  },
  {
   "cell_type": "code",
   "execution_count": null,
   "metadata": {
    "trusted": true
   },
   "outputs": [],
   "source": [
    "# Plot ACF and PACF for differenced series\n",
    "plt.figure(figsize=(12, 6))\n",
    "plot_acf(df['diff_close'], lags=40, alpha=0.05)\n",
    "plt.title('Autocorrelation Function (ACF) of Differenced Series')\n",
    "plt.show()\n",
    "\n",
    "plt.figure(figsize=(12, 6))\n",
    "plot_pacf(df['diff_close'], lags=40, alpha=0.05)\n",
    "plt.title('Partial Autocorrelation Function (PACF) of Differenced Series')\n",
    "plt.show()\n"
   ]
  },
  {
   "cell_type": "code",
   "execution_count": null,
   "metadata": {
    "trusted": true
   },
   "outputs": [],
   "source": [
    "from statsmodels.tsa.stattools import acf, pacf\n",
    "import numpy as np\n",
    "\n",
    "# Calculate ACF and PACF values directly for the differenced series (diff_close)\n",
    "acf_values, conf_int_acf = acf(df['diff_close'].dropna(), nlags=40, alpha=0.05)  # Calculate ACF values\n",
    "pacf_values, conf_int_pacf = pacf(df['diff_close'].dropna(), nlags=40, alpha=0.05)  # Calculate PACF values\n",
    "\n",
    "# Find significant lags for p and q (non-seasonal components)\n",
    "# ACF: Find the first significant drop below the confidence interval\n",
    "q = np.where(acf_values < conf_int_acf[:, 1])[0][0]\n",
    "\n",
    "# PACF: Find the first significant drop below the confidence interval\n",
    "p = np.where(pacf_values < conf_int_pacf[:, 1])[0][0]\n",
    "\n",
    "# Print identified p and q values (non-seasonal components)\n",
    "print(f\"Identified p value (autoregressive order): {p}\")\n",
    "print(f\"Identified q value (moving average order): {q}\")\n",
    "\n",
    "# Calculate seasonal ACF and PACF values for the seasonally differenced series\n",
    "seasonal_acf_values, seasonal_conf_int_acf = acf(df['diff_close'].diff(12).dropna(), nlags=40, alpha=0.05)  # Calculate seasonal ACF values\n",
    "seasonal_pacf_values, seasonal_conf_int_pacf = pacf(df['diff_close'].diff(12).dropna(), nlags=40, alpha=0.05)  # Calculate seasonal PACF values\n",
    "\n",
    "# Find significant lags for P and Q (seasonal components)\n",
    "# Seasonal ACF: Find the first significant drop below the confidence interval\n",
    "Q = np.where(seasonal_acf_values < seasonal_conf_int_acf[:, 1])[0][0]\n",
    "\n",
    "# Seasonal PACF: Find the first significant drop below the confidence interval\n",
    "P = np.where(seasonal_pacf_values < seasonal_conf_int_pacf[:, 1])[0][0]\n",
    "\n",
    "# Print identified P and Q values (seasonal components)\n",
    "print(f\"Identified P value (seasonal autoregressive order): {P}\")\n",
    "print(f\"Identified Q value (seasonal moving average order): {Q}\")\n",
    "\n",
    "# Determine the order of seasonal differencing (D)\n",
    "D = 1  # Example: Assume one order of seasonal differencing is needed based on analysis\n",
    "\n",
    "# Print identified D value (order of seasonal differencing)\n",
    "print(f\"Identified D value (order of seasonal differencing): {D}\")\n"
   ]
  },
  {
   "cell_type": "code",
   "execution_count": null,
   "metadata": {
    "trusted": true
   },
   "outputs": [],
   "source": [
    "p = q = d = D = Q = P = 1\n",
    "m = 12 # for 12 months\n",
    "# Define SARIMA parameters based on ACF and PACF analysis\n",
    "order = (p, d, q)  # Non-seasonal parameters\n",
    "seasonal_order = (P, D, Q, m)  # Seasonal parameters\n"
   ]
  },
  {
   "cell_type": "code",
   "execution_count": null,
   "metadata": {
    "trusted": true
   },
   "outputs": [],
   "source": [
    "# Fit SARIMA model to differenced data\n",
    "model = SARIMAX(df['diff_close'], order=order, seasonal_order=seasonal_order)\n",
    "results = model.fit()"
   ]
  },
  {
   "cell_type": "code",
   "execution_count": null,
   "metadata": {
    "trusted": true
   },
   "outputs": [],
   "source": [
    "from statsmodels.tsa.statespace.sarimax import SARIMAX\n",
    "\n",
    "# Create and fit SARIMA model\n",
    "model = SARIMAX(df['diff_close'], order=(1, 1, 1), seasonal_order=(1, 1, 1, 12))\n",
    "results = model.fit()\n",
    "\n",
    "# Generate forecast\n",
    "forecast_steps = 30  # Number of steps to forecast\n",
    "forecast = results.get_forecast(steps=forecast_steps)\n",
    "forecast_mean = forecast.predicted_mean\n",
    "forecast_ci = forecast.conf_int()\n",
    "\n",
    "# Print forecasted mean and confidence intervals\n",
    "print(\"Forecasted Mean:\")\n",
    "print(forecast_mean)\n",
    "\n",
    "print(\"\\nForecasted Confidence Intervals:\")\n",
    "print(forecast_ci)\n"
   ]
  },
  {
   "cell_type": "code",
   "execution_count": null,
   "metadata": {
    "trusted": true
   },
   "outputs": [],
   "source": [
    "# Plot actual vs. forecasted values of the differenced series\n",
    "plt.figure(figsize=(12, 6))\n",
    "plt.plot(df['diff_close'], label='Actual Differenced')\n",
    "plt.plot(forecast_mean, label='Forecast', color='red')\n",
    "plt.fill_between(forecast_ci.index, forecast_ci.iloc[:, 0], forecast_ci.iloc[:, 1], color='pink', alpha=0.3)\n",
    "plt.title('Actual vs. Forecasted Values (Differenced Series)')\n",
    "plt.xlabel('Date')\n",
    "plt.ylabel('Differenced Close Price')\n",
    "plt.legend()\n",
    "plt.show()\n"
   ]
  },
  {
   "cell_type": "code",
   "execution_count": null,
   "metadata": {
    "trusted": true
   },
   "outputs": [],
   "source": [
    "# Print SARIMA model summary\n",
    "print(results.summary())"
   ]
  },
  {
   "cell_type": "code",
   "execution_count": null,
   "metadata": {
    "trusted": true
   },
   "outputs": [],
   "source": [
    "### SARIMA\n",
    "sarima_model = SARIMAX(df['diff_close'], order=(p, 1, q), seasonal_order=(p, 1, q, 12))\n",
    "results_sarima = sarima_model.fit()\n",
    "print(results_sarima.summary())\n",
    "\n",
    "# Forecast and plot\n",
    "forecast_sarima = results_sarima.get_forecast(steps=30)\n",
    "forecast_mean_sarima = forecast_sarima.predicted_mean\n",
    "forecast_ci_sarima = forecast_sarima.conf_int()\n",
    "\n",
    "plt.figure(figsize=(12, 6))\n",
    "plt.plot(df['diff_close'], label='Actual')\n",
    "plt.plot(forecast_mean_sarima, label='Forecast', color='red')\n",
    "plt.fill_between(forecast_ci_sarima.index, forecast_ci_sarima.iloc[:, 0], forecast_ci_sarima.iloc[:, 1], color='pink', alpha=0.3)\n",
    "plt.title('SARIMA: Actual vs. Forecast')\n",
    "plt.legend()\n",
    "plt.show()\n",
    "\n",
    "# Save SARIMA model\n",
    "with open('sarima_model.pkl', 'wb') as f:\n",
    "    pickle.dump(sarima_model, f)"
   ]
  },
  {
   "cell_type": "markdown",
   "metadata": {},
   "source": [
    "### Exponential Smoothing (ETS):"
   ]
  },
  {
   "cell_type": "code",
   "execution_count": null,
   "metadata": {},
   "outputs": [],
   "source": []
  },
  {
   "cell_type": "code",
   "execution_count": null,
   "metadata": {
    "trusted": true
   },
   "outputs": [],
   "source": []
  },
  {
   "cell_type": "code",
   "execution_count": 31,
   "metadata": {
    "execution": {
     "iopub.execute_input": "2024-05-17T09:11:38.983225Z",
     "iopub.status.busy": "2024-05-17T09:11:38.981975Z",
     "iopub.status.idle": "2024-05-17T09:11:40.054845Z",
     "shell.execute_reply": "2024-05-17T09:11:40.053816Z",
     "shell.execute_reply.started": "2024-05-17T09:11:38.983167Z"
    },
    "trusted": true
   },
   "outputs": [
    {
     "data": {
      "text/html": [
       "<div>\n",
       "<style scoped>\n",
       "    .dataframe tbody tr th:only-of-type {\n",
       "        vertical-align: middle;\n",
       "    }\n",
       "\n",
       "    .dataframe tbody tr th {\n",
       "        vertical-align: top;\n",
       "    }\n",
       "\n",
       "    .dataframe thead th {\n",
       "        text-align: right;\n",
       "    }\n",
       "</style>\n",
       "<table border=\"1\" class=\"dataframe\">\n",
       "  <thead>\n",
       "    <tr style=\"text-align: right;\">\n",
       "      <th></th>\n",
       "      <th>date</th>\n",
       "      <th>open</th>\n",
       "      <th>high</th>\n",
       "      <th>low</th>\n",
       "      <th>close</th>\n",
       "      <th>volume</th>\n",
       "      <th>Name</th>\n",
       "      <th>diff_close</th>\n",
       "    </tr>\n",
       "  </thead>\n",
       "  <tbody>\n",
       "    <tr>\n",
       "      <th>0</th>\n",
       "      <td>2013-02-08</td>\n",
       "      <td>-0.697832</td>\n",
       "      <td>-0.699120</td>\n",
       "      <td>-0.700740</td>\n",
       "      <td>-0.701242</td>\n",
       "      <td>0.469964</td>\n",
       "      <td>AAL</td>\n",
       "      <td>0.077729</td>\n",
       "    </tr>\n",
       "    <tr>\n",
       "      <th>1</th>\n",
       "      <td>2013-02-08</td>\n",
       "      <td>-0.626768</td>\n",
       "      <td>-0.625550</td>\n",
       "      <td>-0.625926</td>\n",
       "      <td>-0.623513</td>\n",
       "      <td>-0.149572</td>\n",
       "      <td>HOLX</td>\n",
       "      <td>0.077729</td>\n",
       "    </tr>\n",
       "    <tr>\n",
       "      <th>2</th>\n",
       "      <td>2013-02-08</td>\n",
       "      <td>-0.469546</td>\n",
       "      <td>-0.471335</td>\n",
       "      <td>-0.467285</td>\n",
       "      <td>-0.470520</td>\n",
       "      <td>-0.282202</td>\n",
       "      <td>HCA</td>\n",
       "      <td>0.152994</td>\n",
       "    </tr>\n",
       "    <tr>\n",
       "      <th>3</th>\n",
       "      <td>2013-02-08</td>\n",
       "      <td>-0.375684</td>\n",
       "      <td>-0.377146</td>\n",
       "      <td>-0.371125</td>\n",
       "      <td>-0.373179</td>\n",
       "      <td>-0.139313</td>\n",
       "      <td>HCP</td>\n",
       "      <td>0.097341</td>\n",
       "    </tr>\n",
       "    <tr>\n",
       "      <th>4</th>\n",
       "      <td>2013-02-08</td>\n",
       "      <td>-0.749589</td>\n",
       "      <td>-0.749371</td>\n",
       "      <td>-0.748897</td>\n",
       "      <td>-0.748706</td>\n",
       "      <td>-0.024518</td>\n",
       "      <td>HBI</td>\n",
       "      <td>-0.375528</td>\n",
       "    </tr>\n",
       "    <tr>\n",
       "      <th>...</th>\n",
       "      <td>...</td>\n",
       "      <td>...</td>\n",
       "      <td>...</td>\n",
       "      <td>...</td>\n",
       "      <td>...</td>\n",
       "      <td>...</td>\n",
       "      <td>...</td>\n",
       "      <td>...</td>\n",
       "    </tr>\n",
       "    <tr>\n",
       "      <th>568326</th>\n",
       "      <td>2018-02-07</td>\n",
       "      <td>-0.380203</td>\n",
       "      <td>-0.370120</td>\n",
       "      <td>-0.377032</td>\n",
       "      <td>-0.377389</td>\n",
       "      <td>0.479580</td>\n",
       "      <td>DHI</td>\n",
       "      <td>-0.475204</td>\n",
       "    </tr>\n",
       "    <tr>\n",
       "      <th>568327</th>\n",
       "      <td>2018-02-07</td>\n",
       "      <td>-0.649977</td>\n",
       "      <td>-0.648919</td>\n",
       "      <td>-0.651002</td>\n",
       "      <td>-0.652572</td>\n",
       "      <td>0.012534</td>\n",
       "      <td>WU</td>\n",
       "      <td>-0.275183</td>\n",
       "    </tr>\n",
       "    <tr>\n",
       "      <th>568328</th>\n",
       "      <td>2018-02-07</td>\n",
       "      <td>0.219215</td>\n",
       "      <td>0.220470</td>\n",
       "      <td>0.205311</td>\n",
       "      <td>0.201420</td>\n",
       "      <td>-0.309508</td>\n",
       "      <td>KLAC</td>\n",
       "      <td>0.853992</td>\n",
       "    </tr>\n",
       "    <tr>\n",
       "      <th>568329</th>\n",
       "      <td>2018-02-07</td>\n",
       "      <td>0.585931</td>\n",
       "      <td>0.612574</td>\n",
       "      <td>0.597926</td>\n",
       "      <td>0.606802</td>\n",
       "      <td>-0.148112</td>\n",
       "      <td>TRV</td>\n",
       "      <td>0.405382</td>\n",
       "    </tr>\n",
       "    <tr>\n",
       "      <th>568330</th>\n",
       "      <td>2018-02-07</td>\n",
       "      <td>-0.106013</td>\n",
       "      <td>-0.089386</td>\n",
       "      <td>-0.099124</td>\n",
       "      <td>-0.094299</td>\n",
       "      <td>0.024511</td>\n",
       "      <td>ZTS</td>\n",
       "      <td>-0.701101</td>\n",
       "    </tr>\n",
       "  </tbody>\n",
       "</table>\n",
       "<p>568331 rows × 8 columns</p>\n",
       "</div>"
      ],
      "text/plain": [
       "              date      open      high       low     close    volume  Name  \\\n",
       "0       2013-02-08 -0.697832 -0.699120 -0.700740 -0.701242  0.469964   AAL   \n",
       "1       2013-02-08 -0.626768 -0.625550 -0.625926 -0.623513 -0.149572  HOLX   \n",
       "2       2013-02-08 -0.469546 -0.471335 -0.467285 -0.470520 -0.282202   HCA   \n",
       "3       2013-02-08 -0.375684 -0.377146 -0.371125 -0.373179 -0.139313   HCP   \n",
       "4       2013-02-08 -0.749589 -0.749371 -0.748897 -0.748706 -0.024518   HBI   \n",
       "...            ...       ...       ...       ...       ...       ...   ...   \n",
       "568326  2018-02-07 -0.380203 -0.370120 -0.377032 -0.377389  0.479580   DHI   \n",
       "568327  2018-02-07 -0.649977 -0.648919 -0.651002 -0.652572  0.012534    WU   \n",
       "568328  2018-02-07  0.219215  0.220470  0.205311  0.201420 -0.309508  KLAC   \n",
       "568329  2018-02-07  0.585931  0.612574  0.597926  0.606802 -0.148112   TRV   \n",
       "568330  2018-02-07 -0.106013 -0.089386 -0.099124 -0.094299  0.024511   ZTS   \n",
       "\n",
       "        diff_close  \n",
       "0         0.077729  \n",
       "1         0.077729  \n",
       "2         0.152994  \n",
       "3         0.097341  \n",
       "4        -0.375528  \n",
       "...            ...  \n",
       "568326   -0.475204  \n",
       "568327   -0.275183  \n",
       "568328    0.853992  \n",
       "568329    0.405382  \n",
       "568330   -0.701101  \n",
       "\n",
       "[568331 rows x 8 columns]"
      ]
     },
     "execution_count": 31,
     "metadata": {},
     "output_type": "execute_result"
    }
   ],
   "source": [
    "df = pd.read_csv(r'/kaggle/input/stationarised-data-stocks/cleaned_stationarized_data.csv')\n",
    "df"
   ]
  },
  {
   "cell_type": "code",
   "execution_count": 32,
   "metadata": {
    "execution": {
     "iopub.execute_input": "2024-05-17T09:11:40.056589Z",
     "iopub.status.busy": "2024-05-17T09:11:40.056191Z",
     "iopub.status.idle": "2024-05-17T09:11:40.147394Z",
     "shell.execute_reply": "2024-05-17T09:11:40.146641Z",
     "shell.execute_reply.started": "2024-05-17T09:11:40.056554Z"
    },
    "trusted": true
   },
   "outputs": [],
   "source": [
    "df['date'] = pd.to_datetime(df['date'])"
   ]
  },
  {
   "cell_type": "code",
   "execution_count": 33,
   "metadata": {
    "execution": {
     "iopub.execute_input": "2024-05-17T09:11:40.148639Z",
     "iopub.status.busy": "2024-05-17T09:11:40.148375Z",
     "iopub.status.idle": "2024-05-17T09:11:40.168818Z",
     "shell.execute_reply": "2024-05-17T09:11:40.167643Z",
     "shell.execute_reply.started": "2024-05-17T09:11:40.148616Z"
    },
    "trusted": true
   },
   "outputs": [
    {
     "data": {
      "text/html": [
       "<div>\n",
       "<style scoped>\n",
       "    .dataframe tbody tr th:only-of-type {\n",
       "        vertical-align: middle;\n",
       "    }\n",
       "\n",
       "    .dataframe tbody tr th {\n",
       "        vertical-align: top;\n",
       "    }\n",
       "\n",
       "    .dataframe thead th {\n",
       "        text-align: right;\n",
       "    }\n",
       "</style>\n",
       "<table border=\"1\" class=\"dataframe\">\n",
       "  <thead>\n",
       "    <tr style=\"text-align: right;\">\n",
       "      <th></th>\n",
       "      <th>open</th>\n",
       "      <th>high</th>\n",
       "      <th>low</th>\n",
       "      <th>close</th>\n",
       "      <th>volume</th>\n",
       "      <th>Name</th>\n",
       "      <th>diff_close</th>\n",
       "    </tr>\n",
       "    <tr>\n",
       "      <th>date</th>\n",
       "      <th></th>\n",
       "      <th></th>\n",
       "      <th></th>\n",
       "      <th></th>\n",
       "      <th></th>\n",
       "      <th></th>\n",
       "      <th></th>\n",
       "    </tr>\n",
       "  </thead>\n",
       "  <tbody>\n",
       "    <tr>\n",
       "      <th>2013-02-08</th>\n",
       "      <td>-0.697832</td>\n",
       "      <td>-0.699120</td>\n",
       "      <td>-0.700740</td>\n",
       "      <td>-0.701242</td>\n",
       "      <td>0.469964</td>\n",
       "      <td>AAL</td>\n",
       "      <td>0.077729</td>\n",
       "    </tr>\n",
       "    <tr>\n",
       "      <th>2013-02-08</th>\n",
       "      <td>-0.626768</td>\n",
       "      <td>-0.625550</td>\n",
       "      <td>-0.625926</td>\n",
       "      <td>-0.623513</td>\n",
       "      <td>-0.149572</td>\n",
       "      <td>HOLX</td>\n",
       "      <td>0.077729</td>\n",
       "    </tr>\n",
       "    <tr>\n",
       "      <th>2013-02-08</th>\n",
       "      <td>-0.469546</td>\n",
       "      <td>-0.471335</td>\n",
       "      <td>-0.467285</td>\n",
       "      <td>-0.470520</td>\n",
       "      <td>-0.282202</td>\n",
       "      <td>HCA</td>\n",
       "      <td>0.152994</td>\n",
       "    </tr>\n",
       "    <tr>\n",
       "      <th>2013-02-08</th>\n",
       "      <td>-0.375684</td>\n",
       "      <td>-0.377146</td>\n",
       "      <td>-0.371125</td>\n",
       "      <td>-0.373179</td>\n",
       "      <td>-0.139313</td>\n",
       "      <td>HCP</td>\n",
       "      <td>0.097341</td>\n",
       "    </tr>\n",
       "    <tr>\n",
       "      <th>2013-02-08</th>\n",
       "      <td>-0.749589</td>\n",
       "      <td>-0.749371</td>\n",
       "      <td>-0.748897</td>\n",
       "      <td>-0.748706</td>\n",
       "      <td>-0.024518</td>\n",
       "      <td>HBI</td>\n",
       "      <td>-0.375528</td>\n",
       "    </tr>\n",
       "    <tr>\n",
       "      <th>...</th>\n",
       "      <td>...</td>\n",
       "      <td>...</td>\n",
       "      <td>...</td>\n",
       "      <td>...</td>\n",
       "      <td>...</td>\n",
       "      <td>...</td>\n",
       "      <td>...</td>\n",
       "    </tr>\n",
       "    <tr>\n",
       "      <th>2018-02-07</th>\n",
       "      <td>-0.380203</td>\n",
       "      <td>-0.370120</td>\n",
       "      <td>-0.377032</td>\n",
       "      <td>-0.377389</td>\n",
       "      <td>0.479580</td>\n",
       "      <td>DHI</td>\n",
       "      <td>-0.475204</td>\n",
       "    </tr>\n",
       "    <tr>\n",
       "      <th>2018-02-07</th>\n",
       "      <td>-0.649977</td>\n",
       "      <td>-0.648919</td>\n",
       "      <td>-0.651002</td>\n",
       "      <td>-0.652572</td>\n",
       "      <td>0.012534</td>\n",
       "      <td>WU</td>\n",
       "      <td>-0.275183</td>\n",
       "    </tr>\n",
       "    <tr>\n",
       "      <th>2018-02-07</th>\n",
       "      <td>0.219215</td>\n",
       "      <td>0.220470</td>\n",
       "      <td>0.205311</td>\n",
       "      <td>0.201420</td>\n",
       "      <td>-0.309508</td>\n",
       "      <td>KLAC</td>\n",
       "      <td>0.853992</td>\n",
       "    </tr>\n",
       "    <tr>\n",
       "      <th>2018-02-07</th>\n",
       "      <td>0.585931</td>\n",
       "      <td>0.612574</td>\n",
       "      <td>0.597926</td>\n",
       "      <td>0.606802</td>\n",
       "      <td>-0.148112</td>\n",
       "      <td>TRV</td>\n",
       "      <td>0.405382</td>\n",
       "    </tr>\n",
       "    <tr>\n",
       "      <th>2018-02-07</th>\n",
       "      <td>-0.106013</td>\n",
       "      <td>-0.089386</td>\n",
       "      <td>-0.099124</td>\n",
       "      <td>-0.094299</td>\n",
       "      <td>0.024511</td>\n",
       "      <td>ZTS</td>\n",
       "      <td>-0.701101</td>\n",
       "    </tr>\n",
       "  </tbody>\n",
       "</table>\n",
       "<p>568331 rows × 7 columns</p>\n",
       "</div>"
      ],
      "text/plain": [
       "                open      high       low     close    volume  Name  diff_close\n",
       "date                                                                          \n",
       "2013-02-08 -0.697832 -0.699120 -0.700740 -0.701242  0.469964   AAL    0.077729\n",
       "2013-02-08 -0.626768 -0.625550 -0.625926 -0.623513 -0.149572  HOLX    0.077729\n",
       "2013-02-08 -0.469546 -0.471335 -0.467285 -0.470520 -0.282202   HCA    0.152994\n",
       "2013-02-08 -0.375684 -0.377146 -0.371125 -0.373179 -0.139313   HCP    0.097341\n",
       "2013-02-08 -0.749589 -0.749371 -0.748897 -0.748706 -0.024518   HBI   -0.375528\n",
       "...              ...       ...       ...       ...       ...   ...         ...\n",
       "2018-02-07 -0.380203 -0.370120 -0.377032 -0.377389  0.479580   DHI   -0.475204\n",
       "2018-02-07 -0.649977 -0.648919 -0.651002 -0.652572  0.012534    WU   -0.275183\n",
       "2018-02-07  0.219215  0.220470  0.205311  0.201420 -0.309508  KLAC    0.853992\n",
       "2018-02-07  0.585931  0.612574  0.597926  0.606802 -0.148112   TRV    0.405382\n",
       "2018-02-07 -0.106013 -0.089386 -0.099124 -0.094299  0.024511   ZTS   -0.701101\n",
       "\n",
       "[568331 rows x 7 columns]"
      ]
     },
     "execution_count": 33,
     "metadata": {},
     "output_type": "execute_result"
    }
   ],
   "source": [
    "df.set_index('date', inplace=True)\n",
    "df\n"
   ]
  },
  {
   "cell_type": "code",
   "execution_count": 34,
   "metadata": {
    "execution": {
     "iopub.execute_input": "2024-05-17T09:11:40.170677Z",
     "iopub.status.busy": "2024-05-17T09:11:40.170267Z",
     "iopub.status.idle": "2024-05-17T09:11:40.236056Z",
     "shell.execute_reply": "2024-05-17T09:11:40.234964Z",
     "shell.execute_reply.started": "2024-05-17T09:11:40.170644Z"
    },
    "trusted": true
   },
   "outputs": [
    {
     "data": {
      "text/plain": [
       "open          0\n",
       "high          0\n",
       "low           0\n",
       "close         0\n",
       "volume        0\n",
       "Name          0\n",
       "diff_close    0\n",
       "dtype: int64"
      ]
     },
     "execution_count": 34,
     "metadata": {},
     "output_type": "execute_result"
    }
   ],
   "source": [
    "df.isnull().sum()"
   ]
  },
  {
   "cell_type": "code",
   "execution_count": 35,
   "metadata": {
    "execution": {
     "iopub.execute_input": "2024-05-17T09:11:40.241589Z",
     "iopub.status.busy": "2024-05-17T09:11:40.241173Z",
     "iopub.status.idle": "2024-05-17T09:11:40.245711Z",
     "shell.execute_reply": "2024-05-17T09:11:40.244720Z",
     "shell.execute_reply.started": "2024-05-17T09:11:40.241546Z"
    },
    "trusted": true
   },
   "outputs": [],
   "source": [
    "train_size = int(0.8 * len(df))"
   ]
  },
  {
   "cell_type": "code",
   "execution_count": 36,
   "metadata": {
    "execution": {
     "iopub.execute_input": "2024-05-17T09:11:40.247222Z",
     "iopub.status.busy": "2024-05-17T09:11:40.246945Z",
     "iopub.status.idle": "2024-05-17T09:11:40.254545Z",
     "shell.execute_reply": "2024-05-17T09:11:40.253683Z",
     "shell.execute_reply.started": "2024-05-17T09:11:40.247198Z"
    },
    "trusted": true
   },
   "outputs": [],
   "source": [
    "train_data = df.iloc[:train_size]\n",
    "test_data = df.iloc[train_size:]"
   ]
  },
  {
   "cell_type": "code",
   "execution_count": 37,
   "metadata": {
    "execution": {
     "iopub.execute_input": "2024-05-17T09:11:40.255968Z",
     "iopub.status.busy": "2024-05-17T09:11:40.255699Z",
     "iopub.status.idle": "2024-05-17T09:11:40.273383Z",
     "shell.execute_reply": "2024-05-17T09:11:40.272456Z",
     "shell.execute_reply.started": "2024-05-17T09:11:40.255945Z"
    },
    "trusted": true
   },
   "outputs": [
    {
     "name": "stderr",
     "output_type": "stream",
     "text": [
      "/opt/conda/lib/python3.10/site-packages/statsmodels/tsa/base/tsa_model.py:473: ValueWarning: A date index has been provided, but it has no associated frequency information and so will be ignored when e.g. forecasting.\n",
      "  self._init_dates(dates, freq)\n"
     ]
    }
   ],
   "source": [
    "model_ets = ExponentialSmoothing(train_data['close'], trend='add', seasonal='add', seasonal_periods=12)"
   ]
  },
  {
   "cell_type": "code",
   "execution_count": 38,
   "metadata": {
    "execution": {
     "iopub.execute_input": "2024-05-17T09:11:40.275005Z",
     "iopub.status.busy": "2024-05-17T09:11:40.274680Z",
     "iopub.status.idle": "2024-05-17T09:13:29.659726Z",
     "shell.execute_reply": "2024-05-17T09:13:29.657996Z",
     "shell.execute_reply.started": "2024-05-17T09:11:40.274972Z"
    },
    "trusted": true
   },
   "outputs": [
    {
     "name": "stderr",
     "output_type": "stream",
     "text": [
      "/opt/conda/lib/python3.10/site-packages/statsmodels/tsa/holtwinters/model.py:83: RuntimeWarning: overflow encountered in matmul\n",
      "  return err.T @ err\n",
      "/opt/conda/lib/python3.10/site-packages/statsmodels/tsa/base/tsa_model.py:836: ValueWarning: No supported index is available. Prediction results will be given with an integer index beginning at `start`.\n",
      "  return get_prediction_index(\n",
      "/opt/conda/lib/python3.10/site-packages/statsmodels/tsa/base/tsa_model.py:836: FutureWarning: No supported index is available. In the next version, calling this method in a model without a supported index will result in an exception.\n",
      "  return get_prediction_index(\n"
     ]
    }
   ],
   "source": [
    "ets_fit = model_ets.fit()\n",
    "forecast_ets = ets_fit.forecast(steps=len(test_data))"
   ]
  },
  {
   "cell_type": "code",
   "execution_count": 39,
   "metadata": {
    "execution": {
     "iopub.execute_input": "2024-05-17T09:13:29.662497Z",
     "iopub.status.busy": "2024-05-17T09:13:29.661890Z",
     "iopub.status.idle": "2024-05-17T09:13:36.809662Z",
     "shell.execute_reply": "2024-05-17T09:13:36.807944Z",
     "shell.execute_reply.started": "2024-05-17T09:13:29.662414Z"
    },
    "trusted": true
   },
   "outputs": [
    {
     "name": "stderr",
     "output_type": "stream",
     "text": [
      "/opt/conda/lib/python3.10/site-packages/statsmodels/tsa/base/tsa_model.py:836: ValueWarning: No supported index is available. Prediction results will be given with an integer index beginning at `start`.\n",
      "  return get_prediction_index(\n",
      "/opt/conda/lib/python3.10/site-packages/statsmodels/tsa/base/tsa_model.py:836: FutureWarning: No supported index is available. In the next version, calling this method in a model without a supported index will result in an exception.\n",
      "  return get_prediction_index(\n"
     ]
    }
   ],
   "source": [
    "# Step 6: Forecasting\n",
    "forecast_steps = len(test_data)  # Forecast length same as test set length\n",
    "forecast_ets = ets_fit.forecast(steps=forecast_steps)"
   ]
  },
  {
   "cell_type": "code",
   "execution_count": 40,
   "metadata": {
    "execution": {
     "iopub.execute_input": "2024-05-17T09:13:36.812470Z",
     "iopub.status.busy": "2024-05-17T09:13:36.811882Z",
     "iopub.status.idle": "2024-05-17T09:13:37.944696Z",
     "shell.execute_reply": "2024-05-17T09:13:37.943671Z",
     "shell.execute_reply.started": "2024-05-17T09:13:36.812420Z"
    },
    "trusted": true
   },
   "outputs": [
    {
     "data": {
      "image/png": "[encoded data removed]",
      "text/plain": [
       "<Figure size 1200x600 with 1 Axes>"
      ]
     },
     "metadata": {},
     "output_type": "display_data"
    }
   ],
   "source": [
    "# Step 7: Visualization\n",
    "plt.figure(figsize=(12, 6))\n",
    "plt.plot(train_data.index, train_data['close'], label='Train Data')\n",
    "plt.plot(test_data.index, test_data['close'], label='Test Data')\n",
    "plt.plot(test_data.index, forecast_ets, label='Forecasted Values')\n",
    "plt.title('Forecasting with Exponential Smoothing (ETS)')\n",
    "plt.xlabel('Date')\n",
    "plt.ylabel('Close Price')\n",
    "plt.legend()\n",
    "plt.show()"
   ]
  },
  {
   "cell_type": "code",
   "execution_count": 41,
   "metadata": {
    "execution": {
     "iopub.execute_input": "2024-05-17T09:13:37.946025Z",
     "iopub.status.busy": "2024-05-17T09:13:37.945749Z",
     "iopub.status.idle": "2024-05-17T09:13:37.953282Z",
     "shell.execute_reply": "2024-05-17T09:13:37.952355Z",
     "shell.execute_reply.started": "2024-05-17T09:13:37.946001Z"
    },
    "trusted": true
   },
   "outputs": [
    {
     "name": "stdout",
     "output_type": "stream",
     "text": [
      "ETS RMSE: 1.4461446433815321\n"
     ]
    }
   ],
   "source": [
    "ets_mse = mean_squared_error(test_data['close'], forecast_ets)\n",
    "ets_rmse = np.sqrt(ets_mse)\n",
    "print(f\"ETS RMSE: {ets_rmse}\")"
   ]
  },
  {
   "cell_type": "code",
   "execution_count": 42,
   "metadata": {
    "execution": {
     "iopub.execute_input": "2024-05-17T09:13:37.955218Z",
     "iopub.status.busy": "2024-05-17T09:13:37.954579Z",
     "iopub.status.idle": "2024-05-17T09:13:37.972764Z",
     "shell.execute_reply": "2024-05-17T09:13:37.972036Z",
     "shell.execute_reply.started": "2024-05-17T09:13:37.955184Z"
    },
    "trusted": true
   },
   "outputs": [],
   "source": [
    "# Save ETS model\n",
    "with open('ets_model.pkl', 'wb') as f:\n",
    "    pickle.dump(model_ets, f)"
   ]
  },
  {
   "cell_type": "markdown",
   "metadata": {},
   "source": [
    "### Prophet:"
   ]
  },
  {
   "cell_type": "code",
   "execution_count": 161,
   "metadata": {
    "execution": {
     "iopub.execute_input": "2024-05-17T11:37:34.294175Z",
     "iopub.status.busy": "2024-05-17T11:37:34.293666Z",
     "iopub.status.idle": "2024-05-17T11:37:35.308494Z",
     "shell.execute_reply": "2024-05-17T11:37:35.307566Z",
     "shell.execute_reply.started": "2024-05-17T11:37:34.294137Z"
    },
    "trusted": true
   },
   "outputs": [
    {
     "data": {
      "text/html": [
       "<div>\n",
       "<style scoped>\n",
       "    .dataframe tbody tr th:only-of-type {\n",
       "        vertical-align: middle;\n",
       "    }\n",
       "\n",
       "    .dataframe tbody tr th {\n",
       "        vertical-align: top;\n",
       "    }\n",
       "\n",
       "    .dataframe thead th {\n",
       "        text-align: right;\n",
       "    }\n",
       "</style>\n",
       "<table border=\"1\" class=\"dataframe\">\n",
       "  <thead>\n",
       "    <tr style=\"text-align: right;\">\n",
       "      <th></th>\n",
       "      <th>date</th>\n",
       "      <th>open</th>\n",
       "      <th>high</th>\n",
       "      <th>low</th>\n",
       "      <th>close</th>\n",
       "      <th>volume</th>\n",
       "      <th>Name</th>\n",
       "      <th>diff_close</th>\n",
       "    </tr>\n",
       "  </thead>\n",
       "  <tbody>\n",
       "    <tr>\n",
       "      <th>0</th>\n",
       "      <td>2013-02-08</td>\n",
       "      <td>-0.697832</td>\n",
       "      <td>-0.699120</td>\n",
       "      <td>-0.700740</td>\n",
       "      <td>-0.701242</td>\n",
       "      <td>0.469964</td>\n",
       "      <td>AAL</td>\n",
       "      <td>0.077729</td>\n",
       "    </tr>\n",
       "    <tr>\n",
       "      <th>1</th>\n",
       "      <td>2013-02-08</td>\n",
       "      <td>-0.626768</td>\n",
       "      <td>-0.625550</td>\n",
       "      <td>-0.625926</td>\n",
       "      <td>-0.623513</td>\n",
       "      <td>-0.149572</td>\n",
       "      <td>HOLX</td>\n",
       "      <td>0.077729</td>\n",
       "    </tr>\n",
       "    <tr>\n",
       "      <th>2</th>\n",
       "      <td>2013-02-08</td>\n",
       "      <td>-0.469546</td>\n",
       "      <td>-0.471335</td>\n",
       "      <td>-0.467285</td>\n",
       "      <td>-0.470520</td>\n",
       "      <td>-0.282202</td>\n",
       "      <td>HCA</td>\n",
       "      <td>0.152994</td>\n",
       "    </tr>\n",
       "    <tr>\n",
       "      <th>3</th>\n",
       "      <td>2013-02-08</td>\n",
       "      <td>-0.375684</td>\n",
       "      <td>-0.377146</td>\n",
       "      <td>-0.371125</td>\n",
       "      <td>-0.373179</td>\n",
       "      <td>-0.139313</td>\n",
       "      <td>HCP</td>\n",
       "      <td>0.097341</td>\n",
       "    </tr>\n",
       "    <tr>\n",
       "      <th>4</th>\n",
       "      <td>2013-02-08</td>\n",
       "      <td>-0.749589</td>\n",
       "      <td>-0.749371</td>\n",
       "      <td>-0.748897</td>\n",
       "      <td>-0.748706</td>\n",
       "      <td>-0.024518</td>\n",
       "      <td>HBI</td>\n",
       "      <td>-0.375528</td>\n",
       "    </tr>\n",
       "    <tr>\n",
       "      <th>...</th>\n",
       "      <td>...</td>\n",
       "      <td>...</td>\n",
       "      <td>...</td>\n",
       "      <td>...</td>\n",
       "      <td>...</td>\n",
       "      <td>...</td>\n",
       "      <td>...</td>\n",
       "      <td>...</td>\n",
       "    </tr>\n",
       "    <tr>\n",
       "      <th>568326</th>\n",
       "      <td>2018-02-07</td>\n",
       "      <td>-0.380203</td>\n",
       "      <td>-0.370120</td>\n",
       "      <td>-0.377032</td>\n",
       "      <td>-0.377389</td>\n",
       "      <td>0.479580</td>\n",
       "      <td>DHI</td>\n",
       "      <td>-0.475204</td>\n",
       "    </tr>\n",
       "    <tr>\n",
       "      <th>568327</th>\n",
       "      <td>2018-02-07</td>\n",
       "      <td>-0.649977</td>\n",
       "      <td>-0.648919</td>\n",
       "      <td>-0.651002</td>\n",
       "      <td>-0.652572</td>\n",
       "      <td>0.012534</td>\n",
       "      <td>WU</td>\n",
       "      <td>-0.275183</td>\n",
       "    </tr>\n",
       "    <tr>\n",
       "      <th>568328</th>\n",
       "      <td>2018-02-07</td>\n",
       "      <td>0.219215</td>\n",
       "      <td>0.220470</td>\n",
       "      <td>0.205311</td>\n",
       "      <td>0.201420</td>\n",
       "      <td>-0.309508</td>\n",
       "      <td>KLAC</td>\n",
       "      <td>0.853992</td>\n",
       "    </tr>\n",
       "    <tr>\n",
       "      <th>568329</th>\n",
       "      <td>2018-02-07</td>\n",
       "      <td>0.585931</td>\n",
       "      <td>0.612574</td>\n",
       "      <td>0.597926</td>\n",
       "      <td>0.606802</td>\n",
       "      <td>-0.148112</td>\n",
       "      <td>TRV</td>\n",
       "      <td>0.405382</td>\n",
       "    </tr>\n",
       "    <tr>\n",
       "      <th>568330</th>\n",
       "      <td>2018-02-07</td>\n",
       "      <td>-0.106013</td>\n",
       "      <td>-0.089386</td>\n",
       "      <td>-0.099124</td>\n",
       "      <td>-0.094299</td>\n",
       "      <td>0.024511</td>\n",
       "      <td>ZTS</td>\n",
       "      <td>-0.701101</td>\n",
       "    </tr>\n",
       "  </tbody>\n",
       "</table>\n",
       "<p>568331 rows × 8 columns</p>\n",
       "</div>"
      ],
      "text/plain": [
       "              date      open      high       low     close    volume  Name  \\\n",
       "0       2013-02-08 -0.697832 -0.699120 -0.700740 -0.701242  0.469964   AAL   \n",
       "1       2013-02-08 -0.626768 -0.625550 -0.625926 -0.623513 -0.149572  HOLX   \n",
       "2       2013-02-08 -0.469546 -0.471335 -0.467285 -0.470520 -0.282202   HCA   \n",
       "3       2013-02-08 -0.375684 -0.377146 -0.371125 -0.373179 -0.139313   HCP   \n",
       "4       2013-02-08 -0.749589 -0.749371 -0.748897 -0.748706 -0.024518   HBI   \n",
       "...            ...       ...       ...       ...       ...       ...   ...   \n",
       "568326  2018-02-07 -0.380203 -0.370120 -0.377032 -0.377389  0.479580   DHI   \n",
       "568327  2018-02-07 -0.649977 -0.648919 -0.651002 -0.652572  0.012534    WU   \n",
       "568328  2018-02-07  0.219215  0.220470  0.205311  0.201420 -0.309508  KLAC   \n",
       "568329  2018-02-07  0.585931  0.612574  0.597926  0.606802 -0.148112   TRV   \n",
       "568330  2018-02-07 -0.106013 -0.089386 -0.099124 -0.094299  0.024511   ZTS   \n",
       "\n",
       "        diff_close  \n",
       "0         0.077729  \n",
       "1         0.077729  \n",
       "2         0.152994  \n",
       "3         0.097341  \n",
       "4        -0.375528  \n",
       "...            ...  \n",
       "568326   -0.475204  \n",
       "568327   -0.275183  \n",
       "568328    0.853992  \n",
       "568329    0.405382  \n",
       "568330   -0.701101  \n",
       "\n",
       "[568331 rows x 8 columns]"
      ]
     },
     "execution_count": 161,
     "metadata": {},
     "output_type": "execute_result"
    }
   ],
   "source": [
    "df = pd.read_csv(r'/kaggle/input/stationarised-data-stocks/cleaned_stationarized_data.csv')\n",
    "df"
   ]
  },
  {
   "cell_type": "code",
   "execution_count": 163,
   "metadata": {
    "execution": {
     "iopub.execute_input": "2024-05-17T11:38:36.286919Z",
     "iopub.status.busy": "2024-05-17T11:38:36.286105Z",
     "iopub.status.idle": "2024-05-17T11:38:36.313281Z",
     "shell.execute_reply": "2024-05-17T11:38:36.312372Z",
     "shell.execute_reply.started": "2024-05-17T11:38:36.286881Z"
    },
    "trusted": true
   },
   "outputs": [],
   "source": [
    "df['date'] = pd.to_datetime(df['date'])"
   ]
  },
  {
   "cell_type": "code",
   "execution_count": 165,
   "metadata": {
    "execution": {
     "iopub.execute_input": "2024-05-17T11:38:42.758597Z",
     "iopub.status.busy": "2024-05-17T11:38:42.757769Z",
     "iopub.status.idle": "2024-05-17T11:40:23.035590Z",
     "shell.execute_reply": "2024-05-17T11:40:23.033983Z",
     "shell.execute_reply.started": "2024-05-17T11:38:42.758562Z"
    },
    "trusted": true
   },
   "outputs": [
    {
     "name": "stderr",
     "output_type": "stream",
     "text": [
      "11:39:11 - cmdstanpy - INFO - Chain [1] start processing\n",
      "11:40:20 - cmdstanpy - INFO - Chain [1] done processing\n"
     ]
    },
    {
     "data": {
      "text/plain": [
       "<prophet.forecaster.Prophet at 0x7f041d2a3340>"
      ]
     },
     "execution_count": 165,
     "metadata": {},
     "output_type": "execute_result"
    }
   ],
   "source": [
    "# Fit Prophet model\n",
    "prophet_model = Prophet()\n",
    "prophet_model.fit(prophet_df)"
   ]
  },
  {
   "cell_type": "code",
   "execution_count": 166,
   "metadata": {
    "execution": {
     "iopub.execute_input": "2024-05-17T11:40:23.038151Z",
     "iopub.status.busy": "2024-05-17T11:40:23.037823Z",
     "iopub.status.idle": "2024-05-17T11:40:23.602311Z",
     "shell.execute_reply": "2024-05-17T11:40:23.601282Z",
     "shell.execute_reply.started": "2024-05-17T11:40:23.038124Z"
    },
    "trusted": true
   },
   "outputs": [],
   "source": [
    "# Generate future dates for forecasting\n",
    "future_dates = prophet_model.make_future_dataframe(periods=30)\n",
    "forecast_prophet = prophet_model.predict(future_dates)\n"
   ]
  },
  {
   "cell_type": "code",
   "execution_count": 167,
   "metadata": {
    "execution": {
     "iopub.execute_input": "2024-05-17T11:40:23.603907Z",
     "iopub.status.busy": "2024-05-17T11:40:23.603589Z",
     "iopub.status.idle": "2024-05-17T11:42:03.067870Z",
     "shell.execute_reply": "2024-05-17T11:42:03.066783Z",
     "shell.execute_reply.started": "2024-05-17T11:40:23.603880Z"
    },
    "trusted": true
   },
   "outputs": [
    {
     "name": "stderr",
     "output_type": "stream",
     "text": [
      "11:40:50 - cmdstanpy - INFO - Chain [1] start processing\n",
      "11:42:00 - cmdstanpy - INFO - Chain [1] done processing\n"
     ]
    },
    {
     "data": {
      "text/plain": [
       "<prophet.forecaster.Prophet at 0x7f041d30ada0>"
      ]
     },
     "execution_count": 167,
     "metadata": {},
     "output_type": "execute_result"
    }
   ],
   "source": [
    "# Initialize another Prophet model for forecasting\n",
    "model = Prophet()\n",
    "model.fit(prophet_df)"
   ]
  },
  {
   "cell_type": "code",
   "execution_count": 168,
   "metadata": {
    "execution": {
     "iopub.execute_input": "2024-05-17T11:42:03.070238Z",
     "iopub.status.busy": "2024-05-17T11:42:03.069896Z",
     "iopub.status.idle": "2024-05-17T11:42:04.042807Z",
     "shell.execute_reply": "2024-05-17T11:42:04.041831Z",
     "shell.execute_reply.started": "2024-05-17T11:42:03.070210Z"
    },
    "trusted": true
   },
   "outputs": [],
   "source": [
    "# Generate future dates for another set of forecasting\n",
    "future = model.make_future_dataframe(periods=365)\n",
    "forecast = model.predict(future)"
   ]
  },
  {
   "cell_type": "code",
   "execution_count": 169,
   "metadata": {
    "execution": {
     "iopub.execute_input": "2024-05-17T11:42:04.044609Z",
     "iopub.status.busy": "2024-05-17T11:42:04.044201Z",
     "iopub.status.idle": "2024-05-17T11:42:07.793811Z",
     "shell.execute_reply": "2024-05-17T11:42:07.792768Z",
     "shell.execute_reply.started": "2024-05-17T11:42:04.044570Z"
    },
    "trusted": true
   },
   "outputs": [
    {
     "name": "stderr",
     "output_type": "stream",
     "text": [
      "/opt/conda/lib/python3.10/site-packages/prophet/plot.py:71: FutureWarning: The behavior of DatetimeProperties.to_pydatetime is deprecated, in a future version this will return a Series containing python datetime objects instead of an ndarray. To retain the old behavior, call `np.array` on the result\n",
      "  fcst_t = fcst['ds'].dt.to_pydatetime()\n",
      "/opt/conda/lib/python3.10/site-packages/prophet/plot.py:72: FutureWarning: The behavior of DatetimeProperties.to_pydatetime is deprecated, in a future version this will return a Series containing python datetime objects instead of an ndarray. To retain the old behavior, call `np.array` on the result\n",
      "  ax.plot(m.history['ds'].dt.to_pydatetime(), m.history['y'], 'k.',\n"
     ]
    },
    {
     "data": {
      "text/plain": [
       "Text(0.5, 1.0, 'Prophet Forecast')"
      ]
     },
     "execution_count": 169,
     "metadata": {},
     "output_type": "execute_result"
    },
    {
     "data": {
      "image/png": "[encoded data removed]",
      "text/plain": [
       "<Figure size 1000x600 with 1 Axes>"
      ]
     },
     "metadata": {},
     "output_type": "display_data"
    }
   ],
   "source": [
    "# Plot forecasts\n",
    "fig = model.plot(forecast)\n",
    "plt.xlabel('Date')\n",
    "plt.ylabel('Close Price')\n",
    "plt.title('Prophet Forecast')"
   ]
  },
  {
   "cell_type": "code",
   "execution_count": 173,
   "metadata": {
    "execution": {
     "iopub.execute_input": "2024-05-17T11:43:37.538808Z",
     "iopub.status.busy": "2024-05-17T11:43:37.537797Z",
     "iopub.status.idle": "2024-05-17T11:43:37.614705Z",
     "shell.execute_reply": "2024-05-17T11:43:37.613459Z",
     "shell.execute_reply.started": "2024-05-17T11:43:37.538772Z"
    },
    "trusted": true
   },
   "outputs": [
    {
     "ename": "ValueError",
     "evalue": "Found input variables with inconsistent numbers of samples: [568331, 1259]",
     "output_type": "error",
     "traceback": [
      "\u001b[0;31m---------------------------------------------------------------------------\u001b[0m",
      "\u001b[0;31mValueError\u001b[0m                                Traceback (most recent call last)",
      "Cell \u001b[0;32mIn[173], line 5\u001b[0m\n\u001b[1;32m      3\u001b[0m y_pred \u001b[38;5;241m=\u001b[39m forecast_prophet[\u001b[38;5;124m'\u001b[39m\u001b[38;5;124myhat\u001b[39m\u001b[38;5;124m'\u001b[39m]\u001b[38;5;241m.\u001b[39mvalues[:\u001b[38;5;241m-\u001b[39m\u001b[38;5;241m30\u001b[39m]  \u001b[38;5;66;03m# Exclude the 30 forecasted days\u001b[39;00m\n\u001b[1;32m      4\u001b[0m \u001b[38;5;66;03m# prophet_mae = mean_absolute_error(y_true, y_pred)\u001b[39;00m\n\u001b[0;32m----> 5\u001b[0m prophet_mse \u001b[38;5;241m=\u001b[39m \u001b[43mmean_squared_error\u001b[49m\u001b[43m(\u001b[49m\u001b[43my_true\u001b[49m\u001b[43m,\u001b[49m\u001b[43m \u001b[49m\u001b[43my_pred\u001b[49m\u001b[43m)\u001b[49m\n\u001b[1;32m      6\u001b[0m prophet_rmse \u001b[38;5;241m=\u001b[39m np\u001b[38;5;241m.\u001b[39msqrt(prophet_mse)\n\u001b[1;32m      8\u001b[0m \u001b[38;5;28mprint\u001b[39m(\u001b[38;5;124mf\u001b[39m\u001b[38;5;124m\"\u001b[39m\u001b[38;5;124mProphet - MAE: \u001b[39m\u001b[38;5;132;01m{\u001b[39;00mprophet_mae\u001b[38;5;132;01m:\u001b[39;00m\u001b[38;5;124m.4f\u001b[39m\u001b[38;5;132;01m}\u001b[39;00m\u001b[38;5;124m, MSE: \u001b[39m\u001b[38;5;132;01m{\u001b[39;00mprophet_mse\u001b[38;5;132;01m:\u001b[39;00m\u001b[38;5;124m.4f\u001b[39m\u001b[38;5;132;01m}\u001b[39;00m\u001b[38;5;124m, RMSE: \u001b[39m\u001b[38;5;132;01m{\u001b[39;00mprophet_rmse\u001b[38;5;132;01m:\u001b[39;00m\u001b[38;5;124m.4f\u001b[39m\u001b[38;5;132;01m}\u001b[39;00m\u001b[38;5;124m\"\u001b[39m)\n",
      "File \u001b[0;32m/opt/conda/lib/python3.10/site-packages/sklearn/metrics/_regression.py:442\u001b[0m, in \u001b[0;36mmean_squared_error\u001b[0;34m(y_true, y_pred, sample_weight, multioutput, squared)\u001b[0m\n\u001b[1;32m    382\u001b[0m \u001b[38;5;28;01mdef\u001b[39;00m \u001b[38;5;21mmean_squared_error\u001b[39m(\n\u001b[1;32m    383\u001b[0m     y_true, y_pred, \u001b[38;5;241m*\u001b[39m, sample_weight\u001b[38;5;241m=\u001b[39m\u001b[38;5;28;01mNone\u001b[39;00m, multioutput\u001b[38;5;241m=\u001b[39m\u001b[38;5;124m\"\u001b[39m\u001b[38;5;124muniform_average\u001b[39m\u001b[38;5;124m\"\u001b[39m, squared\u001b[38;5;241m=\u001b[39m\u001b[38;5;28;01mTrue\u001b[39;00m\n\u001b[1;32m    384\u001b[0m ):\n\u001b[1;32m    385\u001b[0m \u001b[38;5;250m    \u001b[39m\u001b[38;5;124;03m\"\"\"Mean squared error regression loss.\u001b[39;00m\n\u001b[1;32m    386\u001b[0m \n\u001b[1;32m    387\u001b[0m \u001b[38;5;124;03m    Read more in the :ref:`User Guide <mean_squared_error>`.\u001b[39;00m\n\u001b[0;32m   (...)\u001b[0m\n\u001b[1;32m    440\u001b[0m \u001b[38;5;124;03m    0.825...\u001b[39;00m\n\u001b[1;32m    441\u001b[0m \u001b[38;5;124;03m    \"\"\"\u001b[39;00m\n\u001b[0;32m--> 442\u001b[0m     y_type, y_true, y_pred, multioutput \u001b[38;5;241m=\u001b[39m \u001b[43m_check_reg_targets\u001b[49m\u001b[43m(\u001b[49m\n\u001b[1;32m    443\u001b[0m \u001b[43m        \u001b[49m\u001b[43my_true\u001b[49m\u001b[43m,\u001b[49m\u001b[43m \u001b[49m\u001b[43my_pred\u001b[49m\u001b[43m,\u001b[49m\u001b[43m \u001b[49m\u001b[43mmultioutput\u001b[49m\n\u001b[1;32m    444\u001b[0m \u001b[43m    \u001b[49m\u001b[43m)\u001b[49m\n\u001b[1;32m    445\u001b[0m     check_consistent_length(y_true, y_pred, sample_weight)\n\u001b[1;32m    446\u001b[0m     output_errors \u001b[38;5;241m=\u001b[39m np\u001b[38;5;241m.\u001b[39maverage((y_true \u001b[38;5;241m-\u001b[39m y_pred) \u001b[38;5;241m*\u001b[39m\u001b[38;5;241m*\u001b[39m \u001b[38;5;241m2\u001b[39m, axis\u001b[38;5;241m=\u001b[39m\u001b[38;5;241m0\u001b[39m, weights\u001b[38;5;241m=\u001b[39msample_weight)\n",
      "File \u001b[0;32m/opt/conda/lib/python3.10/site-packages/sklearn/metrics/_regression.py:100\u001b[0m, in \u001b[0;36m_check_reg_targets\u001b[0;34m(y_true, y_pred, multioutput, dtype)\u001b[0m\n\u001b[1;32m     66\u001b[0m \u001b[38;5;28;01mdef\u001b[39;00m \u001b[38;5;21m_check_reg_targets\u001b[39m(y_true, y_pred, multioutput, dtype\u001b[38;5;241m=\u001b[39m\u001b[38;5;124m\"\u001b[39m\u001b[38;5;124mnumeric\u001b[39m\u001b[38;5;124m\"\u001b[39m):\n\u001b[1;32m     67\u001b[0m \u001b[38;5;250m    \u001b[39m\u001b[38;5;124;03m\"\"\"Check that y_true and y_pred belong to the same regression task.\u001b[39;00m\n\u001b[1;32m     68\u001b[0m \n\u001b[1;32m     69\u001b[0m \u001b[38;5;124;03m    Parameters\u001b[39;00m\n\u001b[0;32m   (...)\u001b[0m\n\u001b[1;32m     98\u001b[0m \u001b[38;5;124;03m        correct keyword.\u001b[39;00m\n\u001b[1;32m     99\u001b[0m \u001b[38;5;124;03m    \"\"\"\u001b[39;00m\n\u001b[0;32m--> 100\u001b[0m     \u001b[43mcheck_consistent_length\u001b[49m\u001b[43m(\u001b[49m\u001b[43my_true\u001b[49m\u001b[43m,\u001b[49m\u001b[43m \u001b[49m\u001b[43my_pred\u001b[49m\u001b[43m)\u001b[49m\n\u001b[1;32m    101\u001b[0m     y_true \u001b[38;5;241m=\u001b[39m check_array(y_true, ensure_2d\u001b[38;5;241m=\u001b[39m\u001b[38;5;28;01mFalse\u001b[39;00m, dtype\u001b[38;5;241m=\u001b[39mdtype)\n\u001b[1;32m    102\u001b[0m     y_pred \u001b[38;5;241m=\u001b[39m check_array(y_pred, ensure_2d\u001b[38;5;241m=\u001b[39m\u001b[38;5;28;01mFalse\u001b[39;00m, dtype\u001b[38;5;241m=\u001b[39mdtype)\n",
      "File \u001b[0;32m/opt/conda/lib/python3.10/site-packages/sklearn/utils/validation.py:397\u001b[0m, in \u001b[0;36mcheck_consistent_length\u001b[0;34m(*arrays)\u001b[0m\n\u001b[1;32m    395\u001b[0m uniques \u001b[38;5;241m=\u001b[39m np\u001b[38;5;241m.\u001b[39munique(lengths)\n\u001b[1;32m    396\u001b[0m \u001b[38;5;28;01mif\u001b[39;00m \u001b[38;5;28mlen\u001b[39m(uniques) \u001b[38;5;241m>\u001b[39m \u001b[38;5;241m1\u001b[39m:\n\u001b[0;32m--> 397\u001b[0m     \u001b[38;5;28;01mraise\u001b[39;00m \u001b[38;5;167;01mValueError\u001b[39;00m(\n\u001b[1;32m    398\u001b[0m         \u001b[38;5;124m\"\u001b[39m\u001b[38;5;124mFound input variables with inconsistent numbers of samples: \u001b[39m\u001b[38;5;132;01m%r\u001b[39;00m\u001b[38;5;124m\"\u001b[39m\n\u001b[1;32m    399\u001b[0m         \u001b[38;5;241m%\u001b[39m [\u001b[38;5;28mint\u001b[39m(l) \u001b[38;5;28;01mfor\u001b[39;00m l \u001b[38;5;129;01min\u001b[39;00m lengths]\n\u001b[1;32m    400\u001b[0m     )\n",
      "\u001b[0;31mValueError\u001b[0m: Found input variables with inconsistent numbers of samples: [568331, 1259]"
     ]
    }
   ],
   "source": [
    "# Calculate evaluation metrics\n",
    "y_true = prophet_df['y'].values\n",
    "y_pred = forecast_prophet['yhat'].values[:-30]  # Exclude the 30 forecasted days\n",
    "# prophet_mae = mean_absolute_error(y_true, y_pred)\n",
    "prophet_mse = mean_squared_error(y_true, y_pred)\n",
    "prophet_rmse = np.sqrt(prophet_mse)\n",
    "\n",
    "print(f\"Prophet - MAE: {prophet_mae:.4f}, MSE: {prophet_mse:.4f}, RMSE: {prophet_rmse:.4f}\")"
   ]
  },
  {
   "cell_type": "code",
   "execution_count": null,
   "metadata": {
    "trusted": true
   },
   "outputs": [],
   "source": []
  },
  {
   "cell_type": "code",
   "execution_count": null,
   "metadata": {
    "trusted": true
   },
   "outputs": [],
   "source": []
  },
  {
   "cell_type": "code",
   "execution_count": 58,
   "metadata": {
    "execution": {
     "iopub.execute_input": "2024-05-17T09:28:16.520881Z",
     "iopub.status.busy": "2024-05-17T09:28:16.519985Z",
     "iopub.status.idle": "2024-05-17T09:28:16.687561Z",
     "shell.execute_reply": "2024-05-17T09:28:16.686458Z",
     "shell.execute_reply.started": "2024-05-17T09:28:16.520842Z"
    },
    "trusted": true
   },
   "outputs": [],
   "source": [
    "# Save Prophet model\n",
    "with open('prophet_model.pkl', 'wb') as f:\n",
    "    pickle.dump(model, f)"
   ]
  },
  {
   "cell_type": "markdown",
   "metadata": {},
   "source": [
    "## SVR"
   ]
  },
  {
   "cell_type": "code",
   "execution_count": 59,
   "metadata": {
    "execution": {
     "iopub.execute_input": "2024-05-17T09:28:16.689365Z",
     "iopub.status.busy": "2024-05-17T09:28:16.689053Z",
     "iopub.status.idle": "2024-05-17T09:28:17.752058Z",
     "shell.execute_reply": "2024-05-17T09:28:17.750960Z",
     "shell.execute_reply.started": "2024-05-17T09:28:16.689337Z"
    },
    "trusted": true
   },
   "outputs": [
    {
     "data": {
      "text/html": [
       "<div>\n",
       "<style scoped>\n",
       "    .dataframe tbody tr th:only-of-type {\n",
       "        vertical-align: middle;\n",
       "    }\n",
       "\n",
       "    .dataframe tbody tr th {\n",
       "        vertical-align: top;\n",
       "    }\n",
       "\n",
       "    .dataframe thead th {\n",
       "        text-align: right;\n",
       "    }\n",
       "</style>\n",
       "<table border=\"1\" class=\"dataframe\">\n",
       "  <thead>\n",
       "    <tr style=\"text-align: right;\">\n",
       "      <th></th>\n",
       "      <th>date</th>\n",
       "      <th>open</th>\n",
       "      <th>high</th>\n",
       "      <th>low</th>\n",
       "      <th>close</th>\n",
       "      <th>volume</th>\n",
       "      <th>Name</th>\n",
       "      <th>diff_close</th>\n",
       "    </tr>\n",
       "  </thead>\n",
       "  <tbody>\n",
       "    <tr>\n",
       "      <th>0</th>\n",
       "      <td>2013-02-08</td>\n",
       "      <td>-0.697832</td>\n",
       "      <td>-0.699120</td>\n",
       "      <td>-0.700740</td>\n",
       "      <td>-0.701242</td>\n",
       "      <td>0.469964</td>\n",
       "      <td>AAL</td>\n",
       "      <td>0.077729</td>\n",
       "    </tr>\n",
       "    <tr>\n",
       "      <th>1</th>\n",
       "      <td>2013-02-08</td>\n",
       "      <td>-0.626768</td>\n",
       "      <td>-0.625550</td>\n",
       "      <td>-0.625926</td>\n",
       "      <td>-0.623513</td>\n",
       "      <td>-0.149572</td>\n",
       "      <td>HOLX</td>\n",
       "      <td>0.077729</td>\n",
       "    </tr>\n",
       "    <tr>\n",
       "      <th>2</th>\n",
       "      <td>2013-02-08</td>\n",
       "      <td>-0.469546</td>\n",
       "      <td>-0.471335</td>\n",
       "      <td>-0.467285</td>\n",
       "      <td>-0.470520</td>\n",
       "      <td>-0.282202</td>\n",
       "      <td>HCA</td>\n",
       "      <td>0.152994</td>\n",
       "    </tr>\n",
       "    <tr>\n",
       "      <th>3</th>\n",
       "      <td>2013-02-08</td>\n",
       "      <td>-0.375684</td>\n",
       "      <td>-0.377146</td>\n",
       "      <td>-0.371125</td>\n",
       "      <td>-0.373179</td>\n",
       "      <td>-0.139313</td>\n",
       "      <td>HCP</td>\n",
       "      <td>0.097341</td>\n",
       "    </tr>\n",
       "    <tr>\n",
       "      <th>4</th>\n",
       "      <td>2013-02-08</td>\n",
       "      <td>-0.749589</td>\n",
       "      <td>-0.749371</td>\n",
       "      <td>-0.748897</td>\n",
       "      <td>-0.748706</td>\n",
       "      <td>-0.024518</td>\n",
       "      <td>HBI</td>\n",
       "      <td>-0.375528</td>\n",
       "    </tr>\n",
       "    <tr>\n",
       "      <th>...</th>\n",
       "      <td>...</td>\n",
       "      <td>...</td>\n",
       "      <td>...</td>\n",
       "      <td>...</td>\n",
       "      <td>...</td>\n",
       "      <td>...</td>\n",
       "      <td>...</td>\n",
       "      <td>...</td>\n",
       "    </tr>\n",
       "    <tr>\n",
       "      <th>568326</th>\n",
       "      <td>2018-02-07</td>\n",
       "      <td>-0.380203</td>\n",
       "      <td>-0.370120</td>\n",
       "      <td>-0.377032</td>\n",
       "      <td>-0.377389</td>\n",
       "      <td>0.479580</td>\n",
       "      <td>DHI</td>\n",
       "      <td>-0.475204</td>\n",
       "    </tr>\n",
       "    <tr>\n",
       "      <th>568327</th>\n",
       "      <td>2018-02-07</td>\n",
       "      <td>-0.649977</td>\n",
       "      <td>-0.648919</td>\n",
       "      <td>-0.651002</td>\n",
       "      <td>-0.652572</td>\n",
       "      <td>0.012534</td>\n",
       "      <td>WU</td>\n",
       "      <td>-0.275183</td>\n",
       "    </tr>\n",
       "    <tr>\n",
       "      <th>568328</th>\n",
       "      <td>2018-02-07</td>\n",
       "      <td>0.219215</td>\n",
       "      <td>0.220470</td>\n",
       "      <td>0.205311</td>\n",
       "      <td>0.201420</td>\n",
       "      <td>-0.309508</td>\n",
       "      <td>KLAC</td>\n",
       "      <td>0.853992</td>\n",
       "    </tr>\n",
       "    <tr>\n",
       "      <th>568329</th>\n",
       "      <td>2018-02-07</td>\n",
       "      <td>0.585931</td>\n",
       "      <td>0.612574</td>\n",
       "      <td>0.597926</td>\n",
       "      <td>0.606802</td>\n",
       "      <td>-0.148112</td>\n",
       "      <td>TRV</td>\n",
       "      <td>0.405382</td>\n",
       "    </tr>\n",
       "    <tr>\n",
       "      <th>568330</th>\n",
       "      <td>2018-02-07</td>\n",
       "      <td>-0.106013</td>\n",
       "      <td>-0.089386</td>\n",
       "      <td>-0.099124</td>\n",
       "      <td>-0.094299</td>\n",
       "      <td>0.024511</td>\n",
       "      <td>ZTS</td>\n",
       "      <td>-0.701101</td>\n",
       "    </tr>\n",
       "  </tbody>\n",
       "</table>\n",
       "<p>568331 rows × 8 columns</p>\n",
       "</div>"
      ],
      "text/plain": [
       "              date      open      high       low     close    volume  Name  \\\n",
       "0       2013-02-08 -0.697832 -0.699120 -0.700740 -0.701242  0.469964   AAL   \n",
       "1       2013-02-08 -0.626768 -0.625550 -0.625926 -0.623513 -0.149572  HOLX   \n",
       "2       2013-02-08 -0.469546 -0.471335 -0.467285 -0.470520 -0.282202   HCA   \n",
       "3       2013-02-08 -0.375684 -0.377146 -0.371125 -0.373179 -0.139313   HCP   \n",
       "4       2013-02-08 -0.749589 -0.749371 -0.748897 -0.748706 -0.024518   HBI   \n",
       "...            ...       ...       ...       ...       ...       ...   ...   \n",
       "568326  2018-02-07 -0.380203 -0.370120 -0.377032 -0.377389  0.479580   DHI   \n",
       "568327  2018-02-07 -0.649977 -0.648919 -0.651002 -0.652572  0.012534    WU   \n",
       "568328  2018-02-07  0.219215  0.220470  0.205311  0.201420 -0.309508  KLAC   \n",
       "568329  2018-02-07  0.585931  0.612574  0.597926  0.606802 -0.148112   TRV   \n",
       "568330  2018-02-07 -0.106013 -0.089386 -0.099124 -0.094299  0.024511   ZTS   \n",
       "\n",
       "        diff_close  \n",
       "0         0.077729  \n",
       "1         0.077729  \n",
       "2         0.152994  \n",
       "3         0.097341  \n",
       "4        -0.375528  \n",
       "...            ...  \n",
       "568326   -0.475204  \n",
       "568327   -0.275183  \n",
       "568328    0.853992  \n",
       "568329    0.405382  \n",
       "568330   -0.701101  \n",
       "\n",
       "[568331 rows x 8 columns]"
      ]
     },
     "execution_count": 59,
     "metadata": {},
     "output_type": "execute_result"
    }
   ],
   "source": [
    "df = pd.read_csv(r'/kaggle/input/stationarised-data-stocks/cleaned_stationarized_data.csv')\n",
    "df"
   ]
  },
  {
   "cell_type": "code",
   "execution_count": 60,
   "metadata": {
    "execution": {
     "iopub.execute_input": "2024-05-17T09:28:17.753880Z",
     "iopub.status.busy": "2024-05-17T09:28:17.753478Z",
     "iopub.status.idle": "2024-05-17T09:28:17.762229Z",
     "shell.execute_reply": "2024-05-17T09:28:17.761442Z",
     "shell.execute_reply.started": "2024-05-17T09:28:17.753841Z"
    },
    "trusted": true
   },
   "outputs": [],
   "source": [
    "X = df[['open', 'high', 'low', 'volume']]  # Include relevant features\n",
    "y = df['close']  # Target variable"
   ]
  },
  {
   "cell_type": "code",
   "execution_count": 61,
   "metadata": {
    "execution": {
     "iopub.execute_input": "2024-05-17T09:28:17.764150Z",
     "iopub.status.busy": "2024-05-17T09:28:17.763777Z",
     "iopub.status.idle": "2024-05-17T09:28:17.809359Z",
     "shell.execute_reply": "2024-05-17T09:28:17.808507Z",
     "shell.execute_reply.started": "2024-05-17T09:28:17.764120Z"
    },
    "trusted": true
   },
   "outputs": [],
   "source": [
    "# Split the data into training and testing sets\n",
    "X_train, X_test, y_train, y_test = train_test_split(X, y, test_size=0.2, random_state=42)\n"
   ]
  },
  {
   "cell_type": "code",
   "execution_count": 62,
   "metadata": {
    "execution": {
     "iopub.execute_input": "2024-05-17T09:28:17.811024Z",
     "iopub.status.busy": "2024-05-17T09:28:17.810676Z",
     "iopub.status.idle": "2024-05-17T09:28:29.577212Z",
     "shell.execute_reply": "2024-05-17T09:28:29.576104Z",
     "shell.execute_reply.started": "2024-05-17T09:28:17.810994Z"
    },
    "trusted": true
   },
   "outputs": [
    {
     "data": {
      "text/html": [
       "<style>#sk-container-id-1 {color: black;background-color: white;}#sk-container-id-1 pre{padding: 0;}#sk-container-id-1 div.sk-toggleable {background-color: white;}#sk-container-id-1 label.sk-toggleable__label {cursor: pointer;display: block;width: 100%;margin-bottom: 0;padding: 0.3em;box-sizing: border-box;text-align: center;}#sk-container-id-1 label.sk-toggleable__label-arrow:before {content: \"▸\";float: left;margin-right: 0.25em;color: #696969;}#sk-container-id-1 label.sk-toggleable__label-arrow:hover:before {color: black;}#sk-container-id-1 div.sk-estimator:hover label.sk-toggleable__label-arrow:before {color: black;}#sk-container-id-1 div.sk-toggleable__content {max-height: 0;max-width: 0;overflow: hidden;text-align: left;background-color: #f0f8ff;}#sk-container-id-1 div.sk-toggleable__content pre {margin: 0.2em;color: black;border-radius: 0.25em;background-color: #f0f8ff;}#sk-container-id-1 input.sk-toggleable__control:checked~div.sk-toggleable__content {max-height: 200px;max-width: 100%;overflow: auto;}#sk-container-id-1 input.sk-toggleable__control:checked~label.sk-toggleable__label-arrow:before {content: \"▾\";}#sk-container-id-1 div.sk-estimator input.sk-toggleable__control:checked~label.sk-toggleable__label {background-color: #d4ebff;}#sk-container-id-1 div.sk-label input.sk-toggleable__control:checked~label.sk-toggleable__label {background-color: #d4ebff;}#sk-container-id-1 input.sk-hidden--visually {border: 0;clip: rect(1px 1px 1px 1px);clip: rect(1px, 1px, 1px, 1px);height: 1px;margin: -1px;overflow: hidden;padding: 0;position: absolute;width: 1px;}#sk-container-id-1 div.sk-estimator {font-family: monospace;background-color: #f0f8ff;border: 1px dotted black;border-radius: 0.25em;box-sizing: border-box;margin-bottom: 0.5em;}#sk-container-id-1 div.sk-estimator:hover {background-color: #d4ebff;}#sk-container-id-1 div.sk-parallel-item::after {content: \"\";width: 100%;border-bottom: 1px solid gray;flex-grow: 1;}#sk-container-id-1 div.sk-label:hover label.sk-toggleable__label {background-color: #d4ebff;}#sk-container-id-1 div.sk-serial::before {content: \"\";position: absolute;border-left: 1px solid gray;box-sizing: border-box;top: 0;bottom: 0;left: 50%;z-index: 0;}#sk-container-id-1 div.sk-serial {display: flex;flex-direction: column;align-items: center;background-color: white;padding-right: 0.2em;padding-left: 0.2em;position: relative;}#sk-container-id-1 div.sk-item {position: relative;z-index: 1;}#sk-container-id-1 div.sk-parallel {display: flex;align-items: stretch;justify-content: center;background-color: white;position: relative;}#sk-container-id-1 div.sk-item::before, #sk-container-id-1 div.sk-parallel-item::before {content: \"\";position: absolute;border-left: 1px solid gray;box-sizing: border-box;top: 0;bottom: 0;left: 50%;z-index: -1;}#sk-container-id-1 div.sk-parallel-item {display: flex;flex-direction: column;z-index: 1;position: relative;background-color: white;}#sk-container-id-1 div.sk-parallel-item:first-child::after {align-self: flex-end;width: 50%;}#sk-container-id-1 div.sk-parallel-item:last-child::after {align-self: flex-start;width: 50%;}#sk-container-id-1 div.sk-parallel-item:only-child::after {width: 0;}#sk-container-id-1 div.sk-dashed-wrapped {border: 1px dashed gray;margin: 0 0.4em 0.5em 0.4em;box-sizing: border-box;padding-bottom: 0.4em;background-color: white;}#sk-container-id-1 div.sk-label label {font-family: monospace;font-weight: bold;display: inline-block;line-height: 1.2em;}#sk-container-id-1 div.sk-label-container {text-align: center;}#sk-container-id-1 div.sk-container {/* jupyter's `normalize.less` sets `[hidden] { display: none; }` but bootstrap.min.css set `[hidden] { display: none !important; }` so we also need the `!important` here to be able to override the default hidden behavior on the sphinx rendered scikit-learn.org. See: https://github.com/scikit-learn/scikit-learn/issues/21755 */display: inline-block !important;position: relative;}#sk-container-id-1 div.sk-text-repr-fallback {display: none;}</style><div id=\"sk-container-id-1\" class=\"sk-top-container\"><div class=\"sk-text-repr-fallback\"><pre>SVR()</pre><b>In a Jupyter environment, please rerun this cell to show the HTML representation or trust the notebook. <br />On GitHub, the HTML representation is unable to render, please try loading this page with nbviewer.org.</b></div><div class=\"sk-container\" hidden><div class=\"sk-item\"><div class=\"sk-estimator sk-toggleable\"><input class=\"sk-toggleable__control sk-hidden--visually\" id=\"sk-estimator-id-1\" type=\"checkbox\" checked><label for=\"sk-estimator-id-1\" class=\"sk-toggleable__label sk-toggleable__label-arrow\">SVR</label><div class=\"sk-toggleable__content\"><pre>SVR()</pre></div></div></div></div></div>"
      ],
      "text/plain": [
       "SVR()"
      ]
     },
     "execution_count": 62,
     "metadata": {},
     "output_type": "execute_result"
    }
   ],
   "source": [
    "# Instantiate and train the SVR model\n",
    "svr = SVR(kernel='rbf', C=1.0, gamma='scale')  # Example parameters, adjust as needed\n",
    "svr.fit(X_train, y_train)\n"
   ]
  },
  {
   "cell_type": "code",
   "execution_count": 63,
   "metadata": {
    "execution": {
     "iopub.execute_input": "2024-05-17T09:28:29.580849Z",
     "iopub.status.busy": "2024-05-17T09:28:29.580253Z",
     "iopub.status.idle": "2024-05-17T09:28:30.223803Z",
     "shell.execute_reply": "2024-05-17T09:28:30.222853Z",
     "shell.execute_reply.started": "2024-05-17T09:28:29.580819Z"
    },
    "trusted": true
   },
   "outputs": [],
   "source": [
    "# Make predictions\n",
    "y_pred = svr.predict(X_test)"
   ]
  },
  {
   "cell_type": "code",
   "execution_count": 64,
   "metadata": {
    "execution": {
     "iopub.execute_input": "2024-05-17T09:36:23.873283Z",
     "iopub.status.busy": "2024-05-17T09:36:23.872232Z",
     "iopub.status.idle": "2024-05-17T09:36:24.527780Z",
     "shell.execute_reply": "2024-05-17T09:36:24.526851Z",
     "shell.execute_reply.started": "2024-05-17T09:36:23.873247Z"
    },
    "trusted": true
   },
   "outputs": [],
   "source": [
    "y_pred_svr = svr.predict(X_test)\n",
    "\n"
   ]
  },
  {
   "cell_type": "code",
   "execution_count": 65,
   "metadata": {
    "execution": {
     "iopub.execute_input": "2024-05-17T09:36:24.708816Z",
     "iopub.status.busy": "2024-05-17T09:36:24.707887Z",
     "iopub.status.idle": "2024-05-17T09:36:24.720553Z",
     "shell.execute_reply": "2024-05-17T09:36:24.719344Z",
     "shell.execute_reply.started": "2024-05-17T09:36:24.708780Z"
    },
    "trusted": true
   },
   "outputs": [
    {
     "name": "stdout",
     "output_type": "stream",
     "text": [
      "SVR\n",
      "MAE: 0.0509\n",
      "MSE: 0.0034\n",
      "RMSE: 0.0581\n",
      "MAPE: 0.9593\n",
      "\n"
     ]
    }
   ],
   "source": [
    "svr_mae = mean_absolute_error(y_test, y_pred_svr)\n",
    "svr_mse = mean_squared_error(y_test, y_pred_svr)\n",
    "svr_rmse = np.sqrt(svr_mse)\n",
    "svr_mape = mean_absolute_percentage_error(y_test, y_pred_svr)\n",
    "\n",
    "print(f\"SVR\\nMAE: {svr_mae:.4f}\\nMSE: {svr_mse:.4f}\\nRMSE: {svr_rmse:.4f}\\nMAPE: {svr_mape:.4f}\\n\")"
   ]
  },
  {
   "cell_type": "code",
   "execution_count": 66,
   "metadata": {
    "execution": {
     "iopub.execute_input": "2024-05-17T09:36:27.247263Z",
     "iopub.status.busy": "2024-05-17T09:36:27.246367Z",
     "iopub.status.idle": "2024-05-17T09:36:27.252113Z",
     "shell.execute_reply": "2024-05-17T09:36:27.251088Z",
     "shell.execute_reply.started": "2024-05-17T09:36:27.247228Z"
    },
    "trusted": true
   },
   "outputs": [],
   "source": [
    "\n",
    "# Save SVR model\n",
    "with open('svr_model.pkl', 'wb') as f:\n",
    "    pickle.dump(svr, f)"
   ]
  },
  {
   "cell_type": "code",
   "execution_count": 67,
   "metadata": {
    "execution": {
     "iopub.execute_input": "2024-05-17T09:36:29.696257Z",
     "iopub.status.busy": "2024-05-17T09:36:29.695551Z",
     "iopub.status.idle": "2024-05-17T09:36:29.701522Z",
     "shell.execute_reply": "2024-05-17T09:36:29.700357Z",
     "shell.execute_reply.started": "2024-05-17T09:36:29.696222Z"
    },
    "trusted": true
   },
   "outputs": [],
   "source": [
    "residuals = y_test - y_pred\n"
   ]
  },
  {
   "cell_type": "code",
   "execution_count": 68,
   "metadata": {
    "execution": {
     "iopub.execute_input": "2024-05-17T09:36:31.075026Z",
     "iopub.status.busy": "2024-05-17T09:36:31.074093Z",
     "iopub.status.idle": "2024-05-17T09:36:31.641097Z",
     "shell.execute_reply": "2024-05-17T09:36:31.640023Z",
     "shell.execute_reply.started": "2024-05-17T09:36:31.074981Z"
    },
    "trusted": true
   },
   "outputs": [
    {
     "data": {
      "image/png": "[encoded data removed]",
      "text/plain": [
       "<Figure size 800x600 with 1 Axes>"
      ]
     },
     "metadata": {},
     "output_type": "display_data"
    }
   ],
   "source": [
    "\n",
    "plt.figure(figsize=(8, 6))\n",
    "plt.scatter(y_test, residuals, color='red', alpha=0.5)\n",
    "plt.axhline(y=0, color='k', linestyle='--', lw=2)\n",
    "plt.xlabel('Actual')\n",
    "plt.ylabel('Residuals')\n",
    "plt.title('SVR: Residual Plot')\n",
    "plt.show()\n"
   ]
  },
  {
   "cell_type": "markdown",
   "metadata": {},
   "source": [
    "## LSTM"
   ]
  },
  {
   "cell_type": "code",
   "execution_count": 119,
   "metadata": {
    "execution": {
     "iopub.execute_input": "2024-05-17T10:51:56.715628Z",
     "iopub.status.busy": "2024-05-17T10:51:56.714727Z",
     "iopub.status.idle": "2024-05-17T10:51:56.732482Z",
     "shell.execute_reply": "2024-05-17T10:51:56.731363Z",
     "shell.execute_reply.started": "2024-05-17T10:51:56.715591Z"
    },
    "trusted": true
   },
   "outputs": [
    {
     "data": {
      "text/html": [
       "<div>\n",
       "<style scoped>\n",
       "    .dataframe tbody tr th:only-of-type {\n",
       "        vertical-align: middle;\n",
       "    }\n",
       "\n",
       "    .dataframe tbody tr th {\n",
       "        vertical-align: top;\n",
       "    }\n",
       "\n",
       "    .dataframe thead th {\n",
       "        text-align: right;\n",
       "    }\n",
       "</style>\n",
       "<table border=\"1\" class=\"dataframe\">\n",
       "  <thead>\n",
       "    <tr style=\"text-align: right;\">\n",
       "      <th></th>\n",
       "      <th>date</th>\n",
       "      <th>open</th>\n",
       "      <th>high</th>\n",
       "      <th>low</th>\n",
       "      <th>close</th>\n",
       "      <th>volume</th>\n",
       "      <th>Name</th>\n",
       "      <th>diff_close</th>\n",
       "    </tr>\n",
       "  </thead>\n",
       "  <tbody>\n",
       "    <tr>\n",
       "      <th>0</th>\n",
       "      <td>2013-02-08</td>\n",
       "      <td>-0.697832</td>\n",
       "      <td>-0.699120</td>\n",
       "      <td>-0.700740</td>\n",
       "      <td>-0.701242</td>\n",
       "      <td>0.469964</td>\n",
       "      <td>AAL</td>\n",
       "      <td>0.077729</td>\n",
       "    </tr>\n",
       "    <tr>\n",
       "      <th>1</th>\n",
       "      <td>2013-02-08</td>\n",
       "      <td>-0.626768</td>\n",
       "      <td>-0.625550</td>\n",
       "      <td>-0.625926</td>\n",
       "      <td>-0.623513</td>\n",
       "      <td>-0.149572</td>\n",
       "      <td>HOLX</td>\n",
       "      <td>0.077729</td>\n",
       "    </tr>\n",
       "    <tr>\n",
       "      <th>2</th>\n",
       "      <td>2013-02-08</td>\n",
       "      <td>-0.469546</td>\n",
       "      <td>-0.471335</td>\n",
       "      <td>-0.467285</td>\n",
       "      <td>-0.470520</td>\n",
       "      <td>-0.282202</td>\n",
       "      <td>HCA</td>\n",
       "      <td>0.152994</td>\n",
       "    </tr>\n",
       "    <tr>\n",
       "      <th>3</th>\n",
       "      <td>2013-02-08</td>\n",
       "      <td>-0.375684</td>\n",
       "      <td>-0.377146</td>\n",
       "      <td>-0.371125</td>\n",
       "      <td>-0.373179</td>\n",
       "      <td>-0.139313</td>\n",
       "      <td>HCP</td>\n",
       "      <td>0.097341</td>\n",
       "    </tr>\n",
       "    <tr>\n",
       "      <th>4</th>\n",
       "      <td>2013-02-08</td>\n",
       "      <td>-0.749589</td>\n",
       "      <td>-0.749371</td>\n",
       "      <td>-0.748897</td>\n",
       "      <td>-0.748706</td>\n",
       "      <td>-0.024518</td>\n",
       "      <td>HBI</td>\n",
       "      <td>-0.375528</td>\n",
       "    </tr>\n",
       "    <tr>\n",
       "      <th>...</th>\n",
       "      <td>...</td>\n",
       "      <td>...</td>\n",
       "      <td>...</td>\n",
       "      <td>...</td>\n",
       "      <td>...</td>\n",
       "      <td>...</td>\n",
       "      <td>...</td>\n",
       "      <td>...</td>\n",
       "    </tr>\n",
       "    <tr>\n",
       "      <th>568326</th>\n",
       "      <td>2018-02-07</td>\n",
       "      <td>-0.380203</td>\n",
       "      <td>-0.370120</td>\n",
       "      <td>-0.377032</td>\n",
       "      <td>-0.377389</td>\n",
       "      <td>0.479580</td>\n",
       "      <td>DHI</td>\n",
       "      <td>-0.475204</td>\n",
       "    </tr>\n",
       "    <tr>\n",
       "      <th>568327</th>\n",
       "      <td>2018-02-07</td>\n",
       "      <td>-0.649977</td>\n",
       "      <td>-0.648919</td>\n",
       "      <td>-0.651002</td>\n",
       "      <td>-0.652572</td>\n",
       "      <td>0.012534</td>\n",
       "      <td>WU</td>\n",
       "      <td>-0.275183</td>\n",
       "    </tr>\n",
       "    <tr>\n",
       "      <th>568328</th>\n",
       "      <td>2018-02-07</td>\n",
       "      <td>0.219215</td>\n",
       "      <td>0.220470</td>\n",
       "      <td>0.205311</td>\n",
       "      <td>0.201420</td>\n",
       "      <td>-0.309508</td>\n",
       "      <td>KLAC</td>\n",
       "      <td>0.853992</td>\n",
       "    </tr>\n",
       "    <tr>\n",
       "      <th>568329</th>\n",
       "      <td>2018-02-07</td>\n",
       "      <td>0.585931</td>\n",
       "      <td>0.612574</td>\n",
       "      <td>0.597926</td>\n",
       "      <td>0.606802</td>\n",
       "      <td>-0.148112</td>\n",
       "      <td>TRV</td>\n",
       "      <td>0.405382</td>\n",
       "    </tr>\n",
       "    <tr>\n",
       "      <th>568330</th>\n",
       "      <td>2018-02-07</td>\n",
       "      <td>-0.106013</td>\n",
       "      <td>-0.089386</td>\n",
       "      <td>-0.099124</td>\n",
       "      <td>-0.094299</td>\n",
       "      <td>0.024511</td>\n",
       "      <td>ZTS</td>\n",
       "      <td>-0.701101</td>\n",
       "    </tr>\n",
       "  </tbody>\n",
       "</table>\n",
       "<p>568331 rows × 8 columns</p>\n",
       "</div>"
      ],
      "text/plain": [
       "             date      open      high       low     close    volume  Name  \\\n",
       "0      2013-02-08 -0.697832 -0.699120 -0.700740 -0.701242  0.469964   AAL   \n",
       "1      2013-02-08 -0.626768 -0.625550 -0.625926 -0.623513 -0.149572  HOLX   \n",
       "2      2013-02-08 -0.469546 -0.471335 -0.467285 -0.470520 -0.282202   HCA   \n",
       "3      2013-02-08 -0.375684 -0.377146 -0.371125 -0.373179 -0.139313   HCP   \n",
       "4      2013-02-08 -0.749589 -0.749371 -0.748897 -0.748706 -0.024518   HBI   \n",
       "...           ...       ...       ...       ...       ...       ...   ...   \n",
       "568326 2018-02-07 -0.380203 -0.370120 -0.377032 -0.377389  0.479580   DHI   \n",
       "568327 2018-02-07 -0.649977 -0.648919 -0.651002 -0.652572  0.012534    WU   \n",
       "568328 2018-02-07  0.219215  0.220470  0.205311  0.201420 -0.309508  KLAC   \n",
       "568329 2018-02-07  0.585931  0.612574  0.597926  0.606802 -0.148112   TRV   \n",
       "568330 2018-02-07 -0.106013 -0.089386 -0.099124 -0.094299  0.024511   ZTS   \n",
       "\n",
       "        diff_close  \n",
       "0         0.077729  \n",
       "1         0.077729  \n",
       "2         0.152994  \n",
       "3         0.097341  \n",
       "4        -0.375528  \n",
       "...            ...  \n",
       "568326   -0.475204  \n",
       "568327   -0.275183  \n",
       "568328    0.853992  \n",
       "568329    0.405382  \n",
       "568330   -0.701101  \n",
       "\n",
       "[568331 rows x 8 columns]"
      ]
     },
     "execution_count": 119,
     "metadata": {},
     "output_type": "execute_result"
    }
   ],
   "source": [
    "df"
   ]
  },
  {
   "cell_type": "code",
   "execution_count": 124,
   "metadata": {
    "execution": {
     "iopub.execute_input": "2024-05-17T10:54:06.513937Z",
     "iopub.status.busy": "2024-05-17T10:54:06.512914Z",
     "iopub.status.idle": "2024-05-17T10:54:06.547079Z",
     "shell.execute_reply": "2024-05-17T10:54:06.546093Z",
     "shell.execute_reply.started": "2024-05-17T10:54:06.513900Z"
    },
    "trusted": true
   },
   "outputs": [
    {
     "name": "stderr",
     "output_type": "stream",
     "text": [
      "/tmp/ipykernel_981/2851911602.py:2: SettingWithCopyWarning: \n",
      "A value is trying to be set on a copy of a slice from a DataFrame.\n",
      "Try using .loc[row_indexer,col_indexer] = value instead\n",
      "\n",
      "See the caveats in the documentation: https://pandas.pydata.org/pandas-docs/stable/user_guide/indexing.html#returning-a-view-versus-a-copy\n",
      "  df_lstm['date'] = pd.to_datetime(df_lstm['date'])\n"
     ]
    }
   ],
   "source": [
    "df_lstm = df[['date', 'close']]\n",
    "df_lstm['date'] = pd.to_datetime(df_lstm['date'])\n",
    "df_lstm.set_index('date', inplace=True)"
   ]
  },
  {
   "cell_type": "code",
   "execution_count": null,
   "metadata": {},
   "outputs": [],
   "source": []
  },
  {
   "cell_type": "code",
   "execution_count": 125,
   "metadata": {
    "execution": {
     "iopub.execute_input": "2024-05-17T10:54:19.689183Z",
     "iopub.status.busy": "2024-05-17T10:54:19.688814Z",
     "iopub.status.idle": "2024-05-17T10:54:19.699525Z",
     "shell.execute_reply": "2024-05-17T10:54:19.698463Z",
     "shell.execute_reply.started": "2024-05-17T10:54:19.689155Z"
    },
    "trusted": true
   },
   "outputs": [],
   "source": [
    "scaler = MinMaxScaler(feature_range=(0, 1))\n",
    "df_lstm_scaled = scaler.fit_transform(df_lstm)\n"
   ]
  },
  {
   "cell_type": "code",
   "execution_count": 126,
   "metadata": {
    "execution": {
     "iopub.execute_input": "2024-05-17T10:54:59.654690Z",
     "iopub.status.busy": "2024-05-17T10:54:59.654212Z",
     "iopub.status.idle": "2024-05-17T10:54:59.660686Z",
     "shell.execute_reply": "2024-05-17T10:54:59.659241Z",
     "shell.execute_reply.started": "2024-05-17T10:54:59.654653Z"
    },
    "trusted": true
   },
   "outputs": [],
   "source": [
    "train_size = int(len(df_lstm_scaled) * 0.8)\n",
    "train_data, test_data = df_lstm_scaled[:train_size], df_lstm_scaled[train_size:]\n"
   ]
  },
  {
   "cell_type": "code",
   "execution_count": 127,
   "metadata": {
    "execution": {
     "iopub.execute_input": "2024-05-17T10:55:18.059582Z",
     "iopub.status.busy": "2024-05-17T10:55:18.059110Z",
     "iopub.status.idle": "2024-05-17T10:55:18.068698Z",
     "shell.execute_reply": "2024-05-17T10:55:18.067444Z",
     "shell.execute_reply.started": "2024-05-17T10:55:18.059546Z"
    },
    "trusted": true
   },
   "outputs": [],
   "source": [
    "def create_dataset(dataset, look_back=1):\n",
    "    X, Y = [], []\n",
    "    for i in range(len(dataset)-look_back-1):\n",
    "        a = dataset[i:(i+look_back), 0]\n",
    "        X.append(a)\n",
    "        Y.append(dataset[i + look_back, 0])\n",
    "    return np.array(X), np.array(Y)\n"
   ]
  },
  {
   "cell_type": "code",
   "execution_count": 128,
   "metadata": {
    "execution": {
     "iopub.execute_input": "2024-05-17T10:55:25.356439Z",
     "iopub.status.busy": "2024-05-17T10:55:25.355674Z",
     "iopub.status.idle": "2024-05-17T10:55:26.413918Z",
     "shell.execute_reply": "2024-05-17T10:55:26.413052Z",
     "shell.execute_reply.started": "2024-05-17T10:55:25.356399Z"
    },
    "trusted": true
   },
   "outputs": [],
   "source": [
    "look_back = 10\n",
    "X_train, y_train = create_dataset(train_data, look_back)\n",
    "X_test, y_test = create_dataset(test_data, look_back)\n"
   ]
  },
  {
   "cell_type": "code",
   "execution_count": 129,
   "metadata": {
    "execution": {
     "iopub.execute_input": "2024-05-17T10:55:35.370412Z",
     "iopub.status.busy": "2024-05-17T10:55:35.370010Z",
     "iopub.status.idle": "2024-05-17T10:55:35.375676Z",
     "shell.execute_reply": "2024-05-17T10:55:35.374639Z",
     "shell.execute_reply.started": "2024-05-17T10:55:35.370362Z"
    },
    "trusted": true
   },
   "outputs": [],
   "source": [
    "X_train = np.reshape(X_train, (X_train.shape[0], X_train.shape[1], 1))\n",
    "X_test = np.reshape(X_test, (X_test.shape[0], X_test.shape[1], 1))\n"
   ]
  },
  {
   "cell_type": "code",
   "execution_count": 130,
   "metadata": {
    "execution": {
     "iopub.execute_input": "2024-05-17T10:55:47.959930Z",
     "iopub.status.busy": "2024-05-17T10:55:47.959144Z",
     "iopub.status.idle": "2024-05-17T10:55:48.019316Z",
     "shell.execute_reply": "2024-05-17T10:55:48.018361Z",
     "shell.execute_reply.started": "2024-05-17T10:55:47.959894Z"
    },
    "trusted": true
   },
   "outputs": [
    {
     "name": "stderr",
     "output_type": "stream",
     "text": [
      "/opt/conda/lib/python3.10/site-packages/keras/src/layers/rnn/rnn.py:204: UserWarning: Do not pass an `input_shape`/`input_dim` argument to a layer. When using Sequential models, prefer using an `Input(shape)` object as the first layer in the model instead.\n",
      "  super().__init__(**kwargs)\n"
     ]
    }
   ],
   "source": [
    "model_lstm = Sequential()\n",
    "model_lstm.add(LSTM(50, return_sequences=True, input_shape=(look_back, 1)))\n",
    "model_lstm.add(LSTM(50))\n",
    "model_lstm.add(Dense(1))"
   ]
  },
  {
   "cell_type": "code",
   "execution_count": 131,
   "metadata": {
    "execution": {
     "iopub.execute_input": "2024-05-17T10:55:55.385209Z",
     "iopub.status.busy": "2024-05-17T10:55:55.384807Z",
     "iopub.status.idle": "2024-05-17T11:18:07.382243Z",
     "shell.execute_reply": "2024-05-17T11:18:07.381211Z",
     "shell.execute_reply.started": "2024-05-17T10:55:55.385174Z"
    },
    "trusted": true
   },
   "outputs": [
    {
     "name": "stdout",
     "output_type": "stream",
     "text": [
      "Epoch 1/20\n",
      "\u001b[1m14208/14208\u001b[0m \u001b[32m━━━━━━━━━━━━━━━━━━━━\u001b[0m\u001b[37m\u001b[0m \u001b[1m68s\u001b[0m 5ms/step - loss: 0.0011\n",
      "Epoch 2/20\n",
      "\u001b[1m14208/14208\u001b[0m \u001b[32m━━━━━━━━━━━━━━━━━━━━\u001b[0m\u001b[37m\u001b[0m \u001b[1m67s\u001b[0m 5ms/step - loss: 0.0011\n",
      "Epoch 3/20\n",
      "\u001b[1m14208/14208\u001b[0m \u001b[32m━━━━━━━━━━━━━━━━━━━━\u001b[0m\u001b[37m\u001b[0m \u001b[1m67s\u001b[0m 5ms/step - loss: 0.0011\n",
      "Epoch 4/20\n",
      "\u001b[1m14208/14208\u001b[0m \u001b[32m━━━━━━━━━━━━━━━━━━━━\u001b[0m\u001b[37m\u001b[0m \u001b[1m67s\u001b[0m 5ms/step - loss: 0.0011\n",
      "Epoch 5/20\n",
      "\u001b[1m14208/14208\u001b[0m \u001b[32m━━━━━━━━━━━━━━━━━━━━\u001b[0m\u001b[37m\u001b[0m \u001b[1m66s\u001b[0m 5ms/step - loss: 0.0011\n",
      "Epoch 6/20\n",
      "\u001b[1m14208/14208\u001b[0m \u001b[32m━━━━━━━━━━━━━━━━━━━━\u001b[0m\u001b[37m\u001b[0m \u001b[1m67s\u001b[0m 5ms/step - loss: 0.0011\n",
      "Epoch 7/20\n",
      "\u001b[1m14208/14208\u001b[0m \u001b[32m━━━━━━━━━━━━━━━━━━━━\u001b[0m\u001b[37m\u001b[0m \u001b[1m66s\u001b[0m 5ms/step - loss: 0.0011\n",
      "Epoch 8/20\n",
      "\u001b[1m14208/14208\u001b[0m \u001b[32m━━━━━━━━━━━━━━━━━━━━\u001b[0m\u001b[37m\u001b[0m \u001b[1m67s\u001b[0m 5ms/step - loss: 0.0011\n",
      "Epoch 9/20\n",
      "\u001b[1m14208/14208\u001b[0m \u001b[32m━━━━━━━━━━━━━━━━━━━━\u001b[0m\u001b[37m\u001b[0m \u001b[1m66s\u001b[0m 5ms/step - loss: 0.0011\n",
      "Epoch 10/20\n",
      "\u001b[1m14208/14208\u001b[0m \u001b[32m━━━━━━━━━━━━━━━━━━━━\u001b[0m\u001b[37m\u001b[0m \u001b[1m66s\u001b[0m 5ms/step - loss: 0.0011\n",
      "Epoch 11/20\n",
      "\u001b[1m14208/14208\u001b[0m \u001b[32m━━━━━━━━━━━━━━━━━━━━\u001b[0m\u001b[37m\u001b[0m \u001b[1m66s\u001b[0m 5ms/step - loss: 0.0011\n",
      "Epoch 12/20\n",
      "\u001b[1m14208/14208\u001b[0m \u001b[32m━━━━━━━━━━━━━━━━━━━━\u001b[0m\u001b[37m\u001b[0m \u001b[1m66s\u001b[0m 5ms/step - loss: 0.0011\n",
      "Epoch 13/20\n",
      "\u001b[1m14208/14208\u001b[0m \u001b[32m━━━━━━━━━━━━━━━━━━━━\u001b[0m\u001b[37m\u001b[0m \u001b[1m67s\u001b[0m 5ms/step - loss: 0.0011\n",
      "Epoch 14/20\n",
      "\u001b[1m14208/14208\u001b[0m \u001b[32m━━━━━━━━━━━━━━━━━━━━\u001b[0m\u001b[37m\u001b[0m \u001b[1m66s\u001b[0m 5ms/step - loss: 0.0011\n",
      "Epoch 15/20\n",
      "\u001b[1m14208/14208\u001b[0m \u001b[32m━━━━━━━━━━━━━━━━━━━━\u001b[0m\u001b[37m\u001b[0m \u001b[1m66s\u001b[0m 5ms/step - loss: 0.0011\n",
      "Epoch 16/20\n",
      "\u001b[1m14208/14208\u001b[0m \u001b[32m━━━━━━━━━━━━━━━━━━━━\u001b[0m\u001b[37m\u001b[0m \u001b[1m66s\u001b[0m 5ms/step - loss: 0.0011\n",
      "Epoch 17/20\n",
      "\u001b[1m14208/14208\u001b[0m \u001b[32m━━━━━━━━━━━━━━━━━━━━\u001b[0m\u001b[37m\u001b[0m \u001b[1m66s\u001b[0m 5ms/step - loss: 0.0011\n",
      "Epoch 18/20\n",
      "\u001b[1m14208/14208\u001b[0m \u001b[32m━━━━━━━━━━━━━━━━━━━━\u001b[0m\u001b[37m\u001b[0m \u001b[1m67s\u001b[0m 5ms/step - loss: 0.0011\n",
      "Epoch 19/20\n",
      "\u001b[1m14208/14208\u001b[0m \u001b[32m━━━━━━━━━━━━━━━━━━━━\u001b[0m\u001b[37m\u001b[0m \u001b[1m67s\u001b[0m 5ms/step - loss: 0.0011\n",
      "Epoch 20/20\n",
      "\u001b[1m14208/14208\u001b[0m \u001b[32m━━━━━━━━━━━━━━━━━━━━\u001b[0m\u001b[37m\u001b[0m \u001b[1m67s\u001b[0m 5ms/step - loss: 0.0011\n"
     ]
    },
    {
     "data": {
      "text/plain": [
       "<keras.src.callbacks.history.History at 0x7f0803eef9a0>"
      ]
     },
     "execution_count": 131,
     "metadata": {},
     "output_type": "execute_result"
    }
   ],
   "source": [
    "model_lstm.compile(optimizer='adam', loss='mean_squared_error')\n",
    "model_lstm.fit(X_train, y_train, epochs=20, batch_size=32, verbose=1)\n"
   ]
  },
  {
   "cell_type": "code",
   "execution_count": 136,
   "metadata": {
    "execution": {
     "iopub.execute_input": "2024-05-17T11:23:35.502192Z",
     "iopub.status.busy": "2024-05-17T11:23:35.501749Z",
     "iopub.status.idle": "2024-05-17T11:23:43.206856Z",
     "shell.execute_reply": "2024-05-17T11:23:43.205718Z",
     "shell.execute_reply.started": "2024-05-17T11:23:35.502156Z"
    },
    "trusted": true
   },
   "outputs": [
    {
     "name": "stdout",
     "output_type": "stream",
     "text": [
      "\u001b[1m3552/3552\u001b[0m \u001b[32m━━━━━━━━━━━━━━━━━━━━\u001b[0m\u001b[37m\u001b[0m \u001b[1m6s\u001b[0m 2ms/step\n"
     ]
    }
   ],
   "source": [
    "y_pred_lstm = model_lstm.predict(X_test)\n",
    "# y_test = scaler.inverse_transform([y_test])\n",
    "y_pred_lstm = scaler.inverse_transform(y_pred_lstm)\n"
   ]
  },
  {
   "cell_type": "code",
   "execution_count": 138,
   "metadata": {
    "execution": {
     "iopub.execute_input": "2024-05-17T11:24:22.359625Z",
     "iopub.status.busy": "2024-05-17T11:24:22.358777Z",
     "iopub.status.idle": "2024-05-17T11:24:22.394230Z",
     "shell.execute_reply": "2024-05-17T11:24:22.393271Z",
     "shell.execute_reply.started": "2024-05-17T11:24:22.359590Z"
    },
    "trusted": true
   },
   "outputs": [
    {
     "name": "stdout",
     "output_type": "stream",
     "text": [
      "LSTM - MAE: 0.3792, \n",
      "MSE: 0.2651, \n",
      "RMSE: 0.5149, \n",
      "MAPE: 3.1879\n"
     ]
    }
   ],
   "source": [
    "lstm_mae = mean_absolute_error(y_test[0], y_pred_lstm[:, 0])\n",
    "lstm_mse = mean_squared_error(y_test[0], y_pred_lstm[:, 0])\n",
    "lstm_rmse = np.sqrt(lstm_mse)\n",
    "lstm_mape = mean_absolute_percentage_error(y_test[0], y_pred_lstm[:, 0])\n",
    "\n",
    "print(f\"LSTM - MAE: {lstm_mae:.4f}, \\nMSE: {lstm_mse:.4f}, \\nRMSE: {lstm_rmse:.4f}, \\nMAPE: {lstm_mape:.4f}\")\n",
    "\n",
    "# Save LSTM model\n",
    "model_lstm.save('lstm_model.h5')\n",
    "with open('lstm_scaler.pkl', 'wb') as f:\n",
    "    pickle.dump(scaler, f)"
   ]
  },
  {
   "cell_type": "code",
   "execution_count": 142,
   "metadata": {
    "execution": {
     "iopub.execute_input": "2024-05-17T11:25:28.899718Z",
     "iopub.status.busy": "2024-05-17T11:25:28.899289Z",
     "iopub.status.idle": "2024-05-17T11:25:28.910585Z",
     "shell.execute_reply": "2024-05-17T11:25:28.909449Z",
     "shell.execute_reply.started": "2024-05-17T11:25:28.899686Z"
    },
    "trusted": true
   },
   "outputs": [
    {
     "name": "stdout",
     "output_type": "stream",
     "text": [
      "     Model       MAE       MSE      RMSE\n",
      "0    ARIMA  0.392114  0.258465  0.508395\n",
      "1      ANN  0.322084  0.173973  0.417101\n",
      "2      ETS  2.091334  2.091334  1.446145\n",
      "3  Prophet       NaN       NaN       NaN\n",
      "4      SVR  0.050876  0.003379  0.058132\n",
      "5     LSTM  0.379211  0.265093  0.514872\n"
     ]
    }
   ],
   "source": [
    "# Comparing Model Performances\n",
    "model_metrics = pd.DataFrame({\n",
    "    'Model': ['ARIMA', 'ANN', 'ETS', 'Prophet', 'SVR', 'LSTM'],\n",
    "    'MAE': [arima_mae, ann_mae,  ets_mse, None, svr_mae, lstm_mae],\n",
    "    'MSE': [arima_mse, ann_mse, ets_mse, None, svr_mse, lstm_mse],\n",
    "    'RMSE': [arima_rmse, ann_rmse, ets_rmse, None, svr_rmse, lstm_rmse],\n",
    "#     'MAPE': [ ann_mape, None, None, svr_mape, lstm_mape]\n",
    "})\n",
    "\n",
    "print(model_metrics)"
   ]
  },
  {
   "cell_type": "markdown",
   "metadata": {},
   "source": [
    "# Hybrid Model"
   ]
  },
  {
   "cell_type": "markdown",
   "metadata": {},
   "source": [
    "## ARIMA 2"
   ]
  },
  {
   "cell_type": "code",
   "execution_count": 2,
   "metadata": {
    "execution": {
     "iopub.execute_input": "2024-05-17T12:31:55.072635Z",
     "iopub.status.busy": "2024-05-17T12:31:55.071981Z",
     "iopub.status.idle": "2024-05-17T12:31:56.891636Z",
     "shell.execute_reply": "2024-05-17T12:31:56.890721Z",
     "shell.execute_reply.started": "2024-05-17T12:31:55.072602Z"
    },
    "trusted": true
   },
   "outputs": [
    {
     "data": {
      "text/html": [
       "<div>\n",
       "<style scoped>\n",
       "    .dataframe tbody tr th:only-of-type {\n",
       "        vertical-align: middle;\n",
       "    }\n",
       "\n",
       "    .dataframe tbody tr th {\n",
       "        vertical-align: top;\n",
       "    }\n",
       "\n",
       "    .dataframe thead th {\n",
       "        text-align: right;\n",
       "    }\n",
       "</style>\n",
       "<table border=\"1\" class=\"dataframe\">\n",
       "  <thead>\n",
       "    <tr style=\"text-align: right;\">\n",
       "      <th></th>\n",
       "      <th>date</th>\n",
       "      <th>open</th>\n",
       "      <th>high</th>\n",
       "      <th>low</th>\n",
       "      <th>close</th>\n",
       "      <th>volume</th>\n",
       "      <th>Name</th>\n",
       "      <th>diff_close</th>\n",
       "    </tr>\n",
       "  </thead>\n",
       "  <tbody>\n",
       "    <tr>\n",
       "      <th>0</th>\n",
       "      <td>2013-02-08</td>\n",
       "      <td>-0.697832</td>\n",
       "      <td>-0.699120</td>\n",
       "      <td>-0.700740</td>\n",
       "      <td>-0.701242</td>\n",
       "      <td>0.469964</td>\n",
       "      <td>AAL</td>\n",
       "      <td>0.077729</td>\n",
       "    </tr>\n",
       "    <tr>\n",
       "      <th>1</th>\n",
       "      <td>2013-02-08</td>\n",
       "      <td>-0.626768</td>\n",
       "      <td>-0.625550</td>\n",
       "      <td>-0.625926</td>\n",
       "      <td>-0.623513</td>\n",
       "      <td>-0.149572</td>\n",
       "      <td>HOLX</td>\n",
       "      <td>0.077729</td>\n",
       "    </tr>\n",
       "    <tr>\n",
       "      <th>2</th>\n",
       "      <td>2013-02-08</td>\n",
       "      <td>-0.469546</td>\n",
       "      <td>-0.471335</td>\n",
       "      <td>-0.467285</td>\n",
       "      <td>-0.470520</td>\n",
       "      <td>-0.282202</td>\n",
       "      <td>HCA</td>\n",
       "      <td>0.152994</td>\n",
       "    </tr>\n",
       "    <tr>\n",
       "      <th>3</th>\n",
       "      <td>2013-02-08</td>\n",
       "      <td>-0.375684</td>\n",
       "      <td>-0.377146</td>\n",
       "      <td>-0.371125</td>\n",
       "      <td>-0.373179</td>\n",
       "      <td>-0.139313</td>\n",
       "      <td>HCP</td>\n",
       "      <td>0.097341</td>\n",
       "    </tr>\n",
       "    <tr>\n",
       "      <th>4</th>\n",
       "      <td>2013-02-08</td>\n",
       "      <td>-0.749589</td>\n",
       "      <td>-0.749371</td>\n",
       "      <td>-0.748897</td>\n",
       "      <td>-0.748706</td>\n",
       "      <td>-0.024518</td>\n",
       "      <td>HBI</td>\n",
       "      <td>-0.375528</td>\n",
       "    </tr>\n",
       "    <tr>\n",
       "      <th>...</th>\n",
       "      <td>...</td>\n",
       "      <td>...</td>\n",
       "      <td>...</td>\n",
       "      <td>...</td>\n",
       "      <td>...</td>\n",
       "      <td>...</td>\n",
       "      <td>...</td>\n",
       "      <td>...</td>\n",
       "    </tr>\n",
       "    <tr>\n",
       "      <th>568326</th>\n",
       "      <td>2018-02-07</td>\n",
       "      <td>-0.380203</td>\n",
       "      <td>-0.370120</td>\n",
       "      <td>-0.377032</td>\n",
       "      <td>-0.377389</td>\n",
       "      <td>0.479580</td>\n",
       "      <td>DHI</td>\n",
       "      <td>-0.475204</td>\n",
       "    </tr>\n",
       "    <tr>\n",
       "      <th>568327</th>\n",
       "      <td>2018-02-07</td>\n",
       "      <td>-0.649977</td>\n",
       "      <td>-0.648919</td>\n",
       "      <td>-0.651002</td>\n",
       "      <td>-0.652572</td>\n",
       "      <td>0.012534</td>\n",
       "      <td>WU</td>\n",
       "      <td>-0.275183</td>\n",
       "    </tr>\n",
       "    <tr>\n",
       "      <th>568328</th>\n",
       "      <td>2018-02-07</td>\n",
       "      <td>0.219215</td>\n",
       "      <td>0.220470</td>\n",
       "      <td>0.205311</td>\n",
       "      <td>0.201420</td>\n",
       "      <td>-0.309508</td>\n",
       "      <td>KLAC</td>\n",
       "      <td>0.853992</td>\n",
       "    </tr>\n",
       "    <tr>\n",
       "      <th>568329</th>\n",
       "      <td>2018-02-07</td>\n",
       "      <td>0.585931</td>\n",
       "      <td>0.612574</td>\n",
       "      <td>0.597926</td>\n",
       "      <td>0.606802</td>\n",
       "      <td>-0.148112</td>\n",
       "      <td>TRV</td>\n",
       "      <td>0.405382</td>\n",
       "    </tr>\n",
       "    <tr>\n",
       "      <th>568330</th>\n",
       "      <td>2018-02-07</td>\n",
       "      <td>-0.106013</td>\n",
       "      <td>-0.089386</td>\n",
       "      <td>-0.099124</td>\n",
       "      <td>-0.094299</td>\n",
       "      <td>0.024511</td>\n",
       "      <td>ZTS</td>\n",
       "      <td>-0.701101</td>\n",
       "    </tr>\n",
       "  </tbody>\n",
       "</table>\n",
       "<p>568331 rows × 8 columns</p>\n",
       "</div>"
      ],
      "text/plain": [
       "              date      open      high       low     close    volume  Name  \\\n",
       "0       2013-02-08 -0.697832 -0.699120 -0.700740 -0.701242  0.469964   AAL   \n",
       "1       2013-02-08 -0.626768 -0.625550 -0.625926 -0.623513 -0.149572  HOLX   \n",
       "2       2013-02-08 -0.469546 -0.471335 -0.467285 -0.470520 -0.282202   HCA   \n",
       "3       2013-02-08 -0.375684 -0.377146 -0.371125 -0.373179 -0.139313   HCP   \n",
       "4       2013-02-08 -0.749589 -0.749371 -0.748897 -0.748706 -0.024518   HBI   \n",
       "...            ...       ...       ...       ...       ...       ...   ...   \n",
       "568326  2018-02-07 -0.380203 -0.370120 -0.377032 -0.377389  0.479580   DHI   \n",
       "568327  2018-02-07 -0.649977 -0.648919 -0.651002 -0.652572  0.012534    WU   \n",
       "568328  2018-02-07  0.219215  0.220470  0.205311  0.201420 -0.309508  KLAC   \n",
       "568329  2018-02-07  0.585931  0.612574  0.597926  0.606802 -0.148112   TRV   \n",
       "568330  2018-02-07 -0.106013 -0.089386 -0.099124 -0.094299  0.024511   ZTS   \n",
       "\n",
       "        diff_close  \n",
       "0         0.077729  \n",
       "1         0.077729  \n",
       "2         0.152994  \n",
       "3         0.097341  \n",
       "4        -0.375528  \n",
       "...            ...  \n",
       "568326   -0.475204  \n",
       "568327   -0.275183  \n",
       "568328    0.853992  \n",
       "568329    0.405382  \n",
       "568330   -0.701101  \n",
       "\n",
       "[568331 rows x 8 columns]"
      ]
     },
     "execution_count": 2,
     "metadata": {},
     "output_type": "execute_result"
    }
   ],
   "source": [
    "df = pd.read_csv(r'/kaggle/input/stationarised-data-stocks/cleaned_stationarized_data.csv')\n",
    "df"
   ]
  },
  {
   "cell_type": "code",
   "execution_count": 3,
   "metadata": {
    "execution": {
     "iopub.execute_input": "2024-05-17T12:31:59.484266Z",
     "iopub.status.busy": "2024-05-17T12:31:59.483938Z",
     "iopub.status.idle": "2024-05-17T12:31:59.590314Z",
     "shell.execute_reply": "2024-05-17T12:31:59.588981Z",
     "shell.execute_reply.started": "2024-05-17T12:31:59.484241Z"
    },
    "trusted": true
   },
   "outputs": [],
   "source": [
    "df['date'] = pd.to_datetime(df['date'])\n",
    "# df.isnull().sum()"
   ]
  },
  {
   "cell_type": "code",
   "execution_count": null,
   "metadata": {
    "trusted": true
   },
   "outputs": [],
   "source": []
  },
  {
   "cell_type": "code",
   "execution_count": null,
   "metadata": {
    "trusted": true
   },
   "outputs": [],
   "source": []
  },
  {
   "cell_type": "code",
   "execution_count": 4,
   "metadata": {
    "execution": {
     "iopub.execute_input": "2024-05-17T12:32:04.175180Z",
     "iopub.status.busy": "2024-05-17T12:32:04.174465Z",
     "iopub.status.idle": "2024-05-17T12:32:04.180516Z",
     "shell.execute_reply": "2024-05-17T12:32:04.179359Z",
     "shell.execute_reply.started": "2024-05-17T12:32:04.175147Z"
    },
    "trusted": true
   },
   "outputs": [],
   "source": [
    "df.set_index('date', inplace=True)\n",
    "time_series = df['diff_close']"
   ]
  },
  {
   "cell_type": "code",
   "execution_count": 5,
   "metadata": {
    "execution": {
     "iopub.execute_input": "2024-05-17T12:32:06.720315Z",
     "iopub.status.busy": "2024-05-17T12:32:06.719440Z",
     "iopub.status.idle": "2024-05-17T12:32:06.724380Z",
     "shell.execute_reply": "2024-05-17T12:32:06.723494Z",
     "shell.execute_reply.started": "2024-05-17T12:32:06.720266Z"
    },
    "trusted": true
   },
   "outputs": [],
   "source": [
    "# Fit ARIMA model\n",
    "p, d, q = 1, 1, 1  # Identified values from the analysis"
   ]
  },
  {
   "cell_type": "code",
   "execution_count": 7,
   "metadata": {
    "execution": {
     "iopub.execute_input": "2024-05-17T12:32:27.817716Z",
     "iopub.status.busy": "2024-05-17T12:32:27.817351Z",
     "iopub.status.idle": "2024-05-17T12:35:02.244378Z",
     "shell.execute_reply": "2024-05-17T12:35:02.243494Z",
     "shell.execute_reply.started": "2024-05-17T12:32:27.817685Z"
    },
    "trusted": true
   },
   "outputs": [
    {
     "name": "stderr",
     "output_type": "stream",
     "text": [
      "/opt/conda/lib/python3.10/site-packages/statsmodels/tsa/base/tsa_model.py:473: ValueWarning: A date index has been provided, but it has no associated frequency information and so will be ignored when e.g. forecasting.\n",
      "  self._init_dates(dates, freq)\n",
      "/opt/conda/lib/python3.10/site-packages/statsmodels/tsa/base/tsa_model.py:473: ValueWarning: A date index has been provided, but it has no associated frequency information and so will be ignored when e.g. forecasting.\n",
      "  self._init_dates(dates, freq)\n",
      "/opt/conda/lib/python3.10/site-packages/statsmodels/tsa/base/tsa_model.py:473: ValueWarning: A date index has been provided, but it has no associated frequency information and so will be ignored when e.g. forecasting.\n",
      "  self._init_dates(dates, freq)\n"
     ]
    }
   ],
   "source": [
    "arima_model = ARIMA(time_series, order=(p, d, q))\n",
    "arima_results = arima_model.fit()\n"
   ]
  },
  {
   "cell_type": "code",
   "execution_count": 8,
   "metadata": {
    "execution": {
     "iopub.execute_input": "2024-05-17T12:35:02.246254Z",
     "iopub.status.busy": "2024-05-17T12:35:02.245955Z",
     "iopub.status.idle": "2024-05-17T12:35:02.252572Z",
     "shell.execute_reply": "2024-05-17T12:35:02.251534Z",
     "shell.execute_reply.started": "2024-05-17T12:35:02.246228Z"
    },
    "trusted": true
   },
   "outputs": [],
   "source": [
    "# Generate ARIMA predictions\n",
    "arima_predictions = arima_results.fittedvalues\n",
    "arima_residuals = time_series - arima_predictions"
   ]
  },
  {
   "cell_type": "code",
   "execution_count": 9,
   "metadata": {
    "execution": {
     "iopub.execute_input": "2024-05-17T12:35:02.254240Z",
     "iopub.status.busy": "2024-05-17T12:35:02.253920Z",
     "iopub.status.idle": "2024-05-17T12:35:06.745447Z",
     "shell.execute_reply": "2024-05-17T12:35:06.744479Z",
     "shell.execute_reply.started": "2024-05-17T12:35:02.254183Z"
    },
    "trusted": true
   },
   "outputs": [
    {
     "data": {
      "image/png": "[encoded data removed]",
      "text/plain": [
       "<Figure size 1200x600 with 1 Axes>"
      ]
     },
     "metadata": {},
     "output_type": "display_data"
    }
   ],
   "source": [
    "# Plot ARIMA predictions vs actual values\n",
    "plt.figure(figsize=(12, 6))\n",
    "plt.plot(time_series, label='Actual Values')\n",
    "plt.plot(arima_predictions, label='ARIMA Predictions', linestyle='--')\n",
    "plt.title('ARIMA Model: Actual vs Predicted Values')\n",
    "plt.xlabel('Date')\n",
    "plt.ylabel('Differenced Close Price')\n",
    "plt.legend()\n",
    "plt.show()"
   ]
  },
  {
   "cell_type": "code",
   "execution_count": null,
   "metadata": {
    "execution": {
     "iopub.status.busy": "2024-05-17T12:32:20.771502Z",
     "iopub.status.idle": "2024-05-17T12:32:20.771860Z",
     "shell.execute_reply": "2024-05-17T12:32:20.771712Z",
     "shell.execute_reply.started": "2024-05-17T12:32:20.771698Z"
    },
    "trusted": true
   },
   "outputs": [],
   "source": [
    "# Save ARIMA model\n",
    "with open('arima_model_input_to_ann.pkl', 'wb') as f:\n",
    "    pickle.dump(arima_model, f)"
   ]
  },
  {
   "cell_type": "code",
   "execution_count": 10,
   "metadata": {
    "execution": {
     "iopub.execute_input": "2024-05-17T12:35:06.749145Z",
     "iopub.status.busy": "2024-05-17T12:35:06.748376Z",
     "iopub.status.idle": "2024-05-17T12:35:07.907819Z",
     "shell.execute_reply": "2024-05-17T12:35:07.906875Z",
     "shell.execute_reply.started": "2024-05-17T12:35:06.749107Z"
    },
    "trusted": true
   },
   "outputs": [
    {
     "data": {
      "image/png": "[encoded data removed]",
      "text/plain": [
       "<Figure size 1200x600 with 1 Axes>"
      ]
     },
     "metadata": {},
     "output_type": "display_data"
    }
   ],
   "source": [
    "# Plot ARIMA residuals\n",
    "plt.figure(figsize=(12, 6))\n",
    "plt.plot(arima_residuals, label='ARIMA Residuals', color='orange')\n",
    "plt.title('ARIMA Model Residuals')\n",
    "plt.xlabel('Date')\n",
    "plt.ylabel('Residuals')\n",
    "plt.legend()\n",
    "plt.show()"
   ]
  },
  {
   "cell_type": "code",
   "execution_count": 11,
   "metadata": {
    "execution": {
     "iopub.execute_input": "2024-05-17T12:35:07.909349Z",
     "iopub.status.busy": "2024-05-17T12:35:07.909029Z",
     "iopub.status.idle": "2024-05-17T12:35:07.917026Z",
     "shell.execute_reply": "2024-05-17T12:35:07.915991Z",
     "shell.execute_reply.started": "2024-05-17T12:35:07.909305Z"
    },
    "trusted": true
   },
   "outputs": [],
   "source": [
    "# Prepare the dataset for ANN\n",
    "df_features = pd.DataFrame({\n",
    "    'ARIMA_Predictions': arima_predictions,\n",
    "    'Residuals': arima_residuals\n",
    "})"
   ]
  },
  {
   "cell_type": "code",
   "execution_count": 12,
   "metadata": {
    "execution": {
     "iopub.execute_input": "2024-05-17T12:35:07.919084Z",
     "iopub.status.busy": "2024-05-17T12:35:07.918322Z",
     "iopub.status.idle": "2024-05-17T12:35:07.928278Z",
     "shell.execute_reply": "2024-05-17T12:35:07.927341Z",
     "shell.execute_reply.started": "2024-05-17T12:35:07.919050Z"
    },
    "trusted": true
   },
   "outputs": [
    {
     "data": {
      "text/plain": [
       "ARIMA_Predictions    0\n",
       "Residuals            0\n",
       "dtype: int64"
      ]
     },
     "execution_count": 12,
     "metadata": {},
     "output_type": "execute_result"
    }
   ],
   "source": [
    "df_features.isnull().sum()"
   ]
  },
  {
   "cell_type": "code",
   "execution_count": 13,
   "metadata": {
    "execution": {
     "iopub.execute_input": "2024-05-17T12:35:07.929621Z",
     "iopub.status.busy": "2024-05-17T12:35:07.929351Z",
     "iopub.status.idle": "2024-05-17T12:35:07.935762Z",
     "shell.execute_reply": "2024-05-17T12:35:07.934869Z",
     "shell.execute_reply.started": "2024-05-17T12:35:07.929599Z"
    },
    "trusted": true
   },
   "outputs": [],
   "source": [
    "# Extract features and target\n",
    "X = df_features[['ARIMA_Predictions']]\n",
    "y = df_features['Residuals']\n"
   ]
  },
  {
   "cell_type": "code",
   "execution_count": 14,
   "metadata": {
    "execution": {
     "iopub.execute_input": "2024-05-17T12:35:07.937158Z",
     "iopub.status.busy": "2024-05-17T12:35:07.936859Z",
     "iopub.status.idle": "2024-05-17T12:35:07.982672Z",
     "shell.execute_reply": "2024-05-17T12:35:07.981820Z",
     "shell.execute_reply.started": "2024-05-17T12:35:07.937127Z"
    },
    "trusted": true
   },
   "outputs": [],
   "source": [
    "# Split data into train and test sets\n",
    "X_train, X_test, y_train, y_test = train_test_split(X, y, test_size=0.2, random_state=42)\n"
   ]
  },
  {
   "cell_type": "code",
   "execution_count": 15,
   "metadata": {
    "execution": {
     "iopub.execute_input": "2024-05-17T12:35:07.984523Z",
     "iopub.status.busy": "2024-05-17T12:35:07.984101Z",
     "iopub.status.idle": "2024-05-17T12:35:07.998173Z",
     "shell.execute_reply": "2024-05-17T12:35:07.997396Z",
     "shell.execute_reply.started": "2024-05-17T12:35:07.984482Z"
    },
    "trusted": true
   },
   "outputs": [],
   "source": [
    "# Normalize the data\n",
    "scaler = StandardScaler()\n",
    "X_train_scaled = scaler.fit_transform(X_train)\n",
    "X_test_scaled = scaler.transform(X_test)\n"
   ]
  },
  {
   "cell_type": "code",
   "execution_count": 16,
   "metadata": {
    "execution": {
     "iopub.execute_input": "2024-05-17T12:35:08.002343Z",
     "iopub.status.busy": "2024-05-17T12:35:08.001676Z",
     "iopub.status.idle": "2024-05-17T12:35:08.768941Z",
     "shell.execute_reply": "2024-05-17T12:35:08.768187Z",
     "shell.execute_reply.started": "2024-05-17T12:35:08.002315Z"
    },
    "trusted": true
   },
   "outputs": [
    {
     "name": "stderr",
     "output_type": "stream",
     "text": [
      "/opt/conda/lib/python3.10/site-packages/keras/src/layers/core/dense.py:86: UserWarning: Do not pass an `input_shape`/`input_dim` argument to a layer. When using Sequential models, prefer using an `Input(shape)` object as the first layer in the model instead.\n",
      "  super().__init__(activity_regularizer=activity_regularizer, **kwargs)\n"
     ]
    }
   ],
   "source": [
    "# Define and train ANN model\n",
    "ann_model = Sequential([\n",
    "    Dense(64, activation='relu', input_shape=(X_train_scaled.shape[1],)),\n",
    "    Dense(32, activation='relu'),\n",
    "    Dense(1)  # Output layer\n",
    "])"
   ]
  },
  {
   "cell_type": "code",
   "execution_count": 17,
   "metadata": {
    "execution": {
     "iopub.execute_input": "2024-05-17T12:35:08.770173Z",
     "iopub.status.busy": "2024-05-17T12:35:08.769902Z",
     "iopub.status.idle": "2024-05-17T12:51:08.768496Z",
     "shell.execute_reply": "2024-05-17T12:51:08.767695Z",
     "shell.execute_reply.started": "2024-05-17T12:35:08.770150Z"
    },
    "trusted": true
   },
   "outputs": [
    {
     "name": "stdout",
     "output_type": "stream",
     "text": [
      "Epoch 1/50\n",
      "\u001b[1m   92/11367\u001b[0m \u001b[37m━━━━━━━━━━━━━━━━━━━━\u001b[0m \u001b[1m18s\u001b[0m 2ms/step - loss: 0.2357"
     ]
    },
    {
     "name": "stderr",
     "output_type": "stream",
     "text": [
      "WARNING: All log messages before absl::InitializeLog() is called are written to STDERR\n",
      "I0000 00:00:1715949310.920850     123 device_compiler.h:186] Compiled cluster using XLA!  This line is logged at most once for the lifetime of the process.\n"
     ]
    },
    {
     "name": "stdout",
     "output_type": "stream",
     "text": [
      "\u001b[1m11367/11367\u001b[0m \u001b[32m━━━━━━━━━━━━━━━━━━━━\u001b[0m\u001b[37m\u001b[0m \u001b[1m22s\u001b[0m 2ms/step - loss: 0.2455 - val_loss: 0.2493\n",
      "Epoch 2/50\n",
      "\u001b[1m11367/11367\u001b[0m \u001b[32m━━━━━━━━━━━━━━━━━━━━\u001b[0m\u001b[37m\u001b[0m \u001b[1m19s\u001b[0m 2ms/step - loss: 0.2447 - val_loss: 0.2491\n",
      "Epoch 3/50\n",
      "\u001b[1m11367/11367\u001b[0m \u001b[32m━━━━━━━━━━━━━━━━━━━━\u001b[0m\u001b[37m\u001b[0m \u001b[1m19s\u001b[0m 2ms/step - loss: 0.2452 - val_loss: 0.2497\n",
      "Epoch 4/50\n",
      "\u001b[1m11367/11367\u001b[0m \u001b[32m━━━━━━━━━━━━━━━━━━━━\u001b[0m\u001b[37m\u001b[0m \u001b[1m19s\u001b[0m 2ms/step - loss: 0.2442 - val_loss: 0.2488\n",
      "Epoch 5/50\n",
      "\u001b[1m11367/11367\u001b[0m \u001b[32m━━━━━━━━━━━━━━━━━━━━\u001b[0m\u001b[37m\u001b[0m \u001b[1m19s\u001b[0m 2ms/step - loss: 0.2451 - val_loss: 0.2489\n",
      "Epoch 6/50\n",
      "\u001b[1m11367/11367\u001b[0m \u001b[32m━━━━━━━━━━━━━━━━━━━━\u001b[0m\u001b[37m\u001b[0m \u001b[1m19s\u001b[0m 2ms/step - loss: 0.2442 - val_loss: 0.2488\n",
      "Epoch 7/50\n",
      "\u001b[1m11367/11367\u001b[0m \u001b[32m━━━━━━━━━━━━━━━━━━━━\u001b[0m\u001b[37m\u001b[0m \u001b[1m19s\u001b[0m 2ms/step - loss: 0.2456 - val_loss: 0.2487\n",
      "Epoch 8/50\n",
      "\u001b[1m11367/11367\u001b[0m \u001b[32m━━━━━━━━━━━━━━━━━━━━\u001b[0m\u001b[37m\u001b[0m \u001b[1m19s\u001b[0m 2ms/step - loss: 0.2449 - val_loss: 0.2488\n",
      "Epoch 9/50\n",
      "\u001b[1m11367/11367\u001b[0m \u001b[32m━━━━━━━━━━━━━━━━━━━━\u001b[0m\u001b[37m\u001b[0m \u001b[1m19s\u001b[0m 2ms/step - loss: 0.2445 - val_loss: 0.2488\n",
      "Epoch 10/50\n",
      "\u001b[1m11367/11367\u001b[0m \u001b[32m━━━━━━━━━━━━━━━━━━━━\u001b[0m\u001b[37m\u001b[0m \u001b[1m19s\u001b[0m 2ms/step - loss: 0.2449 - val_loss: 0.2489\n",
      "Epoch 11/50\n",
      "\u001b[1m11367/11367\u001b[0m \u001b[32m━━━━━━━━━━━━━━━━━━━━\u001b[0m\u001b[37m\u001b[0m \u001b[1m19s\u001b[0m 2ms/step - loss: 0.2460 - val_loss: 0.2490\n",
      "Epoch 12/50\n",
      "\u001b[1m11367/11367\u001b[0m \u001b[32m━━━━━━━━━━━━━━━━━━━━\u001b[0m\u001b[37m\u001b[0m \u001b[1m19s\u001b[0m 2ms/step - loss: 0.2443 - val_loss: 0.2488\n",
      "Epoch 13/50\n",
      "\u001b[1m11367/11367\u001b[0m \u001b[32m━━━━━━━━━━━━━━━━━━━━\u001b[0m\u001b[37m\u001b[0m \u001b[1m19s\u001b[0m 2ms/step - loss: 0.2436 - val_loss: 0.2486\n",
      "Epoch 14/50\n",
      "\u001b[1m11367/11367\u001b[0m \u001b[32m━━━━━━━━━━━━━━━━━━━━\u001b[0m\u001b[37m\u001b[0m \u001b[1m19s\u001b[0m 2ms/step - loss: 0.2459 - val_loss: 0.2489\n",
      "Epoch 15/50\n",
      "\u001b[1m11367/11367\u001b[0m \u001b[32m━━━━━━━━━━━━━━━━━━━━\u001b[0m\u001b[37m\u001b[0m \u001b[1m20s\u001b[0m 2ms/step - loss: 0.2448 - val_loss: 0.2488\n",
      "Epoch 16/50\n",
      "\u001b[1m11367/11367\u001b[0m \u001b[32m━━━━━━━━━━━━━━━━━━━━\u001b[0m\u001b[37m\u001b[0m \u001b[1m21s\u001b[0m 2ms/step - loss: 0.2455 - val_loss: 0.2487\n",
      "Epoch 17/50\n",
      "\u001b[1m11367/11367\u001b[0m \u001b[32m━━━━━━━━━━━━━━━━━━━━\u001b[0m\u001b[37m\u001b[0m \u001b[1m19s\u001b[0m 2ms/step - loss: 0.2453 - val_loss: 0.2487\n",
      "Epoch 18/50\n",
      "\u001b[1m11367/11367\u001b[0m \u001b[32m━━━━━━━━━━━━━━━━━━━━\u001b[0m\u001b[37m\u001b[0m \u001b[1m19s\u001b[0m 2ms/step - loss: 0.2445 - val_loss: 0.2488\n",
      "Epoch 19/50\n",
      "\u001b[1m11367/11367\u001b[0m \u001b[32m━━━━━━━━━━━━━━━━━━━━\u001b[0m\u001b[37m\u001b[0m \u001b[1m19s\u001b[0m 2ms/step - loss: 0.2456 - val_loss: 0.2488\n",
      "Epoch 20/50\n",
      "\u001b[1m11367/11367\u001b[0m \u001b[32m━━━━━━━━━━━━━━━━━━━━\u001b[0m\u001b[37m\u001b[0m \u001b[1m19s\u001b[0m 2ms/step - loss: 0.2448 - val_loss: 0.2487\n",
      "Epoch 21/50\n",
      "\u001b[1m11367/11367\u001b[0m \u001b[32m━━━━━━━━━━━━━━━━━━━━\u001b[0m\u001b[37m\u001b[0m \u001b[1m19s\u001b[0m 2ms/step - loss: 0.2451 - val_loss: 0.2493\n",
      "Epoch 22/50\n",
      "\u001b[1m11367/11367\u001b[0m \u001b[32m━━━━━━━━━━━━━━━━━━━━\u001b[0m\u001b[37m\u001b[0m \u001b[1m19s\u001b[0m 2ms/step - loss: 0.2445 - val_loss: 0.2498\n",
      "Epoch 23/50\n",
      "\u001b[1m11367/11367\u001b[0m \u001b[32m━━━━━━━━━━━━━━━━━━━━\u001b[0m\u001b[37m\u001b[0m \u001b[1m19s\u001b[0m 2ms/step - loss: 0.2443 - val_loss: 0.2490\n",
      "Epoch 24/50\n",
      "\u001b[1m11367/11367\u001b[0m \u001b[32m━━━━━━━━━━━━━━━━━━━━\u001b[0m\u001b[37m\u001b[0m \u001b[1m19s\u001b[0m 2ms/step - loss: 0.2436 - val_loss: 0.2487\n",
      "Epoch 25/50\n",
      "\u001b[1m11367/11367\u001b[0m \u001b[32m━━━━━━━━━━━━━━━━━━━━\u001b[0m\u001b[37m\u001b[0m \u001b[1m19s\u001b[0m 2ms/step - loss: 0.2455 - val_loss: 0.2491\n",
      "Epoch 26/50\n",
      "\u001b[1m11367/11367\u001b[0m \u001b[32m━━━━━━━━━━━━━━━━━━━━\u001b[0m\u001b[37m\u001b[0m \u001b[1m19s\u001b[0m 2ms/step - loss: 0.2451 - val_loss: 0.2489\n",
      "Epoch 27/50\n",
      "\u001b[1m11367/11367\u001b[0m \u001b[32m━━━━━━━━━━━━━━━━━━━━\u001b[0m\u001b[37m\u001b[0m \u001b[1m19s\u001b[0m 2ms/step - loss: 0.2442 - val_loss: 0.2486\n",
      "Epoch 28/50\n",
      "\u001b[1m11367/11367\u001b[0m \u001b[32m━━━━━━━━━━━━━━━━━━━━\u001b[0m\u001b[37m\u001b[0m \u001b[1m21s\u001b[0m 2ms/step - loss: 0.2456 - val_loss: 0.2487\n",
      "Epoch 29/50\n",
      "\u001b[1m11367/11367\u001b[0m \u001b[32m━━━━━━━━━━━━━━━━━━━━\u001b[0m\u001b[37m\u001b[0m \u001b[1m19s\u001b[0m 2ms/step - loss: 0.2443 - val_loss: 0.2487\n",
      "Epoch 30/50\n",
      "\u001b[1m11367/11367\u001b[0m \u001b[32m━━━━━━━━━━━━━━━━━━━━\u001b[0m\u001b[37m\u001b[0m \u001b[1m19s\u001b[0m 2ms/step - loss: 0.2456 - val_loss: 0.2489\n",
      "Epoch 31/50\n",
      "\u001b[1m11367/11367\u001b[0m \u001b[32m━━━━━━━━━━━━━━━━━━━━\u001b[0m\u001b[37m\u001b[0m \u001b[1m19s\u001b[0m 2ms/step - loss: 0.2450 - val_loss: 0.2486\n",
      "Epoch 32/50\n",
      "\u001b[1m11367/11367\u001b[0m \u001b[32m━━━━━━━━━━━━━━━━━━━━\u001b[0m\u001b[37m\u001b[0m \u001b[1m19s\u001b[0m 2ms/step - loss: 0.2444 - val_loss: 0.2488\n",
      "Epoch 33/50\n",
      "\u001b[1m11367/11367\u001b[0m \u001b[32m━━━━━━━━━━━━━━━━━━━━\u001b[0m\u001b[37m\u001b[0m \u001b[1m19s\u001b[0m 2ms/step - loss: 0.2439 - val_loss: 0.2487\n",
      "Epoch 34/50\n",
      "\u001b[1m11367/11367\u001b[0m \u001b[32m━━━━━━━━━━━━━━━━━━━━\u001b[0m\u001b[37m\u001b[0m \u001b[1m19s\u001b[0m 2ms/step - loss: 0.2444 - val_loss: 0.2490\n",
      "Epoch 35/50\n",
      "\u001b[1m11367/11367\u001b[0m \u001b[32m━━━━━━━━━━━━━━━━━━━━\u001b[0m\u001b[37m\u001b[0m \u001b[1m19s\u001b[0m 2ms/step - loss: 0.2457 - val_loss: 0.2488\n",
      "Epoch 36/50\n",
      "\u001b[1m11367/11367\u001b[0m \u001b[32m━━━━━━━━━━━━━━━━━━━━\u001b[0m\u001b[37m\u001b[0m \u001b[1m19s\u001b[0m 2ms/step - loss: 0.2443 - val_loss: 0.2488\n",
      "Epoch 37/50\n",
      "\u001b[1m11367/11367\u001b[0m \u001b[32m━━━━━━━━━━━━━━━━━━━━\u001b[0m\u001b[37m\u001b[0m \u001b[1m19s\u001b[0m 2ms/step - loss: 0.2446 - val_loss: 0.2486\n",
      "Epoch 38/50\n",
      "\u001b[1m11367/11367\u001b[0m \u001b[32m━━━━━━━━━━━━━━━━━━━━\u001b[0m\u001b[37m\u001b[0m \u001b[1m19s\u001b[0m 2ms/step - loss: 0.2444 - val_loss: 0.2489\n",
      "Epoch 39/50\n",
      "\u001b[1m11367/11367\u001b[0m \u001b[32m━━━━━━━━━━━━━━━━━━━━\u001b[0m\u001b[37m\u001b[0m \u001b[1m19s\u001b[0m 2ms/step - loss: 0.2450 - val_loss: 0.2495\n",
      "Epoch 40/50\n",
      "\u001b[1m11367/11367\u001b[0m \u001b[32m━━━━━━━━━━━━━━━━━━━━\u001b[0m\u001b[37m\u001b[0m \u001b[1m19s\u001b[0m 2ms/step - loss: 0.2458 - val_loss: 0.2490\n",
      "Epoch 41/50\n",
      "\u001b[1m11367/11367\u001b[0m \u001b[32m━━━━━━━━━━━━━━━━━━━━\u001b[0m\u001b[37m\u001b[0m \u001b[1m19s\u001b[0m 2ms/step - loss: 0.2435 - val_loss: 0.2492\n",
      "Epoch 42/50\n",
      "\u001b[1m11367/11367\u001b[0m \u001b[32m━━━━━━━━━━━━━━━━━━━━\u001b[0m\u001b[37m\u001b[0m \u001b[1m19s\u001b[0m 2ms/step - loss: 0.2453 - val_loss: 0.2487\n",
      "Epoch 43/50\n",
      "\u001b[1m11367/11367\u001b[0m \u001b[32m━━━━━━━━━━━━━━━━━━━━\u001b[0m\u001b[37m\u001b[0m \u001b[1m19s\u001b[0m 2ms/step - loss: 0.2453 - val_loss: 0.2488\n",
      "Epoch 44/50\n",
      "\u001b[1m11367/11367\u001b[0m \u001b[32m━━━━━━━━━━━━━━━━━━━━\u001b[0m\u001b[37m\u001b[0m \u001b[1m19s\u001b[0m 2ms/step - loss: 0.2446 - val_loss: 0.2491\n",
      "Epoch 45/50\n",
      "\u001b[1m11367/11367\u001b[0m \u001b[32m━━━━━━━━━━━━━━━━━━━━\u001b[0m\u001b[37m\u001b[0m \u001b[1m19s\u001b[0m 2ms/step - loss: 0.2447 - val_loss: 0.2489\n",
      "Epoch 46/50\n",
      "\u001b[1m11367/11367\u001b[0m \u001b[32m━━━━━━━━━━━━━━━━━━━━\u001b[0m\u001b[37m\u001b[0m \u001b[1m19s\u001b[0m 2ms/step - loss: 0.2460 - val_loss: 0.2487\n",
      "Epoch 47/50\n",
      "\u001b[1m11367/11367\u001b[0m \u001b[32m━━━━━━━━━━━━━━━━━━━━\u001b[0m\u001b[37m\u001b[0m \u001b[1m19s\u001b[0m 2ms/step - loss: 0.2452 - val_loss: 0.2488\n",
      "Epoch 48/50\n",
      "\u001b[1m11367/11367\u001b[0m \u001b[32m━━━━━━━━━━━━━━━━━━━━\u001b[0m\u001b[37m\u001b[0m \u001b[1m20s\u001b[0m 2ms/step - loss: 0.2439 - val_loss: 0.2488\n",
      "Epoch 49/50\n",
      "\u001b[1m11367/11367\u001b[0m \u001b[32m━━━━━━━━━━━━━━━━━━━━\u001b[0m\u001b[37m\u001b[0m \u001b[1m19s\u001b[0m 2ms/step - loss: 0.2449 - val_loss: 0.2486\n",
      "Epoch 50/50\n",
      "\u001b[1m11367/11367\u001b[0m \u001b[32m━━━━━━━━━━━━━━━━━━━━\u001b[0m\u001b[37m\u001b[0m \u001b[1m19s\u001b[0m 2ms/step - loss: 0.2443 - val_loss: 0.2487\n"
     ]
    },
    {
     "data": {
      "text/plain": [
       "<keras.src.callbacks.history.History at 0x7c97287b6fb0>"
      ]
     },
     "execution_count": 17,
     "metadata": {},
     "output_type": "execute_result"
    }
   ],
   "source": [
    "ann_model.compile(optimizer='adam', loss='mean_squared_error')\n",
    "ann_model.fit(X_train_scaled, y_train, epochs=50, batch_size=32, validation_split=0.2, verbose=1)\n"
   ]
  },
  {
   "cell_type": "code",
   "execution_count": null,
   "metadata": {
    "trusted": true
   },
   "outputs": [],
   "source": [
    "# Save ANN model\n",
    "ann_model.save('ann_model_2.h5')"
   ]
  },
  {
   "cell_type": "code",
   "execution_count": 18,
   "metadata": {
    "execution": {
     "iopub.execute_input": "2024-05-17T12:51:08.769926Z",
     "iopub.status.busy": "2024-05-17T12:51:08.769593Z",
     "iopub.status.idle": "2024-05-17T12:51:15.134970Z",
     "shell.execute_reply": "2024-05-17T12:51:15.134095Z",
     "shell.execute_reply.started": "2024-05-17T12:51:08.769899Z"
    },
    "trusted": true
   },
   "outputs": [
    {
     "name": "stdout",
     "output_type": "stream",
     "text": [
      "\u001b[1m3553/3553\u001b[0m \u001b[32m━━━━━━━━━━━━━━━━━━━━\u001b[0m\u001b[37m\u001b[0m \u001b[1m4s\u001b[0m 1ms/step\n"
     ]
    }
   ],
   "source": [
    "# Generate ANN predictions\n",
    "ann_residual_predictions = ann_model.predict(X_test_scaled)"
   ]
  },
  {
   "cell_type": "code",
   "execution_count": 19,
   "metadata": {
    "execution": {
     "iopub.execute_input": "2024-05-17T12:51:15.136695Z",
     "iopub.status.busy": "2024-05-17T12:51:15.136389Z",
     "iopub.status.idle": "2024-05-17T12:51:33.892713Z",
     "shell.execute_reply": "2024-05-17T12:51:33.891712Z",
     "shell.execute_reply.started": "2024-05-17T12:51:15.136665Z"
    },
    "trusted": true
   },
   "outputs": [
    {
     "data": {
      "image/png": "[encoded data removed]",
      "text/plain": [
       "<Figure size 1200x600 with 1 Axes>"
      ]
     },
     "metadata": {},
     "output_type": "display_data"
    }
   ],
   "source": [
    "# Plot ANN residual predictions vs actual residuals\n",
    "plt.figure(figsize=(12, 6))\n",
    "plt.plot(y_test.index, y_test, label='Actual Residuals', color='blue')\n",
    "plt.plot(y_test.index, ann_residual_predictions, label='ANN Predicted Residuals', linestyle='--', color='red')\n",
    "plt.title('ANN Model: Actual vs Predicted Residuals')\n",
    "plt.xlabel('Date')\n",
    "plt.ylabel('Residuals')\n",
    "plt.legend()\n",
    "plt.show()"
   ]
  },
  {
   "cell_type": "code",
   "execution_count": 20,
   "metadata": {
    "execution": {
     "iopub.execute_input": "2024-05-17T12:51:33.894360Z",
     "iopub.status.busy": "2024-05-17T12:51:33.894023Z",
     "iopub.status.idle": "2024-05-17T12:51:37.717477Z",
     "shell.execute_reply": "2024-05-17T12:51:37.716482Z",
     "shell.execute_reply.started": "2024-05-17T12:51:33.894329Z"
    },
    "trusted": true
   },
   "outputs": [
    {
     "name": "stdout",
     "output_type": "stream",
     "text": [
      "ARIMA Predictions Shape: (51325164,)\n",
      "ANN Residual Predictions Shape: (113667,)\n",
      "ARIMA Predictions Indices: DatetimeIndex(['2013-12-10', '2013-12-10', '2013-12-10', '2013-12-10',\n",
      "               '2013-12-10'],\n",
      "              dtype='datetime64[ns]', name='date', freq=None)\n",
      "ANN Test Indices: DatetimeIndex(['2013-12-10', '2014-10-21', '2016-01-22', '2014-03-07',\n",
      "               '2017-12-29'],\n",
      "              dtype='datetime64[ns]', name='date', freq=None)\n"
     ]
    }
   ],
   "source": [
    "# Inspect shapes\n",
    "print(f\"ARIMA Predictions Shape: {arima_predictions.loc[X_test.index].shape}\")\n",
    "print(f\"ANN Residual Predictions Shape: {ann_residual_predictions.flatten().shape}\")\n",
    "\n",
    "# Print the first few indices to manually verify alignment\n",
    "print(f\"ARIMA Predictions Indices: {arima_predictions.loc[X_test.index].index[:5]}\")\n",
    "print(f\"ANN Test Indices: {X_test.index[:5]}\")\n"
   ]
  },
  {
   "cell_type": "code",
   "execution_count": 21,
   "metadata": {
    "execution": {
     "iopub.execute_input": "2024-05-17T12:51:37.719063Z",
     "iopub.status.busy": "2024-05-17T12:51:37.718766Z",
     "iopub.status.idle": "2024-05-17T12:51:37.724800Z",
     "shell.execute_reply": "2024-05-17T12:51:37.723701Z",
     "shell.execute_reply.started": "2024-05-17T12:51:37.719037Z"
    },
    "trusted": true
   },
   "outputs": [
    {
     "name": "stdout",
     "output_type": "stream",
     "text": [
      "Test Length: 113667\n"
     ]
    }
   ],
   "source": [
    "# Check the length of the test set to slice the ARIMA predictions accordingly\n",
    "test_length = len(ann_residual_predictions.flatten())\n",
    "print(f\"Test Length: {test_length}\")"
   ]
  },
  {
   "cell_type": "code",
   "execution_count": 22,
   "metadata": {
    "execution": {
     "iopub.execute_input": "2024-05-17T12:51:37.726526Z",
     "iopub.status.busy": "2024-05-17T12:51:37.726198Z",
     "iopub.status.idle": "2024-05-17T12:51:39.663439Z",
     "shell.execute_reply": "2024-05-17T12:51:39.662584Z",
     "shell.execute_reply.started": "2024-05-17T12:51:37.726494Z"
    },
    "trusted": true
   },
   "outputs": [],
   "source": [
    "# Ensure ARIMA predictions are aligned with the test set and slice accordingly\n",
    "arima_test_predictions = arima_predictions.loc[X_test.index][:test_length]"
   ]
  },
  {
   "cell_type": "code",
   "execution_count": 23,
   "metadata": {
    "execution": {
     "iopub.execute_input": "2024-05-17T12:51:39.664875Z",
     "iopub.status.busy": "2024-05-17T12:51:39.664598Z",
     "iopub.status.idle": "2024-05-17T12:51:39.670445Z",
     "shell.execute_reply": "2024-05-17T12:51:39.669342Z",
     "shell.execute_reply.started": "2024-05-17T12:51:39.664845Z"
    },
    "trusted": true
   },
   "outputs": [
    {
     "name": "stdout",
     "output_type": "stream",
     "text": [
      "Adjusted ARIMA Predictions Shape: (113667,)\n",
      "ANN Residual Predictions Shape: (113667,)\n"
     ]
    }
   ],
   "source": [
    "# Verify the new shape\n",
    "print(f\"Adjusted ARIMA Predictions Shape: {arima_test_predictions.shape}\")\n",
    "print(f\"ANN Residual Predictions Shape: {ann_residual_predictions.flatten().shape}\")"
   ]
  },
  {
   "cell_type": "code",
   "execution_count": 24,
   "metadata": {
    "execution": {
     "iopub.execute_input": "2024-05-17T12:51:39.672023Z",
     "iopub.status.busy": "2024-05-17T12:51:39.671775Z",
     "iopub.status.idle": "2024-05-17T12:51:39.678000Z",
     "shell.execute_reply": "2024-05-17T12:51:39.677048Z",
     "shell.execute_reply.started": "2024-05-17T12:51:39.672001Z"
    },
    "trusted": true
   },
   "outputs": [],
   "source": [
    "# Ensure the lengths match\n",
    "if len(arima_test_predictions) != len(ann_residual_predictions.flatten()):\n",
    "    raise ValueError(\"Adjusted lengths of ARIMA test predictions and ANN residual predictions still do not match.\")"
   ]
  },
  {
   "cell_type": "code",
   "execution_count": 25,
   "metadata": {
    "execution": {
     "iopub.execute_input": "2024-05-17T12:51:39.679449Z",
     "iopub.status.busy": "2024-05-17T12:51:39.679116Z",
     "iopub.status.idle": "2024-05-17T12:51:39.685600Z",
     "shell.execute_reply": "2024-05-17T12:51:39.684894Z",
     "shell.execute_reply.started": "2024-05-17T12:51:39.679418Z"
    },
    "trusted": true
   },
   "outputs": [],
   "source": [
    "# Combine ARIMA and ANN predictions\n",
    "combined_predictions = arima_test_predictions.values + ann_residual_predictions.flatten()\n"
   ]
  },
  {
   "cell_type": "code",
   "execution_count": null,
   "metadata": {
    "trusted": true
   },
   "outputs": [],
   "source": [
    "# Print the forecasted values\n",
    "print(\"Forecasted Values from the Hybrid Model:\")\n",
    "for actual, arima_pred, hybrid_pred in zip(y_test[:test_length], arima_test_predictions, combined_predictions):\n",
    "    print(f\"Actual: {actual:.4f}, ARIMA Prediction: {arima_pred:.4f}, Hybrid Prediction: {hybrid_pred:.4f}\")\n"
   ]
  },
  {
   "cell_type": "code",
   "execution_count": 26,
   "metadata": {
    "execution": {
     "iopub.execute_input": "2024-05-17T12:51:39.686981Z",
     "iopub.status.busy": "2024-05-17T12:51:39.686628Z",
     "iopub.status.idle": "2024-05-17T12:51:39.698758Z",
     "shell.execute_reply": "2024-05-17T12:51:39.697792Z",
     "shell.execute_reply.started": "2024-05-17T12:51:39.686957Z"
    },
    "trusted": true
   },
   "outputs": [
    {
     "name": "stdout",
     "output_type": "stream",
     "text": [
      "Mean Squared Error (MSE): 0.2949\n",
      "Mean Absolute Error (MAE): 0.4216\n",
      "Mean Absolute Percentage Error (MAPE): 4.4070\n",
      "Root Mean Squared Error (RMSE): 0.5430\n"
     ]
    }
   ],
   "source": [
    "# Evaluate the combined model\n",
    "mse = mean_squared_error(y_test[:test_length], combined_predictions)\n",
    "mae = mean_absolute_error(y_test[:test_length], combined_predictions)\n",
    "mape = mean_absolute_percentage_error(y_test[:test_length], combined_predictions)\n",
    "rmse = np.sqrt(mse)\n",
    "\n",
    "print(f\"Mean Squared Error (MSE): {mse:.4f}\")\n",
    "print(f\"Mean Absolute Error (MAE): {mae:.4f}\")\n",
    "print(f\"Mean Absolute Percentage Error (MAPE): {mape:.4f}\")\n",
    "print(f\"Root Mean Squared Error (RMSE): {rmse:.4f}\")\n"
   ]
  },
  {
   "cell_type": "code",
   "execution_count": 27,
   "metadata": {
    "execution": {
     "iopub.execute_input": "2024-05-17T12:51:39.700354Z",
     "iopub.status.busy": "2024-05-17T12:51:39.700030Z",
     "iopub.status.idle": "2024-05-17T12:52:07.405340Z",
     "shell.execute_reply": "2024-05-17T12:52:07.404441Z",
     "shell.execute_reply.started": "2024-05-17T12:51:39.700328Z"
    },
    "trusted": true
   },
   "outputs": [
    {
     "data": {
      "image/png": "[encoded data removed]",
      "text/plain": [
       "<Figure size 1200x600 with 1 Axes>"
      ]
     },
     "metadata": {},
     "output_type": "display_data"
    }
   ],
   "source": [
    "# Plot the combined hybrid model predictions vs actual values\n",
    "plt.figure(figsize=(12, 6))\n",
    "plt.plot(y_test[:test_length].index, y_test[:test_length], label='Actual Values', color='blue')\n",
    "\n",
    "plt.plot(y_test[:test_length].index, combined_predictions, label='Hybrid Model Predictions', linestyle='--', color='green')\n",
    "plt.plot(y_test[:test_length].index, arima_test_predictions, label='ARIMA Predictions', linestyle='--', color='orange')\n",
    "plt.title('Hybrid Model: Actual vs Predicted Values')\n",
    "plt.xlabel('Date')\n",
    "plt.ylabel('Differenced Close Price')\n",
    "plt.legend()\n",
    "plt.show()"
   ]
  },
  {
   "cell_type": "code",
   "execution_count": null,
   "metadata": {
    "execution": {
     "iopub.status.busy": "2024-05-17T08:27:25.468285Z",
     "iopub.status.idle": "2024-05-17T08:27:25.468775Z",
     "shell.execute_reply": "2024-05-17T08:27:25.468552Z",
     "shell.execute_reply.started": "2024-05-17T08:27:25.468530Z"
    },
    "trusted": true
   },
   "outputs": [],
   "source": [
    "with open('hybrid_model_predictions.pkl', 'wb') as f:\n",
    "    pickle.dump(combined_predictions, f)"
   ]
  },
  {
   "cell_type": "code",
   "execution_count": null,
   "metadata": {},
   "outputs": [],
   "source": []
  },
  {
   "cell_type": "code",
   "execution_count": null,
   "metadata": {},
   "outputs": [],
   "source": []
  },
  {
   "cell_type": "code",
   "execution_count": null,
   "metadata": {},
   "outputs": [],
   "source": []
  },
  {
   "cell_type": "code",
   "execution_count": null,
   "metadata": {},
   "outputs": [],
   "source": []
  },
  {
   "cell_type": "code",
   "execution_count": null,
   "metadata": {},
   "outputs": [],
   "source": []
  }
 ],
 "metadata": {
  "kaggle": {
   "accelerator": "nvidiaTeslaT4",
   "dataSources": [
    {
     "datasetId": 4968752,
     "sourceId": 8360605,
     "sourceType": "datasetVersion"
    },
    {
     "datasetId": 4987419,
     "sourceId": 8385651,
     "sourceType": "datasetVersion"
    }
   ],
   "dockerImageVersionId": 30698,
   "isGpuEnabled": true,
   "isInternetEnabled": false,
   "language": "python",
   "sourceType": "notebook"
  },
  "kernelspec": {
   "display_name": "Python 3",
   "language": "python",
   "name": "python3"
  },
  "language_info": {
   "codemirror_mode": {
    "name": "ipython",
    "version": 3
   },
   "file_extension": ".py",
   "mimetype": "text/x-python",
   "name": "python",
   "nbconvert_exporter": "python",
   "pygments_lexer": "ipython3",
   "version": "3.10.13"
  }
 },
 "nbformat": 4,
 "nbformat_minor": 5
}
